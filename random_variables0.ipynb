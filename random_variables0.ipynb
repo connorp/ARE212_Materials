{
 "cells": [
  {
   "cell_type": "markdown",
   "metadata": {},
   "source": [
    "# Convolving Two Discrete Random Variables"
   ]
  },
  {
   "cell_type": "markdown",
   "metadata": {},
   "source": [
    "The distinguishing feature of variables in a field such as the\n",
    "   reals or the complex plane is their *value*; the distinguishing\n",
    "   feature of random variables is their *distribution*.  The `python`\n",
    "   package `scipy.stats` is well-engineered and offers many different\n",
    "   distributions, and tools to construct others, while the package\n",
    "   `pacal` is perhaps less well engineered, but defines arithmetic\n",
    "   operations over random variables which allows for more elegant\n",
    "   semantics.\n",
    "\n",
    "There are two main classes of random variables to consider: discrete\n",
    "and continuous.  The distinction is worth drawing because different\n",
    "classes are handled differently in many mathematical operations.\n",
    "\n",
    "Here we instantiate two discrete random variables."
   ]
  },
  {
   "cell_type": "code",
   "execution_count": 3,
   "metadata": {},
   "outputs": [],
   "source": [
    "from scipy.stats import distributions as iid\n",
    "\n",
    "Omega1 = (-1,0,1)\n",
    "Pr1 = (1/3.,1/2.,1/6.)\n",
    "Omega2 = (-10, -1, -.5, 0, .3, 1)\n",
    "Pr2 = (1/10, 2/10, 1/10, 3/10, 2/10, 1/10)\n",
    "\n",
    "R = iid.rv_discrete(values=(Omega1, Pr1))\n",
    "S = iid.rv_discrete(values=(Omega2, Pr2))"
   ]
  },
  {
   "cell_type": "markdown",
   "metadata": {},
   "source": [
    "We now create a subclass of `scipy.stats.distributions.rv_discrete` to convolve two discrete random variables. "
   ]
  },
  {
   "cell_type": "code",
   "execution_count": 12,
   "metadata": {},
   "outputs": [],
   "source": [
    "class ConvolveDiscrete(iid.rv_discrete):\n",
    "\n",
    "    \"\"\"Convolve (add) two discrete rv s,\n",
    "       returning the resulting cdf.\"\"\"\n",
    "\n",
    "    def __init__(self, f, s):\n",
    "        self.rv1 = f\n",
    "        self.rv2 = s\n",
    "        super(ConvolveDiscrete, self).__init__(name=\"ConvolveDiscrete\")\n",
    "        \n",
    "    def _cdf(self, z):\n",
    "        F = 0\n",
    "        r = self.rv1\n",
    "        s = self.rv2\n",
    "        \n",
    "        for p, val in zip(s.pk, s.xk):\n",
    "            F = F + p * R.cdf(z - val)\n",
    "        return F\n",
    "\n",
    "    def _pdf(self, z):\n",
    "        f = 0\n",
    "        r = self.rv1\n",
    "        s = self.rv2\n",
    "        \n",
    "        for p, val in zip(s.pk, s.xk):\n",
    "            f = f + p * R.pmf(z - val)\n",
    "        return f"
   ]
  },
  {
   "cell_type": "markdown",
   "metadata": {},
   "source": [
    "We can then use this class to explore the properties of this convolved random variable. "
   ]
  },
  {
   "cell_type": "code",
   "execution_count": 13,
   "metadata": {},
   "outputs": [
    {
     "name": "stdout",
     "output_type": "stream",
     "text": [
      "0.7333333333333333 0.3333333333333333\n"
     ]
    }
   ],
   "source": [
    "# Create new convolved rv:\n",
    "y = ConvolveDiscrete(R, S)\n",
    "\n",
    "print(y.cdf(0), y.pmf(0))"
   ]
  }
 ],
 "metadata": {
  "kernelspec": {
   "display_name": "Python 3",
   "language": "python",
   "name": "python3"
  },
  "language_info": {
   "codemirror_mode": {
    "name": "ipython",
    "version": 3
   },
   "file_extension": ".py",
   "mimetype": "text/x-python",
   "name": "python",
   "nbconvert_exporter": "python",
   "pygments_lexer": "ipython3",
   "version": "3.7.6"
  },
  "org": null
 },
 "nbformat": 4,
 "nbformat_minor": 4
}
