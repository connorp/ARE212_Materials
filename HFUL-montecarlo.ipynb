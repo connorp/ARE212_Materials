{
 "cells": [
  {
   "cell_type": "markdown",
   "metadata": {},
   "source": [
    "# HFUL Estimator\n",
    "\n",
    "We define the function that calculates the HFUL estimator, and evaluate its properties relative to OLS and instrumental variables estimators. \n",
    "\n",
    "## Estimator Construction\n",
    "\n",
    "We calculate the projection matrix of $Z$,\n",
    "\n",
    "$$P = Z(Z'Z)^{-1}Z'$$\n",
    "\n",
    "construct $\\bar{X} = [y, X]$, and then calculate the matrix $A$: \n",
    "\n",
    "$$A = (\\bar{X}'\\bar{X})^{-1}(\\bar{X}'P\\bar{X} - \\bar{X}'diag(P)\\bar{X})$$\n",
    "\n",
    "where $diag(P)$ is the matrix $P$ with the off-diagonal elements set to $0$. Recall that these are equivalent:\n",
    "\n",
    "$$\\bar{X}'diag(P)\\bar{X} = \\sum_i^n P_{ii}\\bar{X}'\\bar{X}$$\n",
    "\n",
    "We find the eigenvalues of this matrix $A$, and define $\\tilde{\\alpha}$ as the smallest of the eigenvalues, can construct \n",
    "\n",
    "$$\\hat{\\alpha} = \\frac{\\tilde{\\alpha} - (1-\\tilde{\\alpha})/n}{1 - (1-\\tilde{\\alpha})/n}$$\n",
    "\n",
    "We then use this result to construct the HFUL estimator, \n",
    "\n",
    "$$\\hat{\\beta}_{HFUL} = (X'PX - X'diag(P)X - \\hat{\\alpha}X'X)^{-1}(X'Py - X'diag(P)y - \\hat{\\alpha}X'y)$$"
   ]
  },
  {
   "cell_type": "code",
   "execution_count": 1,
   "metadata": {},
   "outputs": [],
   "source": [
    "import statistics as stats\n",
    "import numpy as np\n",
    "import scipy.linalg as la\n",
    "import matplotlib.pyplot as plt\n",
    "\n",
    "def hful(y, X, Z):\n",
    "    \"\"\"HFUL estimator\"\"\"\n",
    "    P = Z @ la.inv(Z.T @ Z) @ Z.T\n",
    "    # Extract the diagonal of P, make it a diagonal matrix\n",
    "    P_diag = np.diag(P.diagonal())\n",
    "    Xbar = np.column_stack((y, X))\n",
    "    \n",
    "    # construct the components of the A matrix\n",
    "    barXXinv = la.inv(Xbar.T @ Xbar)\n",
    "    barXPX = Xbar.T @ P @ Xbar\n",
    "    barXdiagPX = Xbar.T @ P_diag @ Xbar\n",
    "    \n",
    "    # calculate the A matrix and take its smallest eigenvalue; calculate alphahat\n",
    "    alphatilde = min(np.linalg.eig(barXXinv @ (barXPX - barXdiagPX))[0])\n",
    "    alphahat = (alphatilde - (1-alphatilde)/n) / (1 - (1-alphatilde)/n)\n",
    "    \n",
    "    # construct the components of betaHat\n",
    "    XXinv = X.T @ P @ X - X.T @ P_diag @ X - alphahat * X.T @ X\n",
    "    Xy = X.T @ P @ y - X.T @ P_diag @ y - alphahat * X.T @ y\n",
    "    \n",
    "    return la.inv(XXinv) @ Xy"
   ]
  },
  {
   "cell_type": "markdown",
   "metadata": {},
   "source": [
    "## Estimator Evaluation\n",
    "\n",
    "We now perform a monte-carlo analysis to compare the results of our estimators. "
   ]
  },
  {
   "cell_type": "code",
   "execution_count": 2,
   "metadata": {},
   "outputs": [],
   "source": [
    "np.random.seed(1868)\n",
    "iterations = 1000\n",
    "beta_endo = -0.5\n",
    "n = 100\n",
    "intercept = np.ones(n)\n",
    "\n",
    "# empty lists to hold our parameter estimates\n",
    "OLS_results = []\n",
    "IV_results_one = []\n",
    "IV_results_many = []\n",
    "HFUL_results_one = []\n",
    "HFUL_results_many = []\n",
    "\n",
    "for i in range(iterations):\n",
    "    # Generate some exogenous variables\n",
    "    x1 = 5 * np.random.random(n) - 2\n",
    "    x2 = 2 * np.random.random(n)\n",
    "    x3 = np.random.random(n) / 3 - 0.1\n",
    "    x4 = 0.1 * np.random.random(n)\n",
    "    x5 = 4 * np.random.random(n) - 3\n",
    "    x6 = -1 * np.random.random(n)\n",
    "    \n",
    "    # Generate our endogenous variable endX, depending on x2 thru x6\n",
    "    endX = 5 - 5*x2 + x3 - 5*x4 + 0.2*x5 + 3.33*x6 + 3 * np.random.randn(n)\n",
    "    \n",
    "    # Generate the outcome value y, predicted by x1, endX, and x2 (unobserved)\n",
    "    # note heteroskedasticity via x1\n",
    "    y = -4 + 0.1*x1 + beta_endo*endX + 2*x2 + 2*np.random.randn(n)*x1\n",
    "    # if we used OLS, we would regress y on x1 and endX, but x2 is unobserved\n",
    "    # so the estimator for endX would be biased\n",
    "\n",
    "    # build the X matrix\n",
    "    X = np.column_stack((intercept, x1, endX))\n",
    "    \n",
    "    # Single instrument Z matrix\n",
    "    Z_one = np.column_stack((intercept, x1, x3))\n",
    "    \n",
    "    # multiple instruments Z matrix\n",
    "    Z_many = np.column_stack((intercept, x1, x3, x4, x5, x6))\n",
    "    \n",
    "    # OLS estimate for the endogenous variable\n",
    "    betaHat_OLS = np.linalg.lstsq(X, y, rcond=None)[0]\n",
    "    OLS_results.append(betaHat_OLS[2])\n",
    "    \n",
    "    # IV estimate for the endogenous variable, one instrument\n",
    "    betaHat_IV_one = np.linalg.lstsq(Z_one.T@X, Z_one.T@y, rcond=None)[0]\n",
    "    IV_results_one.append(betaHat_IV_one[2])\n",
    "    \n",
    "    # IV estimate for the endogenous variable, many instruments\n",
    "    betaHat_IV_many = np.linalg.lstsq(Z_many.T@X, Z_many.T@y, rcond=None)[0]\n",
    "    IV_results_many.append(betaHat_IV_many[2])\n",
    "    \n",
    "    # HFUL estimate for the endogenous variable, one instrument\n",
    "    HFUL_results_one.append(hful(y, X, Z_one)[2])\n",
    "    \n",
    "    # HFUL estimate for the endogenous variable, one instrument\n",
    "    HFUL_results_many.append(hful(y, X, Z_many)[2])\n",
    "    "
   ]
  },
  {
   "cell_type": "markdown",
   "metadata": {},
   "source": [
    "In the following histograms, the black line indicates the mean of the parameter estimates, while the red line indicates the true value of the parameter."
   ]
  },
  {
   "cell_type": "code",
   "execution_count": 3,
   "metadata": {},
   "outputs": [],
   "source": [
    "def graph_hist(data, caption):\n",
    "    \"\"\"Plot a histogram of the relevant data\"\"\"\n",
    "    plt.hist(data, bins='auto')\n",
    "    plt.title(caption)\n",
    "    plt.axvline(stats.mean(data), color='k', linestyle='dashed', linewidth=1)\n",
    "    plt.axvline(beta_endo, color='r', linestyle='dashed', linewidth=1)\n",
    "    plt.show()\n",
    "    print(\"Estimate:\", stats.mean(data))"
   ]
  },
  {
   "cell_type": "markdown",
   "metadata": {},
   "source": [
    "### OLS Results\n",
    "\n",
    "Note the biased OLS results."
   ]
  },
  {
   "cell_type": "code",
   "execution_count": 4,
   "metadata": {},
   "outputs": [
    {
     "data": {
      "image/png": "[encoded data removed]",
      "text/plain": [
       "<Figure size 432x288 with 1 Axes>"
      ]
     },
     "metadata": {
      "needs_background": "light"
     },
     "output_type": "display_data"
    },
    {
     "name": "stdout",
     "output_type": "stream",
     "text": [
      "Estimate: -0.6815520904198772\n"
     ]
    }
   ],
   "source": [
    "graph_hist(OLS_results, r\"Histogram of $\\hat{\\beta}_{OLS}$ Estimates\")"
   ]
  },
  {
   "cell_type": "markdown",
   "metadata": {},
   "source": [
    "### Estimators with One Instrument\n",
    "\n",
    "#### IV with One Instrument\n",
    "\n",
    "This result is particularly hilariously bad."
   ]
  },
  {
   "cell_type": "code",
   "execution_count": 10,
   "metadata": {},
   "outputs": [
    {
     "data": {
      "image/png": "[encoded data removed]",
      "text/plain": [
       "<Figure size 432x288 with 1 Axes>"
      ]
     },
     "metadata": {
      "needs_background": "light"
     },
     "output_type": "display_data"
    },
    {
     "name": "stdout",
     "output_type": "stream",
     "text": [
      "Estimate: -1.5792055610332294\n",
      "Standard distribution of the IV results: 36.599513235656595\n"
     ]
    }
   ],
   "source": [
    "graph_hist(IV_results_one, r\"Histogram of $\\hat{\\beta}_{IV}$ Estimates, One Instrument\")\n",
    "print(\"Standard distribution of the IV results:\", stats.stdev(IV_results_one))"
   ]
  },
  {
   "cell_type": "markdown",
   "metadata": {},
   "source": [
    "#### HFUL with One Instrument\n",
    "\n",
    "At these sample sizes, HFUL isn't doing incredibly well, but it is putting positive density at the true value. "
   ]
  },
  {
   "cell_type": "code",
   "execution_count": 6,
   "metadata": {},
   "outputs": [
    {
     "data": {
      "image/png": "[encoded data removed]",
      "text/plain": [
       "<Figure size 432x288 with 1 Axes>"
      ]
     },
     "metadata": {
      "needs_background": "light"
     },
     "output_type": "display_data"
    },
    {
     "name": "stdout",
     "output_type": "stream",
     "text": [
      "Estimate: -0.6743933659199532\n"
     ]
    }
   ],
   "source": [
    "graph_hist(HFUL_results_one, r\"Histogram of $\\hat{\\beta}_{HFUL}$ Estimates, One Instrument\")"
   ]
  },
  {
   "cell_type": "markdown",
   "metadata": {},
   "source": [
    "### Estimators with Multiple Instruments\n",
    "\n",
    "#### IV with Multiple Instruments\n",
    "\n",
    "With more instruments, IV has gotten its act together from its embarrassing showing earlier, but the tails are still rather wide."
   ]
  },
  {
   "cell_type": "code",
   "execution_count": 7,
   "metadata": {},
   "outputs": [
    {
     "data": {
      "image/png": "[encoded data removed]",
      "text/plain": [
       "<Figure size 432x288 with 1 Axes>"
      ]
     },
     "metadata": {
      "needs_background": "light"
     },
     "output_type": "display_data"
    },
    {
     "name": "stdout",
     "output_type": "stream",
     "text": [
      "Estimate: -0.5712320142534352\n"
     ]
    }
   ],
   "source": [
    "graph_hist(IV_results_many, r\"Histogram of $\\hat{\\beta}_{IV}$ Estimates, Many Instruments\")"
   ]
  },
  {
   "cell_type": "markdown",
   "metadata": {},
   "source": [
    "#### HFUL with Many Instruments\n",
    "\n",
    "HFUL estimate with multiple instruments is the closest to the true parameter value, and has a fairly narrow distribution around the true value."
   ]
  },
  {
   "cell_type": "code",
   "execution_count": 8,
   "metadata": {},
   "outputs": [
    {
     "data": {
      "image/png": "[encoded data removed]",
      "text/plain": [
       "<Figure size 432x288 with 1 Axes>"
      ]
     },
     "metadata": {
      "needs_background": "light"
     },
     "output_type": "display_data"
    },
    {
     "name": "stdout",
     "output_type": "stream",
     "text": [
      "Estimate: -0.5569221675607852\n"
     ]
    }
   ],
   "source": [
    "graph_hist(HFUL_results_many, r\"Histogram of $\\hat{\\beta}_{HFUL}$ Estimates, Many Instruments\")"
   ]
  }
 ],
 "metadata": {
  "kernelspec": {
   "display_name": "Python 3",
   "language": "python",
   "name": "python3"
  },
  "language_info": {
   "codemirror_mode": {
    "name": "ipython",
    "version": 3
   },
   "file_extension": ".py",
   "mimetype": "text/x-python",
   "name": "python",
   "nbconvert_exporter": "python",
   "pygments_lexer": "ipython3",
   "version": "3.7.6"
  }
 },
 "nbformat": 4,
 "nbformat_minor": 4
}
