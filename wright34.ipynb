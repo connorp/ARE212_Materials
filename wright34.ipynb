{
 "cells": [
  {
   "cell_type": "markdown",
   "metadata": {},
   "source": [
    "### Quantities & Prices\n",
    "\n"
   ]
  },
  {
   "cell_type": "markdown",
   "metadata": {},
   "source": [
    "Suppose for some good we observe data on total quantity $q$ exchanged\n",
    "between buyers & sellers, and the prices $p$ at which these exchanges\n",
    "took place.  \n",
    "\n",
    "The following code creates a data generating process for $(q,p)$ based\n",
    "on Goldberger (1972), who in turn is describing the work of Sewall\n",
    "Wright (1934).  The demand-supply system is\n",
    "$$\n",
    "   q_D = \\alpha p + u\\qquad q_S = \\beta p + v\\qquad q_D = q_S,\n",
    "$$\n",
    "where $(u,v)$ are unobserved shocks to demand and supply,\n",
    "respectively. \n",
    "\n"
   ]
  },
  {
   "cell_type": "code",
   "execution_count": 1,
   "metadata": {},
   "outputs": [],
   "source": [
    "import statistics as stats\n",
    "import numpy as np\n",
    "import pandas as pd\n",
    "from scipy.stats import distributions as iid\n",
    "\n",
    "# Structural parameters;\n",
    "α = -1\n",
    "β = 2\n",
    "mu_D = 2\n",
    "mu_S = -1\n",
    "sigma_D = 1/2\n",
    "sigma_S = 1/3\n",
    "\n",
    "# u,v assumed independent\n",
    "u = iid.norm(loc=mu_D, scale=sigma_D)  # Demand shocks\n",
    "v = iid.norm(loc=mu_S, scale=sigma_S)  # Supply shocks\n",
    "\n",
    "# Reduced form coefficients\n",
    "π = [[-β/(α - β), -1/(α - β)],\n",
    "     [ α/(α - β), 1/(α - β)]]\n",
    "\n",
    "# Generate N realizations of system\n",
    "# Outcomes Y have columns (q,p)\n",
    "N = 10000\n",
    "\n",
    "# Arrange shocks into an Nx2 matrix\n",
    "U = np.c_[u.rvs(N), v.rvs(N)]\n",
    "\n",
    "# Matrix product gives [q,p]; label by putting into df\n",
    "df = pd.DataFrame(U@π,columns=['q','p'])\n",
    "Udf = pd.DataFrame(U,columns=['u','v']) # For future reference"
   ]
  },
  {
   "cell_type": "markdown",
   "metadata": {},
   "source": [
    "#### Controlling Price\n",
    "\n"
   ]
  },
  {
   "cell_type": "markdown",
   "metadata": {},
   "source": [
    "Consider the question: what would expected demand be if we *fixed*\n",
    "    the price at $p_0$?  Expected supply?\n",
    "    \n",
    "If I were feeling energized and had my math brain on, I would take the expectation of our supply and demand functions to yield functions of p, and then solve for that value. However, it's the afternoon, so instead I will generate a large number of sample estimates and take the sample average."
   ]
  },
  {
   "cell_type": "code",
   "execution_count": 2,
   "metadata": {},
   "outputs": [
    {
     "data": {
      "text/plain": [
       "array([0.50217967, 2.00224257])"
      ]
     },
     "execution_count": 2,
     "metadata": {},
     "output_type": "execute_result"
    }
   ],
   "source": [
    "p_0 = 1.5\n",
    "q_D = α * p_0 + Udf['u']\n",
    "q_S = β * p_0 + Udf['v']\n",
    "sample_quantities = np.column_stack((q_D, q_S))\n",
    "np.apply_along_axis(stats.mean, 0, sample_quantities)"
   ]
  },
  {
   "cell_type": "markdown",
   "metadata": {},
   "source": [
    "The result above gives the expected value of $q_D$ and $q_S$ if we set $p = p_0 = 1.5$. By choosing a different value of $p_0$, we can approximate supply and demand in a similar manner. \n",
    "\n",
    "Okay, on second thought, here's a crack at the expectation. \n",
    "\n",
    "$$\n",
    "\\begin{aligned}\n",
    "E[q_D] \n",
    "&= \\int q_D(p, u) dF_u \\\\\n",
    "&= \\int (\\alpha p + u) dF_u \\\\\n",
    "&= \\alpha p \\int dF_u + \\int u dF_u \\\\\n",
    "&= \\alpha p + E[u]\n",
    "\\end{aligned}\n",
    "$$\n",
    "\n",
    "And a similar process derives $E[q_S] = \\beta p + E[v]$. So we can now find the expected values given our $p = p_0 = 1.5$. "
   ]
  },
  {
   "cell_type": "code",
   "execution_count": 6,
   "metadata": {},
   "outputs": [
    {
     "data": {
      "text/plain": [
       "(0.5, 2.0)"
      ]
     },
     "execution_count": 6,
     "metadata": {},
     "output_type": "execute_result"
    }
   ],
   "source": [
    "e_q_D = α * p_0 + mu_D\n",
    "e_q_S = β * p_0 + mu_S\n",
    "(e_q_D, e_q_S)"
   ]
  },
  {
   "cell_type": "markdown",
   "metadata": {},
   "source": [
    "#### Average Causal Effect of a Change in Price\n",
    "\n"
   ]
  },
  {
   "cell_type": "markdown",
   "metadata": {},
   "source": [
    "This approach I'm not actually super sure how to proceed with; we mostly just handwaved at it in class. Maybe we can talk thru it in a bit more detail? "
   ]
  },
  {
   "cell_type": "markdown",
   "metadata": {},
   "source": [
    "#### Price Change /Ceteris Paribus/\n",
    "\n"
   ]
  },
  {
   "cell_type": "markdown",
   "metadata": {},
   "source": [
    "Suppose we *observe* prices and quantities $(p_0,q_0)$.  How *would*\n",
    "    we expect the quantity demanded to change if prices were instead\n",
    "    fixed at $p_1$, *ceteris paribus*?\n",
    "\n",
    "If we observe a fixed market equilibrium, given we know the functional form of supply and demand, we can use these values of $p_0$ and $q_0$ to determine $u_0$ and $v_0$. If we then fix a new price $p_1$, we can then solve supply and demand with our fixed price, $u_0$, and $v_0$. Suppose our realization of $p_0$ and $q_0$ yields the following values for $u_0$, and $v_0$:"
   ]
  },
  {
   "cell_type": "code",
   "execution_count": 4,
   "metadata": {},
   "outputs": [
    {
     "data": {
      "text/plain": [
       "u    1.709908\n",
       "v   -0.907506\n",
       "Name: 1, dtype: float64"
      ]
     },
     "execution_count": 4,
     "metadata": {},
     "output_type": "execute_result"
    }
   ],
   "source": [
    "Udf.loc[1, ]"
   ]
  },
  {
   "cell_type": "markdown",
   "metadata": {},
   "source": [
    "If we then let $p_1 = 1.5$, we can solve for our new demand and supply quantities:"
   ]
  },
  {
   "cell_type": "code",
   "execution_count": 5,
   "metadata": {},
   "outputs": [
    {
     "data": {
      "text/plain": [
       "(0.2099081624232264, 3.907506128534863)"
      ]
     },
     "execution_count": 5,
     "metadata": {},
     "output_type": "execute_result"
    }
   ],
   "source": [
    "p_1 = 1.5\n",
    "q_D_cp = α * p_1 + Udf.loc[1, 'u']\n",
    "q_S_cp = β * p_1 - Udf.loc[1, 'v']\n",
    "(q_D_cp, q_S_cp)"
   ]
  }
 ],
 "metadata": {
  "kernelspec": {
   "display_name": "Python 3",
   "language": "python",
   "name": "python3"
  },
  "language_info": {
   "codemirror_mode": {
    "name": "ipython",
    "version": 3
   },
   "file_extension": ".py",
   "mimetype": "text/x-python",
   "name": "python",
   "nbconvert_exporter": "python",
   "pygments_lexer": "ipython3",
   "version": "3.6.9"
  },
  "org": null
 },
 "nbformat": 4,
 "nbformat_minor": 1
}
