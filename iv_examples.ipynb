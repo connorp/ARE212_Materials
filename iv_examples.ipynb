{
 "cells": [
  {
   "cell_type": "markdown",
   "metadata": {},
   "source": [
    "## Instrumental Variables in Canonical Demand & Supply Model\n",
    "\n"
   ]
  },
  {
   "cell_type": "markdown",
   "metadata": {},
   "source": [
    "### Data-Generating Process\n",
    "\n"
   ]
  },
  {
   "cell_type": "code",
   "execution_count": 24,
   "metadata": {},
   "outputs": [],
   "source": [
    "import numpy as np\n",
    "import pandas as pd\n",
    "from scipy.stats import distributions as iid\n",
    "\n",
    "# Unobservable component of supply shock z\n",
    "# Can have any distribution one pleases\n",
    "w = iid.beta(1,2,loc=-iid.beta(1,2).mean()) # Centered for convenience\n",
    "\n",
    "# Structural parameters;\n",
    "(alpha,beta) = (-1,2)     \n",
    "sigma = {'u':1/2,'v':1/3}\n",
    "mu = {'u':2,'v':-1}\n",
    "\n",
    "# u,v assumed independent\n",
    "u = iid.norm(loc=mu['u'], scale=sigma['u'])  # Demand shocks\n",
    "v = iid.norm(loc=mu['v'], scale=sigma['v'])  # Supply shocks\n",
    "\n",
    "# Reduced form coefficients\n",
    "pi = [[-beta/(alpha - beta), -1/(alpha - beta)],\n",
    "     [ alpha/(alpha - beta), 1/(alpha - beta)]]\n",
    "\n",
    "# Generate N realizations of system\n",
    "# Outcomes have columns (p,q,z)\n",
    "def wright_dgp(N):\n",
    "    \"\"\"\n",
    "    Generate data consistent with Wright (1934) hog demand and supply.\n",
    "\n",
    "    Returns a pandas dataframe with N observations on (p,q,z), where\n",
    "    z is understood to be a supply shock.\n",
    "    \"\"\"\n",
    "    \n",
    "    # Arrange shocks into an Nx2 matrix\n",
    "    U = np.c_[u.rvs(N), v.rvs(N)]\n",
    "\n",
    "    # Matrix product gives [q,p]; label by putting into df\n",
    "    df = pd.DataFrame(U@pi,columns=['q','p'])\n",
    "\n",
    "    Udf = pd.DataFrame(U,columns=['u','v']) # For future reference\n",
    "\n",
    "    # Relate v and z (need not be linear)\n",
    "    unobserved_shock = w.rvs(N)/10\n",
    "    df['z'] = (1-unobserved_shock)*np.exp(4*Udf['v'] - unobserved_shock)\n",
    "    df['Constant'] = 1\n",
    "\n",
    "    # Include a constant term in both X & Z\n",
    "    return df[['q']],df[['Constant','p']],df[['Constant','z']]"
   ]
  },
  {
   "cell_type": "markdown",
   "metadata": {},
   "source": [
    "### Estimation\n",
    "\n"
   ]
  },
  {
   "cell_type": "markdown",
   "metadata": {},
   "source": [
    "Let&rsquo;s write some code to estimate the parameters of the regression\n",
    "   model using the estimator devised above (the &ldquo;simple IV estimator&rdquo;):\n",
    "\n"
   ]
  },
  {
   "cell_type": "code",
   "execution_count": 25,
   "metadata": {},
   "outputs": [
    {
     "name": "stdout",
     "output_type": "stream",
     "text": [
      "[[ 1.91201345]\n",
      " [-0.91170353]]\n"
     ]
    }
   ],
   "source": [
    "import numpy as np\n",
    "\n",
    "def draw_b(N,dgp):\n",
    "    \"\"\"\n",
    "    Generate a random variate $b$ from a sample of $N$ draws from the Wright (1934) DGP.\n",
    "    \"\"\"\n",
    "    y,X,Z =  dgp(N)\n",
    "\n",
    "    return np.linalg.solve(Z.T@X,Z.T@y) # Solve normal eqs\n",
    "\n",
    "b = draw_b(10000,wright_dgp)\n",
    "\n",
    "print(b)"
   ]
  },
  {
   "cell_type": "markdown",
   "metadata": {},
   "source": [
    "### Inference\n",
    "\n"
   ]
  },
  {
   "cell_type": "markdown",
   "metadata": {},
   "source": [
    "Now consider the point that the estimator $b$ is a random variable.\n",
    " Under the assumptions of the *model* a Central Limit Theorem applies,\n",
    " so it&rsquo;s asymptotically normal.  But in any finite sample the just\n",
    " identified linear IV estimator can be feisty.  Let&rsquo;s explore using a\n",
    " little Monte Carlo experiment.  Let&rsquo;s begin by constructing a\n",
    " slightly more transparent data-generating process, in which $Z$ and\n",
    " $X$ have a linear relationship:\n",
    "\n"
   ]
  },
  {
   "cell_type": "code",
   "execution_count": 26,
   "metadata": {},
   "outputs": [],
   "source": [
    "from scipy.stats import distributions as iid\n",
    "\n",
    "def linear_dgp(N,beta,gamma,pi,sigma_u,sigma_v):\n",
    "    u = iid.norm(scale=sigma_u).rvs(N)\n",
    "    v = iid.norm(scale=sigma_v).rvs(N)\n",
    "    Z = iid.norm().rvs(N)\n",
    "\n",
    "    X = Z*pi + v\n",
    "    y = X*beta + u\n",
    "\n",
    "    df = pd.DataFrame({'y':y,'x':X,'z':Z,'Constant':1})\n",
    "\n",
    "    return df[['y']],df[['Constant','x']],df[['Constant','z']]"
   ]
  },
  {
   "cell_type": "markdown",
   "metadata": {},
   "source": [
    "The next bit of code *repeatedly* draws new random samples and\n",
    "  calculates $b$ from them; we then construct a histogram of the\n",
    "  resulting estimates.\n",
    "\n"
   ]
  },
  {
   "cell_type": "code",
   "execution_count": 27,
   "metadata": {},
   "outputs": [
    {
     "data": {
      "text/plain": [
       "array([[<matplotlib.axes._subplots.AxesSubplot object at 0x7cb9b17037d0>]],\n",
       "      dtype=object)"
      ]
     },
     "execution_count": 27,
     "metadata": {},
     "output_type": "execute_result"
    },
    {
     "data": {
      "image/png": "[encoded data removed]",
      "text/plain": [
       "<Figure size 432x288 with 1 Axes>"
      ]
     },
     "metadata": {
      "needs_background": "light"
     },
     "output_type": "display_data"
    }
   ],
   "source": [
    "from matplotlib import pyplot as plt\n",
    "\n",
    "B = pd.DataFrame([draw_b(100,lambda N: linear_dgp(N,1,0,.01,1,1))[1] for i in range(1000)])\n",
    "B.hist(bins=int(np.ceil(np.sqrt(B.shape[0]))))"
   ]
  }
 ],
 "metadata": {
  "kernelspec": {
   "display_name": "Python 3",
   "language": "python",
   "name": "python3"
  },
  "language_info": {
   "codemirror_mode": {
    "name": "ipython",
    "version": 3
   },
   "file_extension": ".py",
   "mimetype": "text/x-python",
   "name": "python",
   "nbconvert_exporter": "python",
   "pygments_lexer": "ipython3",
   "version": "3.7.4"
  },
  "org": null
 },
 "nbformat": 4,
 "nbformat_minor": 1
}
