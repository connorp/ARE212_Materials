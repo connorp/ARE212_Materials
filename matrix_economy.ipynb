{
 "cells": [
  {
   "cell_type": "markdown",
   "metadata": {},
   "source": [
    "# Matrix Economy Discussion\n",
    "\n",
    "## Projection Function\n",
    "\n",
    "We define a function that, given matrices X and Y, returns the projection of Y on X without creating an $n \\times n$ matrix that might consume all available memory."
   ]
  },
  {
   "cell_type": "code",
   "execution_count": 2,
   "metadata": {},
   "outputs": [],
   "source": [
    "import numpy as np\n",
    "import scipy.linalg as la\n",
    "\n",
    "def project_economically(X, Y):\n",
    "    '''Return the projection of Y on X without using up all the RAM\n",
    "    \n",
    "    For an (n x k) X matrix, and (n x m) Y matrix (k and m small)\n",
    "    '''\n",
    "    XY = X.T @ Y  # a (k x m) matrix\n",
    "    XXinv = la.inv(X.T @ X)  # a (k x k) matrix\n",
    "    return X @ XXinv @ XY  # the final (n x m) projection matrix"
   ]
  },
  {
   "cell_type": "markdown",
   "metadata": {},
   "source": [
    "## Projection Factory Function"
   ]
  },
  {
   "cell_type": "code",
   "execution_count": null,
   "metadata": {},
   "outputs": [],
   "source": [
    "def projection_factory(X):\n",
    "    \n",
    "    def project_X(Y):\n",
    "        return project_economically(X, Y)\n",
    "    \n",
    "    return project_X"
   ]
  },
  {
   "cell_type": "markdown",
   "metadata": {},
   "source": [
    "## Projection Objects\n",
    "\n",
    "We can also define a class that, for each X, holds the pieces necessary to project any given Y onto that X without creating an $n \\times n$ matrix that might consume all available memory. "
   ]
  },
  {
   "cell_type": "code",
   "execution_count": null,
   "metadata": {},
   "outputs": [],
   "source": [
    "class Projection:\n",
    "    \"\"\"Projection matrix objects\"\"\"\n",
    "    \n",
    "    def __init__(self, X):\n",
    "        \"\"\"Initialize the memory-saving components\"\"\"\n",
    "        self.X = X\n",
    "        self.XXinv = la.inv(X.T @ X)  # a (k x k) matrix\n",
    "        \n",
    "    def P(self, Y):\n",
    "        \"\"\"project Y onto the object's X\"\"\"\n",
    "        XY = self.X.T @ Y  # a (k x m) matrix\n",
    "        # return the final (n x m) projection matrix\n",
    "        return self.X @ self.XXinv @ XY\n",
    "    "
   ]
  },
  {
   "cell_type": "markdown",
   "metadata": {},
   "source": [
    "Initializing the object with the desired X matrix creates the required object attributes. (Note the following code will not run unless an example X and Y are defined)."
   ]
  },
  {
   "cell_type": "code",
   "execution_count": null,
   "metadata": {},
   "outputs": [],
   "source": [
    "project_X = Projection(X)"
   ]
  },
  {
   "cell_type": "markdown",
   "metadata": {},
   "source": [
    "Then calling the object method `P` will project the passed Y matrix onto X."
   ]
  },
  {
   "cell_type": "code",
   "execution_count": null,
   "metadata": {},
   "outputs": [],
   "source": [
    "Y_proj = project_X.P(Y)"
   ]
  },
  {
   "cell_type": "markdown",
   "metadata": {},
   "source": [
    "## Projection Diagonal\n",
    "\n",
    "We define a function to calculate the diagonal of a projection matrix without building the full matrix."
   ]
  },
  {
   "cell_type": "code",
   "execution_count": 3,
   "metadata": {},
   "outputs": [],
   "source": [
    "def projection_diagonal(X):\n",
    "    \"\"\"Calculate the diagonal elements of a projection matrix\"\"\"\n",
    "    XXXinv = X @ la.inv(X.T @ X)  # an (n x k) matrix, safe to construct\n",
    "    proj_diag = []\n",
    "    for XXXinv_row, X_col in zip(XXXinv, X):\n",
    "        # numpy iterates over rows. So to iterate over the columns\n",
    "        # of X.T, we transpose it. But X.T.T is equivalent to X.\n",
    "        # For every element of the diagonal, dot that row of the \n",
    "        # left matrix with that column of the right matrix.\n",
    "        proj_diag.append(np.dot(XXXinv_row, X_col))\n",
    "    return np.array(proj_diag)"
   ]
  }
 ],
 "metadata": {
  "kernelspec": {
   "display_name": "Python 3",
   "language": "python",
   "name": "python3"
  },
  "language_info": {
   "codemirror_mode": {
    "name": "ipython",
    "version": 3
   },
   "file_extension": ".py",
   "mimetype": "text/x-python",
   "name": "python",
   "nbconvert_exporter": "python",
   "pygments_lexer": "ipython3",
   "version": "3.7.6"
  }
 },
 "nbformat": 4,
 "nbformat_minor": 4
}
