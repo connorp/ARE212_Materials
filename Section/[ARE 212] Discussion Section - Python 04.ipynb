{
 "cells": [
  {
   "cell_type": "markdown",
   "metadata": {},
   "source": [
    "# [ARE 212] Discussion Section - Python 04"
   ]
  },
  {
   "cell_type": "markdown",
   "metadata": {},
   "source": [
    "- [Ethan's materials](https://github.com/ligonteaching/ARE212_Materials)"
   ]
  },
  {
   "cell_type": "markdown",
   "metadata": {},
   "source": [
    "### Source Material"
   ]
  },
  {
   "cell_type": "markdown",
   "metadata": {},
   "source": [
    "These notes are the fruits of arduous labor of others.  My contributions are minimual, but please expect to find some code (and even explanation) errors (and assume them all to be mine). If you find any mistakes or have questions, please [let me know](mailto:benjaminkrause@berkeley.edu).\n",
    "    \n",
    "The primary sources of these notes are:\n",
    "- Ethan and in particular his EEP 153 Notes\n",
    "- [Computational and Inferential Thinking: The Foundations of Data Science](https://www.inferentialthinking.com/chapters/intro.html) which is the textbook for UC Berkeley's [Data 8: The Foundations of Data Science](http://data8.org/) course.  All of the notes, readings, labs, and assignments are fully available online as well.  For instance, here is [Spring 2020](http://data8.org/sp20/).\n",
    "- [Python Data Science Handbook](https://jakevdp.github.io/PythonDataScienceHandbook/)"
   ]
  },
  {
   "cell_type": "markdown",
   "metadata": {},
   "source": [
    "### Follow-up from questions posed last week\n",
    "\n",
    "- Where are the midterms? \n",
    "    - Posted to [bcourses with this annoucement](https://bcourses.berkeley.edu/courses/1487913/discussion_topics/5756751)\n",
    "    - For those exams received, out of 30 points:\n",
    "        - mean\t    28.1\n",
    "        - SD\t    1.5\n",
    "        - median\t28.5\n",
    "        - max\t    30.0\n",
    "        - min\t    24.2\n",
    "    - See the SpeedGrader portal on Bcourses for your individual question-by-question scores\n",
    "- PS03 scores are also posted\n",
    "- I'm talking this afternoon with Ethan and hope to confirm scores for the first half of bcourses Discussion participation over the weekend.\n",
    "- Ethan noted few responses thus far to the [Feasible Optimally Weighted GMM estimators](https://bcourses.berkeley.edu/courses/1487913/discussion_topics/5756813) discussion post."
   ]
  },
  {
   "cell_type": "markdown",
   "metadata": {},
   "source": [
    "## Review Lecture Jupyter Notebooks 3"
   ]
  },
  {
   "cell_type": "markdown",
   "metadata": {},
   "source": [
    "### Learning Goals Today"
   ]
  },
  {
   "cell_type": "markdown",
   "metadata": {},
   "source": [
    "4.  Review [wright34](https://github.com/ligonteaching/ARE212_Materials/blob/master/wright34.ipynb)\n",
    "\n",
    "5.  Review [iv_examples](https://github.com/ligonteaching/ARE212_Materials/blob/master/iv_examples.ipynb)\n",
    "\n",
    "6.  Student Code Discussions\n",
    "    - a. Shreya Dutt: Replicating Angrist-Krueger (1991)\n",
    "    - b. Shuo Yu: Tests of Normality\n",
    "    - c. Jacob Lefler: Matrix Economy \n",
    "    - d. Connor Jackson: Matrix Economy\n",
    "\n",
    "#### Previous Section Materials:\n",
    "- Introduction from the first week at `[ARE 212] Discussion Section - Python 01` on [datahub](https://datahub.berkeley.edu/user/benjaminkrause/notebooks/ARE212_Discussion_Section/%5BARE%20212%5D%20Discussion%20Section%20-%20Python%2001.ipynb) and [github](https://github.com/ligonteaching/ARE212_Materials/blob/master/Section/%5BARE%20212%5D%20Discussion%20Section%20-%20Python%2001.ipynb)\n",
    "- Review of Lecture Jupyter Notebooks 1 at `[ARE 212] Discussion Section - Python 02` on [datahub](https://datahub.berkeley.edu/user/benjaminkrause/notebooks/ARE212_Discussion_Section/%5BARE%20212%5D%20Discussion%20Section%20-%20Python%2002.ipynb#) and [github](https://github.com/ligonteaching/ARE212_Materials/blob/master/Section/%5BARE%20212%5D%20Discussion%20Section%20-%20Python%2002.ipynb)\n",
    "- Review of Lecture Jupyter Notebooks 2 at `[ARE 212] Discussion Section - Python 03` on [datahub](https://datahub.berkeley.edu/user/benjaminkrause/notebooks/ARE212_Discussion_Section/%5BARE%20212%5D%20Discussion%20Section%20-%20Python%2003.ipynb) and [github](https://github.com/ligonteaching/ARE212_Materials/blob/master/Section/%5BARE%20212%5D%20Discussion%20Section%20-%20Python%2003.ipynb)\n",
    "- Or all of my Juptyer Notebooks to date in the [Section](https://github.com/ligonteaching/ARE212_Materials/tree/master/Section) folder on [Ethan's Github](https://github.com/ligonteaching/ARE212_Materials)"
   ]
  },
  {
   "cell_type": "markdown",
   "metadata": {},
   "source": [
    "#### Open a `jupyter` notebook on [Google Colab](https://colab.research.google.com/notebooks/intro.ipynb#recent=true)"
   ]
  },
  {
   "cell_type": "markdown",
   "metadata": {},
   "source": [
    "1. Add the [Google Chrome Extension for Colab](https://chrome.google.com/webstore/detail/open-in-colab/iogfkhleblhcpcekbiedikdehleodpjo?hl=en) to your browser\n",
    "2. Navigate to a `Jupyter Notebook` file in `Github`\n",
    "3. Click on the `Colab` icon at the top of your browser.\n",
    "\n",
    "A new functional instance of the `Jupyter Notebook` should open in a new tab your browser."
   ]
  },
  {
   "cell_type": "markdown",
   "metadata": {},
   "source": [
    "#### Open a `jupyter` notebook on [datahub.berkeley.edu](https://datahub.berkeley.edu/)"
   ]
  },
  {
   "cell_type": "markdown",
   "metadata": {},
   "source": [
    "1. Open the website [URL to Interact](https://url-to-interact.herokuapp.com/)\n",
    "2. For `1. Choose your desired hub:` select `datahub.berkeley.edu`\n",
    "3. Either navigate to [my github](https://github.com/bk-econ/share) page and select the `URL` of the correct section or simply copy it from right here: https://github.com/bk-econ/share/blob/master/%5BARE%20212%5D%20Discussion%20Section%20-%20Python%2001.ipynb\n",
    "4. Paste the `URL` you copied in the previous step into `2. Paste the GitHub URL for your file or folder in the box below.`\n",
    "5. Click `Convert to interact link!`\n",
    "6. Copy the new `URL` generated in field `4. Your interact link URL will appear in the box below.`\n",
    "7. Paste the new `URL` in any web browser and get to it!"
   ]
  },
  {
   "cell_type": "markdown",
   "metadata": {},
   "source": [
    "## 4. [wright34](https://datahub.berkeley.edu/user/benjaminkrause/notebooks/ARE212_Materials/wright34.ipynb)"
   ]
  },
  {
   "cell_type": "markdown",
   "metadata": {},
   "source": [
    "or see [wright34 on github](https://github.com/ligonteaching/ARE212_Materials/blob/master/wright34.ipynb)"
   ]
  },
  {
   "cell_type": "markdown",
   "metadata": {},
   "source": [
    "### Quantities & Prices\n",
    "\n"
   ]
  },
  {
   "cell_type": "markdown",
   "metadata": {},
   "source": [
    "Suppose for some good we observe data on total quantity $q$ exchanged\n",
    "between buyers & sellers, and the prices $p$ at which these exchanges\n",
    "took place.  \n",
    "\n",
    "The following code creates a data generating process for $(q,p)$ based\n",
    "on Goldberger (1972), who in turn is describing the work of Sewall\n",
    "Wright (1934).  The demand-supply system is\n",
    "$$\n",
    "   q_D = \\alpha p + u\\qquad q_S = \\beta p + v\\qquad q_D = q_S,\n",
    "$$\n",
    "where $(u,v)$ are unobserved shocks to demand and supply,\n",
    "respectively. \n",
    "\n"
   ]
  },
  {
   "cell_type": "code",
   "execution_count": 1,
   "metadata": {},
   "outputs": [],
   "source": [
    "# 4.1 ORIGINAL CODE\n",
    "\n",
    "import numpy as np\n",
    "import pandas as pd\n",
    "from scipy.stats import distributions as iid\n",
    "\n",
    "# Structural parameters;\n",
    "(α,β) = (-1,2)     \n",
    "σ = {'u':1/2,'v':1/3}\n",
    "μ = {'u':2,'v':-1}\n",
    "\n",
    "# u,v assumed independent\n",
    "u = iid.norm(loc=μ['u'], scale=σ['u'])  # Demand shocks\n",
    "v = iid.norm(loc=μ['v'], scale=σ['v'])  # Supply shocks\n",
    "\n",
    "# Reduced form coefficients\n",
    "π = [[-β/(α - β), -1/(α - β)],\n",
    "     [ α/(α - β), 1/(α - β)]]\n",
    "\n",
    "# Generate N realizations of system\n",
    "# Outcomes Y have columns (q,p)\n",
    "N = 10\n",
    "\n",
    "# Arrange shocks into an Nx2 matrix\n",
    "U = np.c_[u.rvs(N), v.rvs(N)]\n",
    "\n",
    "# Matrix prboduct gives [q,p]; label by putting into df\n",
    "df = pd.DataFrame(U@π,columns=['q','p'])\n",
    "Udf = pd.DataFrame(U,columns=['u','v']) # For future reference"
   ]
  },
  {
   "cell_type": "markdown",
   "metadata": {},
   "source": [
    "<font color='red'> *notes*: </font>\n",
    "- Dictionaries vs. Lists <br> \n",
    "(based on [Dictionaries in Python](https://realpython.com/python-dicts/), [Python — List vs Tuple vs Dictionary](https://medium.com/@paulrohan/python-list-vs-tuple-vs-dictionary-4a48655c7934), and [What's the difference between lists and tuples?](https://stackoverflow.com/questions/626759/whats-the-difference-between-lists-and-tuples))\n",
    "    - Common characteristics:\n",
    "        - Mutable - can be changed (unlike, for instance, tuples)\n",
    "        - Dynamic - They can grow and shrink as needed\n",
    "        - Can be nested - A list can contain another list. A dictionary can contain another dictionary. A dictionary can also contain a list, and vice versa.\n",
    "    - Differences\n",
    "        - Declaring\n",
    "            - List: []\n",
    "            - Dictionary: {}\n",
    "            - Tuples: ()\n",
    "        - Accessing elements: \n",
    "            - List: elements are accessed by their position via indexing.\n",
    "            - Dictionary: elements accessed via **keys** (remember that Dictionaries are **key:value** pairs)\n",
    "            \n",
    "- Tuples (based on )\n",
    "    - Immutable (and **keys** for Dictionaires must be immutable)\n",
    "    - Tuples are for heterogeneous data (structure) vs. Lists are for homogenous data (order)\n",
    "        - tuple: (page number, line number) vs. list: [page 1, page 5, page 44]\n",
    "        \n",
    "- `iid.norm()?`: \"A normal continuous random variable.\"\n",
    "    - `loc` specifies mean\n",
    "    - `scale` specifies standard deviation\n",
    "- `iid.c_`: \"Translates slice objects to concatenation along the second axis.\"\n",
    "\n"
   ]
  },
  {
   "cell_type": "code",
   "execution_count": 2,
   "metadata": {},
   "outputs": [
    {
     "ename": "TypeError",
     "evalue": "'tuple' object doesn't support item deletion",
     "output_type": "error",
     "traceback": [
      "\u001b[0;31m---------------------------------------------------------------------------\u001b[0m",
      "\u001b[0;31mTypeError\u001b[0m                                 Traceback (most recent call last)",
      "\u001b[0;32m<ipython-input-2-25f88d5e4710>\u001b[0m in \u001b[0;36m<module>\u001b[0;34m\u001b[0m\n\u001b[1;32m      2\u001b[0m \u001b[0;34m\u001b[0m\u001b[0m\n\u001b[1;32m      3\u001b[0m \u001b[0mtupleA\u001b[0m \u001b[0;34m=\u001b[0m \u001b[0;34m(\u001b[0m\u001b[0;36m1\u001b[0m\u001b[0;34m,\u001b[0m \u001b[0;36m2\u001b[0m\u001b[0;34m,\u001b[0m \u001b[0;36m3\u001b[0m\u001b[0;34m,\u001b[0m \u001b[0;36m4\u001b[0m\u001b[0;34m)\u001b[0m\u001b[0;34m\u001b[0m\u001b[0;34m\u001b[0m\u001b[0m\n\u001b[0;32m----> 4\u001b[0;31m \u001b[0;32mdel\u001b[0m \u001b[0mtupleA\u001b[0m\u001b[0;34m[\u001b[0m\u001b[0;36m0\u001b[0m\u001b[0;34m]\u001b[0m\u001b[0;34m\u001b[0m\u001b[0;34m\u001b[0m\u001b[0m\n\u001b[0m\u001b[1;32m      5\u001b[0m \u001b[0mprint\u001b[0m\u001b[0;34m(\u001b[0m\u001b[0mtupleA\u001b[0m\u001b[0;34m)\u001b[0m\u001b[0;34m\u001b[0m\u001b[0;34m\u001b[0m\u001b[0m\n\u001b[1;32m      6\u001b[0m \u001b[0;32mdel\u001b[0m \u001b[0mtupleA\u001b[0m\u001b[0;34m\u001b[0m\u001b[0;34m\u001b[0m\u001b[0m\n",
      "\u001b[0;31mTypeError\u001b[0m: 'tuple' object doesn't support item deletion"
     ]
    }
   ],
   "source": [
    "# Immutability of Tuples\n",
    "\n",
    "tupleA = (1, 2, 3, 4)\n",
    "del tupleA[0]\n",
    "print(tupleA)\n",
    "del tupleA\n",
    "print(tupleA)"
   ]
  },
  {
   "cell_type": "code",
   "execution_count": 3,
   "metadata": {},
   "outputs": [
    {
     "name": "stdout",
     "output_type": "stream",
     "text": [
      "[1, 2, 3, 4]\n",
      "(1, 2, 3, 4)\n",
      "[1, 2, 5, 4]\n"
     ]
    },
    {
     "ename": "TypeError",
     "evalue": "'tuple' object does not support item assignment",
     "output_type": "error",
     "traceback": [
      "\u001b[0;31m---------------------------------------------------------------------------\u001b[0m",
      "\u001b[0;31mTypeError\u001b[0m                                 Traceback (most recent call last)",
      "\u001b[0;32m<ipython-input-3-fbb7650f3c44>\u001b[0m in \u001b[0;36m<module>\u001b[0;34m\u001b[0m\n\u001b[1;32m      9\u001b[0m \u001b[0mprint\u001b[0m\u001b[0;34m(\u001b[0m\u001b[0mlist_num\u001b[0m\u001b[0;34m)\u001b[0m\u001b[0;34m\u001b[0m\u001b[0;34m\u001b[0m\u001b[0m\n\u001b[1;32m     10\u001b[0m \u001b[0;34m\u001b[0m\u001b[0m\n\u001b[0;32m---> 11\u001b[0;31m \u001b[0mtup_num\u001b[0m\u001b[0;34m[\u001b[0m\u001b[0;36m2\u001b[0m\u001b[0;34m]\u001b[0m \u001b[0;34m=\u001b[0m \u001b[0;36m5\u001b[0m\u001b[0;34m\u001b[0m\u001b[0;34m\u001b[0m\u001b[0m\n\u001b[0m\u001b[1;32m     12\u001b[0m \u001b[0mprint\u001b[0m\u001b[0;34m(\u001b[0m\u001b[0mtup_num\u001b[0m\u001b[0;34m)\u001b[0m\u001b[0;34m\u001b[0m\u001b[0;34m\u001b[0m\u001b[0m\n",
      "\u001b[0;31mTypeError\u001b[0m: 'tuple' object does not support item assignment"
     ]
    }
   ],
   "source": [
    "# Immutability of Tuples continued\n",
    "list_num = [1,2,3,4]\n",
    "tup_num = (1,2,3,4)\n",
    "print(list_num)\n",
    "print(tup_num)\n",
    "\n",
    "\n",
    "list_num[2] = 5\n",
    "print(list_num)\n",
    "\n",
    "tup_num[2] = 5\n",
    "print(tup_num)"
   ]
  },
  {
   "cell_type": "code",
   "execution_count": 4,
   "metadata": {},
   "outputs": [
    {
     "name": "stdout",
     "output_type": "stream",
     "text": [
      "[]\n",
      "[1, 23, 45, 67]\n",
      "[2, 4, 'ben shows some lists', 18, True]\n"
     ]
    }
   ],
   "source": [
    "# Example code 1: \n",
    "\n",
    "# Lists\n",
    "A = [ ] # This is a blank list variable\n",
    "print(A)\n",
    "\n",
    "B = [1, 23, 45, 67] # this list creates an initial list of 4 numbers.\n",
    "print(B)\n",
    "\n",
    "C = [2, 4, 'ben shows some lists', 18, True] # lists can contain different variable types.\n",
    "print(C)"
   ]
  },
  {
   "cell_type": "code",
   "execution_count": 5,
   "metadata": {},
   "outputs": [
    {
     "name": "stdout",
     "output_type": "stream",
     "text": [
      "[2, 4, 'ben shows some lists']\n",
      "['ben shows some lists', 18, True]\n",
      "['ben shows some lists', 18]\n",
      "[2, 4, 'ben shows some lists', 18, True]\n",
      "[2, 4, 'ben shows some lists', 18]\n",
      "18\n"
     ]
    }
   ],
   "source": [
    "# Example code 2: \n",
    " \n",
    "# Slicing a list\n",
    "## From the first element up to a given position: \n",
    "print(C[:3])\n",
    "\n",
    "## From a given position until the last element: \n",
    "print(C[2:])\n",
    "\n",
    "## Between two given positions in the list: \n",
    "print(C[2:4])\n",
    "\n",
    "## all the members of the list: \n",
    "print(C[:])\n",
    "\n",
    "## up to the second to last member of the list\n",
    "print(C[:-1])\n",
    "\n",
    "## the second to last member of the list\n",
    "print(C[-2])"
   ]
  },
  {
   "cell_type": "code",
   "execution_count": 6,
   "metadata": {},
   "outputs": [],
   "source": [
    "# iid.norm?\n",
    "# np.c_?"
   ]
  },
  {
   "cell_type": "code",
   "execution_count": 15,
   "metadata": {},
   "outputs": [
    {
     "name": "stdout",
     "output_type": "stream",
     "text": [
      "<class 'tuple'>\n",
      "(α,β) =  (-1, 2)\n",
      "α =  -1\n",
      "β =  2\n",
      "<class 'dict'>\n",
      "σ:u = 0.5\n",
      "σ:v = 0.3333333333333333\n",
      "μ:u = 2\n",
      "μ:v = -1\n",
      "<class 'scipy.stats._distn_infrastructure.rv_frozen'>\n",
      "u =  <scipy.stats._distn_infrastructure.rv_frozen object at 0x7f0ec16398d0>\n",
      "<class 'scipy.stats._distn_infrastructure.rv_frozen'>\n",
      "v =  <scipy.stats._distn_infrastructure.rv_frozen object at 0x7f0ec16399e8>\n",
      "<class 'list'>\n",
      "π =  [[0.6666666666666666, 0.3333333333333333], [0.3333333333333333, -0.3333333333333333]]\n",
      "U = [[ 1.36797367 -0.47392482]\n",
      " [ 2.76395268 -0.96416735]\n",
      " [ 1.51464453 -1.25468261]\n",
      " [ 2.23527981 -1.25839617]\n",
      " [ 1.94965164 -0.53871761]\n",
      " [ 2.15189659 -0.74653831]\n",
      " [ 1.13701879 -1.09521517]\n",
      " [ 2.79254768 -0.82054417]\n",
      " [ 2.0671483  -1.69463221]\n",
      " [ 1.44657227 -0.6874061 ]]\n",
      "<class 'pandas.core.frame.DataFrame'>\n",
      "df =            q         p\n",
      "0  0.754008  0.613966\n",
      "1  1.521246  1.242707\n",
      "2  0.591535  0.923109\n",
      "3  1.070721  1.164559\n",
      "4  1.120195  0.829456\n",
      "5  1.185752  0.966145\n",
      "6  0.392941  0.744078\n",
      "7  1.588184  1.204364\n",
      "8  0.813221  1.253927\n",
      "9  0.735246  0.711326\n",
      "<class 'pandas.core.frame.DataFrame'>\n",
      "Udf =            u         v\n",
      "0  1.367974 -0.473925\n",
      "1  2.763953 -0.964167\n",
      "2  1.514645 -1.254683\n",
      "3  2.235280 -1.258396\n",
      "4  1.949652 -0.538718\n",
      "5  2.151897 -0.746538\n",
      "6  1.137019 -1.095215\n",
      "7  2.792548 -0.820544\n",
      "8  2.067148 -1.694632\n",
      "9  1.446572 -0.687406\n"
     ]
    }
   ],
   "source": [
    "# 4.1 CODE ABOVE WITH COMMENTS AND PRINTING\n",
    "\n",
    "# Import the necessary modules (R::library())\n",
    "import numpy as np\n",
    "import pandas as pd\n",
    "from scipy.stats import distributions as iid\n",
    "\n",
    "# Structural parameters;\n",
    "(α,β) = (-1,2) \n",
    "print(type((α,β)))\n",
    "print(\"(α,β) = \", (α,β))\n",
    "print(\"α = \", (α,β)[0])\n",
    "print(\"β = \", (α,β)[1])\n",
    "\n",
    "σ = {'u':1/2,'v':1/3}\n",
    "print(type(σ))\n",
    "print(\"σ:u =\", σ['u'])\n",
    "print(\"σ:v =\", σ['v'])\n",
    "\n",
    "μ = {'u':2,'v':-1}\n",
    "print(\"μ:u =\", μ['u'])\n",
    "print(\"μ:v =\", μ['v'])\n",
    "\n",
    "# Set seed\n",
    "np.random.seed( 30 )\n",
    "\n",
    "# u,v assumed independent\n",
    "u = iid.norm(loc=μ['u'], scale=σ['u'])  # Demand shocks\n",
    "print(type(u))\n",
    "print(\"u = \", u)\n",
    "\n",
    "v = iid.norm(loc=μ['v'], scale=σ['v'])  # Supply shocks\n",
    "print(type(v))\n",
    "print(\"v = \", v)\n",
    "\n",
    "# Reduced form coefficients\n",
    "π = [[-β/(α - β), -1/(α - β)],\n",
    "     [ α/(α - β), 1/(α - β)]]\n",
    "print(type(π))\n",
    "print(\"π = \", π)\n",
    "\n",
    "# Generate N realizations of system\n",
    "# Outcomes Y have columns (q,p)\n",
    "N = 10\n",
    "\n",
    "# Arrange shocks into an Nx2 matrix\n",
    "U = np.c_[u.rvs(N), v.rvs(N)]\n",
    "print(\"U =\", U)\n",
    "\n",
    "# Matrix product gives [q,p]; label by putting into df\n",
    "df = pd.DataFrame(U@π,columns=['q','p']) \n",
    "### R:: df <- as.data.frame(U %*% π)  \n",
    "###     names(df) <- c(\"q\", \"p\")\n",
    "print(type(df))\n",
    "print(\"df = \", df)\n",
    "\n",
    "Udf = pd.DataFrame(U,columns=['u','v']) # For future reference\n",
    "### R:: df <- as.data.frame(U)  \n",
    "###     names(df) <- c('u','v')\n",
    "print(type(Udf))\n",
    "print(\"Udf = \", Udf)"
   ]
  },
  {
   "cell_type": "markdown",
   "metadata": {},
   "source": [
    "We can interrogate these data:\n",
    "\n"
   ]
  },
  {
   "cell_type": "code",
   "execution_count": 4,
   "metadata": {},
   "outputs": [
    {
     "data": {
      "text/html": [
       "<div>\n",
       "<style scoped>\n",
       "    .dataframe tbody tr th:only-of-type {\n",
       "        vertical-align: middle;\n",
       "    }\n",
       "\n",
       "    .dataframe tbody tr th {\n",
       "        vertical-align: top;\n",
       "    }\n",
       "\n",
       "    .dataframe thead th {\n",
       "        text-align: right;\n",
       "    }\n",
       "</style>\n",
       "<table border=\"1\" class=\"dataframe\">\n",
       "  <thead>\n",
       "    <tr style=\"text-align: right;\">\n",
       "      <th></th>\n",
       "      <th>q</th>\n",
       "      <th>p</th>\n",
       "    </tr>\n",
       "  </thead>\n",
       "  <tbody>\n",
       "    <tr>\n",
       "      <th>0</th>\n",
       "      <td>0.754008</td>\n",
       "      <td>0.613966</td>\n",
       "    </tr>\n",
       "    <tr>\n",
       "      <th>1</th>\n",
       "      <td>1.521246</td>\n",
       "      <td>1.242707</td>\n",
       "    </tr>\n",
       "    <tr>\n",
       "      <th>2</th>\n",
       "      <td>0.591535</td>\n",
       "      <td>0.923109</td>\n",
       "    </tr>\n",
       "    <tr>\n",
       "      <th>3</th>\n",
       "      <td>1.070721</td>\n",
       "      <td>1.164559</td>\n",
       "    </tr>\n",
       "    <tr>\n",
       "      <th>4</th>\n",
       "      <td>1.120195</td>\n",
       "      <td>0.829456</td>\n",
       "    </tr>\n",
       "    <tr>\n",
       "      <th>5</th>\n",
       "      <td>1.185752</td>\n",
       "      <td>0.966145</td>\n",
       "    </tr>\n",
       "    <tr>\n",
       "      <th>6</th>\n",
       "      <td>0.392941</td>\n",
       "      <td>0.744078</td>\n",
       "    </tr>\n",
       "    <tr>\n",
       "      <th>7</th>\n",
       "      <td>1.588184</td>\n",
       "      <td>1.204364</td>\n",
       "    </tr>\n",
       "    <tr>\n",
       "      <th>8</th>\n",
       "      <td>0.813221</td>\n",
       "      <td>1.253927</td>\n",
       "    </tr>\n",
       "    <tr>\n",
       "      <th>9</th>\n",
       "      <td>0.735246</td>\n",
       "      <td>0.711326</td>\n",
       "    </tr>\n",
       "  </tbody>\n",
       "</table>\n",
       "</div>"
      ],
      "text/plain": [
       "          q         p\n",
       "0  0.754008  0.613966\n",
       "1  1.521246  1.242707\n",
       "2  0.591535  0.923109\n",
       "3  1.070721  1.164559\n",
       "4  1.120195  0.829456\n",
       "5  1.185752  0.966145\n",
       "6  0.392941  0.744078\n",
       "7  1.588184  1.204364\n",
       "8  0.813221  1.253927\n",
       "9  0.735246  0.711326"
      ]
     },
     "execution_count": 4,
     "metadata": {},
     "output_type": "execute_result"
    }
   ],
   "source": [
    "# 4.2 ORIGINAL CODE\n",
    "df"
   ]
  },
  {
   "cell_type": "markdown",
   "metadata": {},
   "source": [
    "And compute the linear correlation&#x2026;\n",
    "\n"
   ]
  },
  {
   "cell_type": "code",
   "execution_count": 5,
   "metadata": {},
   "outputs": [
    {
     "data": {
      "text/html": [
       "<div>\n",
       "<style scoped>\n",
       "    .dataframe tbody tr th:only-of-type {\n",
       "        vertical-align: middle;\n",
       "    }\n",
       "\n",
       "    .dataframe tbody tr th {\n",
       "        vertical-align: top;\n",
       "    }\n",
       "\n",
       "    .dataframe thead th {\n",
       "        text-align: right;\n",
       "    }\n",
       "</style>\n",
       "<table border=\"1\" class=\"dataframe\">\n",
       "  <thead>\n",
       "    <tr style=\"text-align: right;\">\n",
       "      <th></th>\n",
       "      <th>q</th>\n",
       "      <th>p</th>\n",
       "    </tr>\n",
       "  </thead>\n",
       "  <tbody>\n",
       "    <tr>\n",
       "      <th>q</th>\n",
       "      <td>1.000000</td>\n",
       "      <td>0.637353</td>\n",
       "    </tr>\n",
       "    <tr>\n",
       "      <th>p</th>\n",
       "      <td>0.637353</td>\n",
       "      <td>1.000000</td>\n",
       "    </tr>\n",
       "  </tbody>\n",
       "</table>\n",
       "</div>"
      ],
      "text/plain": [
       "          q         p\n",
       "q  1.000000  0.637353\n",
       "p  0.637353  1.000000"
      ]
     },
     "execution_count": 5,
     "metadata": {},
     "output_type": "execute_result"
    }
   ],
   "source": [
    "# 4.3 ORIGINAL CODE\n",
    "df.corr()"
   ]
  },
  {
   "cell_type": "markdown",
   "metadata": {},
   "source": [
    "Or more generally the covariance matrix:\n",
    "\n"
   ]
  },
  {
   "cell_type": "code",
   "execution_count": 6,
   "metadata": {},
   "outputs": [
    {
     "data": {
      "text/html": [
       "<div>\n",
       "<style scoped>\n",
       "    .dataframe tbody tr th:only-of-type {\n",
       "        vertical-align: middle;\n",
       "    }\n",
       "\n",
       "    .dataframe tbody tr th {\n",
       "        vertical-align: top;\n",
       "    }\n",
       "\n",
       "    .dataframe thead th {\n",
       "        text-align: right;\n",
       "    }\n",
       "</style>\n",
       "<table border=\"1\" class=\"dataframe\">\n",
       "  <thead>\n",
       "    <tr style=\"text-align: right;\">\n",
       "      <th></th>\n",
       "      <th>q</th>\n",
       "      <th>p</th>\n",
       "    </tr>\n",
       "  </thead>\n",
       "  <tbody>\n",
       "    <tr>\n",
       "      <th>q</th>\n",
       "      <td>0.151924</td>\n",
       "      <td>0.059381</td>\n",
       "    </tr>\n",
       "    <tr>\n",
       "      <th>p</th>\n",
       "      <td>0.059381</td>\n",
       "      <td>0.057136</td>\n",
       "    </tr>\n",
       "  </tbody>\n",
       "</table>\n",
       "</div>"
      ],
      "text/plain": [
       "          q         p\n",
       "q  0.151924  0.059381\n",
       "p  0.059381  0.057136"
      ]
     },
     "execution_count": 6,
     "metadata": {},
     "output_type": "execute_result"
    }
   ],
   "source": [
    "# 4.4 ORIGINAL CODE\n",
    "C=df.cov()\n",
    "C"
   ]
  },
  {
   "cell_type": "markdown",
   "metadata": {},
   "source": [
    "From which we can calculate the linear regression coefficient\n",
    "of $p = a + bq + e$:\n",
    "\n"
   ]
  },
  {
   "cell_type": "code",
   "execution_count": 11,
   "metadata": {},
   "outputs": [
    {
     "data": {
      "text/plain": [
       "0.3908614932109904"
      ]
     },
     "execution_count": 11,
     "metadata": {},
     "output_type": "execute_result"
    }
   ],
   "source": [
    "# 4.5 ORIGINAL CODE\n",
    "C.loc['p','q']/C.loc['q','q']"
   ]
  },
  {
   "cell_type": "code",
   "execution_count": 8,
   "metadata": {},
   "outputs": [
    {
     "name": "stdout",
     "output_type": "stream",
     "text": [
      "0.05938124713329541\n",
      "0.15192401442636075\n"
     ]
    },
    {
     "data": {
      "text/plain": [
       "0.3908614932109904"
      ]
     },
     "execution_count": 8,
     "metadata": {},
     "output_type": "execute_result"
    }
   ],
   "source": [
    "# 4.5 CODE ABOVE WITH COMMENTS AND PRINTING\n",
    "print(C.loc['p','q'])\n",
    "\n",
    "print(C.loc['q','q'])\n",
    "\n",
    "C.loc['p','q']/C.loc['q','q']"
   ]
  },
  {
   "cell_type": "markdown",
   "metadata": {},
   "source": [
    "And learn about the probability density&#x2026;\n",
    "\n"
   ]
  },
  {
   "cell_type": "code",
   "execution_count": 12,
   "metadata": {
    "scrolled": false
   },
   "outputs": [
    {
     "data": {
      "image/png": "[encoded data removed]",
      "text/plain": [
       "<Figure size 432x288 with 1 Axes>"
      ]
     },
     "metadata": {
      "needs_background": "light"
     },
     "output_type": "display_data"
    }
   ],
   "source": [
    "# 4.6 ORIGINAL CODE\n",
    "from scipy import stats\n",
    "import numpy as np\n",
    "\n",
    "# Estimate joint density of (q,p)\n",
    "pdf = stats.gaussian_kde(df.T).pdf \n",
    "\n",
    "ax = df.plot.scatter(x='q',y='p')\n",
    "\n",
    "v = ax.axis()\n",
    "Q = np.mgrid[v[0]:v[1]:100j].tolist()\n",
    "Q = np.mgrid[v[0]:v[1]:100j].tolist()\n",
    "P = np.mgrid[v[2]:v[3]:100j].tolist()\n",
    "\n",
    "_ = ax.contour(Q,P,np.array([[pdf((q,p))[0] for p in P] for q in Q]))"
   ]
  },
  {
   "cell_type": "markdown",
   "metadata": {},
   "source": [
    "<font color='red'> *notes*: </font>\n",
    "- `stats.gaussian_kde?`: Representation of a kernel-density estimate (KDE) using Gaussian kernels.\n",
    "- `ax.axis?`: returns (xmin, xmax, ymin, ymax)\n",
    "- `ax.contour?`: draw contour lines and filled contours\n",
    "    - contour([X, Y,] Z, [levels], **kwargs)\n",
    "    - For more on plotting density and contours see [Density and Contour Plots](https://jakevdp.github.io/PythonDataScienceHandbook/04.04-density-and-contour-plots.html) from the [Python Data Science Handbook](http://shop.oreilly.com/product/0636920034919.do)"
   ]
  },
  {
   "cell_type": "code",
   "execution_count": 20,
   "metadata": {
    "scrolled": false
   },
   "outputs": [
    {
     "name": "stdout",
     "output_type": "stream",
     "text": [
      "<bound method gaussian_kde.pdf of <scipy.stats.kde.gaussian_kde object at 0x7f0ec15cd5f8>>\n"
     ]
    },
    {
     "data": {
      "image/png": "[encoded data removed]",
      "text/plain": [
       "<Figure size 432x288 with 1 Axes>"
      ]
     },
     "metadata": {
      "needs_background": "light"
     },
     "output_type": "display_data"
    }
   ],
   "source": [
    "# 4.6a CODE ABOVE WITH COMMENTS AND PRINTING\n",
    "from scipy import stats\n",
    "import numpy as np\n",
    "\n",
    "# Estimate joint density of (q,p) \n",
    "pdf = stats.gaussian_kde(df.T).pdf\n",
    "print(pdf)\n",
    "\n",
    "ax = df.plot.scatter(x='q',y='p')\n"
   ]
  },
  {
   "cell_type": "code",
   "execution_count": 16,
   "metadata": {},
   "outputs": [
    {
     "name": "stdout",
     "output_type": "stream",
     "text": [
      "(0.32583195468355103, 1.6552925769334697, 0.570656157723093, 1.2972368395518445)\n",
      "<class 'list'>\n",
      "[0.32583195468355103, 0.6581971102460307, 0.9905622658085103, 1.32292742137099, 1.6552925769334697]\n"
     ]
    },
    {
     "data": {
      "image/png": "[encoded data removed]",
      "text/plain": [
       "<Figure size 432x288 with 1 Axes>"
      ]
     },
     "metadata": {
      "needs_background": "light"
     },
     "output_type": "display_data"
    }
   ],
   "source": [
    "# 4.6b CODE ABOVE WITH COMMENTS AND PRINTING\n",
    "\n",
    "ax = df.plot.scatter(x='q',y='p')\n",
    "\n",
    "v = ax.axis()\n",
    "print(v)\n",
    "\n",
    "Q = np.mgrid[v[0]:v[1]:5j].tolist() # Note that the 5j is identifying how many steps between v[0] (xmin) and v[1] (xmax)\n",
    "print(type(Q))\n",
    "print(Q)\n",
    "\n",
    "P = np.mgrid[v[2]:v[3]:5j].tolist()\n",
    "\n",
    "_ = ax.contour(Q,P,np.array([[pdf((q,p))[0] for p in P] for q in Q])) # Note like running 2 for loops"
   ]
  },
  {
   "cell_type": "markdown",
   "metadata": {},
   "source": [
    "#### Counterfactual Demand & Supply Schedules\n",
    "\n"
   ]
  },
  {
   "cell_type": "markdown",
   "metadata": {},
   "source": [
    "What are the actual *counterfactual* demand and\n",
    "supply schedules?  This is the kind of thing that Frisch described as\n",
    "&ldquo;hypothetical experiments.&rdquo;  The schedules respond to shocks $u$ and $v$, respectively,\n",
    "yielding\n",
    "\n"
   ]
  },
  {
   "cell_type": "code",
   "execution_count": null,
   "metadata": {
    "scrolled": false
   },
   "outputs": [],
   "source": [
    "# 4.7 ORIGINAL CODE\n",
    "qmax = df['q'].max()\n",
    "qmin = df['q'].min()\n",
    "\n",
    "Q = pd.DataFrame({'min':np.maximum(0,df['q']-0.3*(qmax-qmin)),\n",
    "                  'max':np.minimum(qmax*1.2,df['q']+0.3*(qmax-qmin)),\n",
    "                  'miss':-1})\n",
    "\n",
    "# Inverse counterfactual demand & supply (for plotting)\n",
    "D = Q.add(-Udf['u'],axis=0)/α  \n",
    "S = Q.add(-Udf['v'],axis=0)/β\n",
    "\n",
    "counterfactual=pd.DataFrame({'S':S.stack(),\n",
    "                             'D':D.stack(),\n",
    "                             'Q':Q.stack()})\n",
    "\n",
    "counterfactual=counterfactual.replace(-1,np.nan)\n",
    "\n",
    "_ = counterfactual.plot(x='Q')"
   ]
  },
  {
   "cell_type": "code",
   "execution_count": 38,
   "metadata": {},
   "outputs": [],
   "source": [
    "np.nan?"
   ]
  },
  {
   "cell_type": "markdown",
   "metadata": {},
   "source": [
    "<font color='red'> *notes*: </font>\n",
    "- `.add` \n",
    "- `np.maximum`: Element-wise maximum of array elements.\n",
    "- `**kwargs`: keyword-only elements\n",
    "- `axis`: refers to the dimension of the array. In the case of Pandas, axis=0 points downwards (column-wise), axis=1 points to the right (row-wise)."
   ]
  },
  {
   "cell_type": "code",
   "execution_count": 52,
   "metadata": {},
   "outputs": [
    {
     "name": "stdout",
     "output_type": "stream",
     "text": [
      "qAll =  0    0.754008\n",
      "1    1.521246\n",
      "2    0.591535\n",
      "3    1.070721\n",
      "4    1.120195\n",
      "5    1.185752\n",
      "6    0.392941\n",
      "7    1.588184\n",
      "8    0.813221\n",
      "9    0.735246\n",
      "Name: q, dtype: float64\n",
      "qmax =  1.5881837315122862\n",
      "qmin =  0.3929408001047344\n",
      "<class 'pandas.core.frame.DataFrame'>\n",
      "Q =          min       max  miss\n",
      "0  0.395435  1.112580    -1\n",
      "1  1.162673  1.879819    -1\n",
      "2  0.232963  0.950108    -1\n",
      "3  0.712148  1.429294    -1\n",
      "4  0.761622  1.478768    -1\n",
      "5  0.827179  1.544325    -1\n",
      "6  0.034368  0.751514    -1\n",
      "7  1.229611  1.905820    -1\n",
      "8  0.454649  1.171794    -1\n",
      "9  0.376673  1.093819    -1\n",
      "Udf['u'] =  0    1.367974\n",
      "1    2.763953\n",
      "2    1.514645\n",
      "3    2.235280\n",
      "4    1.949652\n",
      "5    2.151897\n",
      "6    1.137019\n",
      "7    2.792548\n",
      "8    2.067148\n",
      "9    1.446572\n",
      "Name: u, dtype: float64\n",
      "D =          min       max      miss\n",
      "0  0.972539  0.255393  2.367974\n",
      "1  1.601280  0.884134  3.763953\n",
      "2  1.281682  0.564536  2.514645\n",
      "3  1.523132  0.805986  3.235280\n",
      "4  1.188029  0.470884  2.949652\n",
      "5  1.324718  0.607572  3.151897\n",
      "6  1.102651  0.385505  2.137019\n",
      "7  1.562937  0.886727  3.792548\n",
      "8  1.612500  0.895354  3.067148\n",
      "9  1.069899  0.352753  2.446572\n",
      "S =          min       max      miss\n",
      "0  0.434680  0.793253 -0.263038\n",
      "1  1.063420  1.421993 -0.017916\n",
      "2  0.743823  1.102395  0.127341\n",
      "3  0.985272  1.343845  0.129198\n",
      "4  0.650170  1.008743 -0.230641\n",
      "5  0.786859  1.145431 -0.126731\n",
      "6  0.564792  0.923364  0.047608\n",
      "7  1.025078  1.363182 -0.089728\n",
      "8  1.074640  1.433213  0.347316\n",
      "9  0.532040  0.890613 -0.156297\n",
      "<class 'pandas.core.frame.DataFrame'>\n",
      "               S         D         Q\n",
      "0 min   0.434680  0.972539  0.395435\n",
      "  max   0.793253  0.255393  1.112580\n",
      "  miss -0.263038  2.367974 -1.000000\n",
      "1 min   1.063420  1.601280  1.162673\n",
      "  max   1.421993  0.884134  1.879819\n",
      "  miss -0.017916  3.763953 -1.000000\n",
      "2 min   0.743823  1.281682  0.232963\n",
      "  max   1.102395  0.564536  0.950108\n",
      "  miss  0.127341  2.514645 -1.000000\n",
      "3 min   0.985272  1.523132  0.712148\n",
      "  max   1.343845  0.805986  1.429294\n",
      "  miss  0.129198  3.235280 -1.000000\n",
      "4 min   0.650170  1.188029  0.761622\n",
      "  max   1.008743  0.470884  1.478768\n",
      "  miss -0.230641  2.949652 -1.000000\n",
      "5 min   0.786859  1.324718  0.827179\n",
      "  max   1.145431  0.607572  1.544325\n",
      "  miss -0.126731  3.151897 -1.000000\n",
      "6 min   0.564792  1.102651  0.034368\n",
      "  max   0.923364  0.385505  0.751514\n",
      "  miss  0.047608  2.137019 -1.000000\n",
      "7 min   1.025078  1.562937  1.229611\n",
      "  max   1.363182  0.886727  1.905820\n",
      "  miss -0.089728  3.792548 -1.000000\n",
      "8 min   1.074640  1.612500  0.454649\n",
      "  max   1.433213  0.895354  1.171794\n",
      "  miss  0.347316  3.067148 -1.000000\n",
      "9 min   0.532040  1.069899  0.376673\n",
      "  max   0.890613  0.352753  1.093819\n",
      "  miss -0.156297  2.446572 -1.000000\n"
     ]
    }
   ],
   "source": [
    "# 4.7a CODE ABOVE WITH COMMENTS AND PRINTING\n",
    "\n",
    "# Remember that following a call with .function() is similar to R:: %>% max()\n",
    "### this calls all of df's q column\n",
    "qAll = df['q']\n",
    "print(\"qAll = \", qAll)\n",
    "\n",
    "### this just calls the maximum value in df's q column\n",
    "qmax = df['q'].max() \n",
    "print(\"qmax = \", qmax)\n",
    "\n",
    "### this just calls the minimum value in df's q column\n",
    "qmin = df['q'].min()\n",
    "print(\"qmin = \", qmin)\n",
    "\n",
    "# Make a dataframe with columns \"min\", \"max\", and \"miss\" generated accordingly\n",
    "Q = pd.DataFrame({'min':np.maximum(0,df['q']-.3*(qmax-qmin)),\n",
    "                  'max':np.minimum(qmax*1.2,df['q']+0.3*(qmax-qmin)),\n",
    "                  'miss':-1})\n",
    "print(type(Q))\n",
    "print(\"Q = \", Q)\n",
    "\n",
    "# Inverse counterfactual demand & supply (for plotting)\n",
    "### As a reminder, this is what Udf's u column is like\n",
    "print(\"Udf['u'] = \", Udf['u'])\n",
    "\n",
    "### For the Counterfactual Demand, column-wise subtract Udf's u column from each column in Q and divide by α = -1\n",
    "D = Q.add(-Udf['u'],axis=0)/α \n",
    "print(\"D = \", D)\n",
    "\n",
    "### For the Counterfactual Supply, column-wise subtract Udf's v column from each column in Q and divide by β = 2\n",
    "S = Q.add(-Udf['v'],axis=0)/β\n",
    "print(\"S = \", S)\n",
    "\n",
    "### combine S, D, and Q together in dataframe\n",
    "counterfactual=pd.DataFrame({'S':S.stack(),\n",
    "                             'D':D.stack(),\n",
    "                             'Q':Q.stack()})\n",
    "print(type(counterfactual))\n",
    "print(counterfactual)\n"
   ]
  },
  {
   "cell_type": "markdown",
   "metadata": {},
   "source": [
    "<font color='red'> *notes*: </font>\n",
    "- `.replace(x,y)`: replace all x with y\n",
    "- `np.nan`: \"Not a Number\", similar to `NA` in `R`.  For a discussion of how Pandas works with the forms of missingness `None` and `NaN` see [Working with Missing Data in Pandas](https://www.geeksforgeeks.org/working-with-missing-data-in-pandas/)\n",
    "- `.plot`:"
   ]
  },
  {
   "cell_type": "code",
   "execution_count": 50,
   "metadata": {},
   "outputs": [
    {
     "name": "stdout",
     "output_type": "stream",
     "text": [
      "               S         D         Q\n",
      "0 min   0.434680  0.972539  0.395435\n",
      "  max   0.793253  0.255393  1.112580\n",
      "  miss -0.263038  2.367974       NaN\n",
      "1 min   1.063420  1.601280  1.162673\n",
      "  max   1.421993  0.884134  1.879819\n",
      "  miss -0.017916  3.763953       NaN\n",
      "2 min   0.743823  1.281682  0.232963\n",
      "  max   1.102395  0.564536  0.950108\n",
      "  miss  0.127341  2.514645       NaN\n",
      "3 min   0.985272  1.523132  0.712148\n",
      "  max   1.343845  0.805986  1.429294\n",
      "  miss  0.129198  3.235280       NaN\n",
      "4 min   0.650170  1.188029  0.761622\n",
      "  max   1.008743  0.470884  1.478768\n",
      "  miss -0.230641  2.949652       NaN\n",
      "5 min   0.786859  1.324718  0.827179\n",
      "  max   1.145431  0.607572  1.544325\n",
      "  miss -0.126731  3.151897       NaN\n",
      "6 min   0.564792  1.102651  0.034368\n",
      "  max   0.923364  0.385505  0.751514\n",
      "  miss  0.047608  2.137019       NaN\n",
      "7 min   1.025078  1.562937  1.229611\n",
      "  max   1.363182  0.886727  1.905820\n",
      "  miss -0.089728  3.792548       NaN\n",
      "8 min   1.074640  1.612500  0.454649\n",
      "  max   1.433213  0.895354  1.171794\n",
      "  miss  0.347316  3.067148       NaN\n",
      "9 min   0.532040  1.069899  0.376673\n",
      "  max   0.890613  0.352753  1.093819\n",
      "  miss -0.156297  2.446572       NaN\n"
     ]
    },
    {
     "data": {
      "image/png": "[encoded data removed]",
      "text/plain": [
       "<Figure size 432x288 with 1 Axes>"
      ]
     },
     "metadata": {
      "needs_background": "light"
     },
     "output_type": "display_data"
    }
   ],
   "source": [
    "# 4.7b CODE ABOVE WITH COMMENTS AND PRINTING\n",
    "\n",
    "# replace all cells that equal -1 with NaN\n",
    "### Note that what we're doing is setting all of Q's miss values to NaN\n",
    "counterfactual=counterfactual.replace(-1,np.nan)\n",
    "print(counterfactual)\n",
    "\n",
    "_ = counterfactual.plot(x='Q')"
   ]
  },
  {
   "cell_type": "markdown",
   "metadata": {},
   "source": [
    "#### Controlling Price\n",
    "\n"
   ]
  },
  {
   "cell_type": "markdown",
   "metadata": {},
   "source": [
    "Consider the question: what would expected demand be if we *fixed*\n",
    "    the price at $p_0$?  Expected supply?\n",
    "\n"
   ]
  },
  {
   "cell_type": "markdown",
   "metadata": {},
   "source": [
    "#### Average Causal Effect of a Change in Price\n",
    "\n"
   ]
  },
  {
   "cell_type": "markdown",
   "metadata": {},
   "source": [
    "What would expected demand be if we *observed* that the price was $p_0$?\n",
    "\n"
   ]
  },
  {
   "cell_type": "markdown",
   "metadata": {},
   "source": [
    "#### Price Change /Ceteris Paribus/\n",
    "\n"
   ]
  },
  {
   "cell_type": "markdown",
   "metadata": {},
   "source": [
    "Suppose we *observe* prices and quantities $(p_0,q_0)$.  How *would*\n",
    "    we expect the quantity demanded to change if prices were instead\n",
    "    fixed at $p_1$, *ceteris paribus*?\n",
    "\n"
   ]
  },
  {
   "cell_type": "markdown",
   "metadata": {},
   "source": [
    "## 5. [iv_examples](https://datahub.berkeley.edu/user/benjaminkrause/notebooks/ARE212_Materials/iv_examples.ipynb)"
   ]
  },
  {
   "cell_type": "markdown",
   "metadata": {},
   "source": [
    "or see github [iv_examples](https://github.com/ligonteaching/ARE212_Materials/blob/master/iv_examples.ipynb)"
   ]
  },
  {
   "cell_type": "markdown",
   "metadata": {},
   "source": [
    "## Instrumental Variables in Canonical Demand & Supply Model\n",
    "\n"
   ]
  },
  {
   "cell_type": "markdown",
   "metadata": {},
   "source": [
    "### Data-Generating Process\n",
    "\n"
   ]
  },
  {
   "cell_type": "code",
   "execution_count": 55,
   "metadata": {},
   "outputs": [],
   "source": [
    "# 5.1 ORIGINAL CODE\n",
    "\n",
    "import numpy as np\n",
    "import pandas as pd\n",
    "from scipy.stats import distributions as iid\n",
    "\n",
    "# Unobservable component of supply shock z\n",
    "# Can have any distribution one pleases\n",
    "w = iid.beta(1,2,loc=-iid.beta(1,2).mean()) # Centered for convenience\n",
    "\n",
    "# Structural parameters;\n",
    "(alpha,beta) = (-1,2)     \n",
    "sigma = {'u':1/2,'v':1/3}\n",
    "mu = {'u':2,'v':-1}\n",
    "\n",
    "# u,v assumed independent\n",
    "u = iid.norm(loc=mu['u'], scale=sigma['u'])  # Demand shocks\n",
    "v = iid.norm(loc=mu['v'], scale=sigma['v'])  # Supply shocks\n",
    "\n",
    "# Reduced form coefficients\n",
    "pi = [[-beta/(alpha - beta), -1/(alpha - beta)],\n",
    "     [ alpha/(alpha - beta), 1/(alpha - beta)]]\n",
    "\n",
    "# Generate N realizations of system\n",
    "# Outcomes have columns (p,q,z)\n",
    "def wright_dgp(N):\n",
    "    \"\"\"\n",
    "    Generate data consistent with Wright (1934) hog demand and supply.\n",
    "\n",
    "    Returns a pandas dataframe with N observations on (p,q,z), where\n",
    "    z is understood to be a supply shock.\n",
    "    \"\"\"\n",
    "    \n",
    "    # Arrange shocks into an Nx2 matrix\n",
    "    U = np.c_[u.rvs(N), v.rvs(N)]\n",
    "\n",
    "    # Matrix product gives [q,p]; label by putting into df\n",
    "    df = pd.DataFrame(U@pi,columns=['q','p'])\n",
    "\n",
    "    Udf = pd.DataFrame(U,columns=['u','v']) # For future reference\n",
    "\n",
    "    # Relate v and z (need not be linear)\n",
    "    unobserved_shock = w.rvs(N)/10\n",
    "    df['z'] = (1-unobserved_shock)*np.exp(4*Udf['v'] - unobserved_shock)\n",
    "    df['Constant'] = 1\n",
    "\n",
    "    # Include a constant term in both X & Z\n",
    "    return df[['q']],df[['Constant','p']],df[['Constant','z']]"
   ]
  },
  {
   "cell_type": "markdown",
   "metadata": {},
   "source": [
    "<font color='red'> *notes*: </font>\n",
    "- `iid.beta`: A beta continuous random variable.  As an instance of the `rv_continuous` class, `beta` object inherits from it a collection of generic methods.  The probability density function for `beta` is:\n",
    "\n",
    "    $f(x, a, b) = \\frac{\\Gamma(a+b) x^{a-1} (1-x)^{b-1}}{\\Gamma(a) \\Gamma(b)}$ where $\\Gamma(z) = \\int_0^\\infty x^{z-1} e^{-x} dx = (z - 1)!$\n"
   ]
  },
  {
   "cell_type": "code",
   "execution_count": 63,
   "metadata": {},
   "outputs": [],
   "source": [
    "# 5.1 CODE ABOVE WITH COMMENTS AND PRINTING\n",
    "\n",
    "import numpy as np\n",
    "import pandas as pd\n",
    "from scipy.stats import distributions as iid\n",
    "\n",
    "# Unobservable component of supply shock z\n",
    "# Can have any distribution one pleases\n",
    "w = iid.beta(1,2,loc=-iid.beta(1,2).mean()) # Centered for convenience\n",
    "\n",
    "# Structural parameters\n",
    "### Note again setting up a tuple for (alpha, beta) followed by dictionaries for sigma and mu\n",
    "(alpha,beta) = (-1,2)     \n",
    "sigma = {'u':1/2,'v':1/3}\n",
    "mu = {'u':2,'v':-1}\n",
    "\n",
    "# u,v assumed independent\n",
    "### `loc` specifies mean\n",
    "### `scale` specifies standard deviation\n",
    "u = iid.norm(loc=mu['u'], scale=sigma['u'])  # Demand shocks\n",
    "v = iid.norm(loc=mu['v'], scale=sigma['v'])  # Supply shocks\n",
    "\n",
    "# Reduced form coefficients\n",
    "pi = [[-beta/(alpha - beta), -1/(alpha - beta)],\n",
    "     [ alpha/(alpha - beta), 1/(alpha - beta)]]\n",
    "\n",
    "# Generate N realizations of system\n",
    "# Outcomes have columns (p,q,z)\n",
    "def wright_dgp(N):\n",
    "    \"\"\"\n",
    "    Generate data consistent with Wright (1934) hog demand and supply.\n",
    "\n",
    "    Returns a pandas dataframe with N observations on (p,q,z), where\n",
    "    z is understood to be a supply shock.\n",
    "    \"\"\"\n",
    "    \n",
    "    # Arrange shocks into an Nx2 matrix\n",
    "    ### .c_ is concatenating the two sets of N draws from our random variables\n",
    "    U = np.c_[u.rvs(N), v.rvs(N)]\n",
    "\n",
    "    # Matrix product gives [q,p]; label by putting into df\n",
    "    df = pd.DataFrame(U@pi,columns=['q','p'])\n",
    "    \n",
    "    ### Save U as a dataframe\n",
    "    Udf = pd.DataFrame(U,columns=['u','v']) # For future reference\n",
    "\n",
    "    # Relate v and z (need not be linear)\n",
    "    ### unobserved_shock gets N draws from random variable w which are each divided by 10\n",
    "    unobserved_shock = w.rvs(N)/10\n",
    "    \n",
    "    ### df's z column gets this data generating process\n",
    "    df['z'] = (1-unobserved_shock)*np.exp(4*Udf['v'] - unobserved_shock)\n",
    "    \n",
    "    ### df's Constant column is all 1's\n",
    "    df['Constant'] = 1\n",
    "\n",
    "    # Include a constant term in both X & Z\n",
    "    ### return three different sets of df\n",
    "    return df[['q']],df[['Constant','p']],df[['Constant','z']]"
   ]
  },
  {
   "cell_type": "markdown",
   "metadata": {},
   "source": [
    "### Estimation\n",
    "\n"
   ]
  },
  {
   "cell_type": "markdown",
   "metadata": {},
   "source": [
    "Let&rsquo;s write some code to estimate the parameters of the regression\n",
    "   model using the estimator devised above (the &ldquo;simple IV estimator&rdquo;):\n",
    "\n"
   ]
  },
  {
   "cell_type": "code",
   "execution_count": 64,
   "metadata": {},
   "outputs": [
    {
     "name": "stdout",
     "output_type": "stream",
     "text": [
      "[[ 2.0019765 ]\n",
      " [-0.99886835]]\n"
     ]
    }
   ],
   "source": [
    "# 5.2 ORIGINAL CODE\n",
    "\n",
    "import numpy as np\n",
    "\n",
    "def draw_b(N,dgp):\n",
    "    \"\"\"\n",
    "    Generate a random variate $b$ from a sample of $N$ draws from the Wright (1934) DGP.\n",
    "    \"\"\"\n",
    "    y,X,Z =  dgp(N)\n",
    "\n",
    "    return np.linalg.solve(Z.T@X,Z.T@y) # Solve normal eqs\n",
    "\n",
    "b = draw_b(10000,wright_dgp)\n",
    "\n",
    "print(b)"
   ]
  },
  {
   "cell_type": "code",
   "execution_count": 65,
   "metadata": {},
   "outputs": [
    {
     "name": "stdout",
     "output_type": "stream",
     "text": [
      "[[ 2.15078643]\n",
      " [-1.1584841 ]]\n"
     ]
    }
   ],
   "source": [
    "# 5.2 CODE ABOVE WITH COMMENTS AND PRINTING\n",
    "\n",
    "import numpy as np\n",
    "\n",
    "def draw_b(N,dgp):\n",
    "    \"\"\"\n",
    "    Generate a random variate $b$ from a sample of $N$ draws from the Wright (1934) DGP.\n",
    "    \"\"\"\n",
    "    y,X,Z =  dgp(N)\n",
    "\n",
    "    ### remember np.linalg.solve is analogous to R:: solve(t(Z) %*% X) %*% t(Z) %*% y\n",
    "    return np.linalg.solve(Z.T@X,Z.T@y) # Solve normal eqs\n",
    "\n",
    "### take our two new classes for a drive with 1000 draws\n",
    "b = draw_b(10000,wright_dgp)\n",
    "\n",
    "print(b)"
   ]
  },
  {
   "cell_type": "markdown",
   "metadata": {},
   "source": [
    "### Inference\n",
    "\n"
   ]
  },
  {
   "cell_type": "markdown",
   "metadata": {},
   "source": [
    "Now consider the point that the estimator $b$ is a random variable.\n",
    " Under the assumptions of the *model* a Central Limit Theorem applies,\n",
    " so it&rsquo;s asymptotically normal.  But in any finite sample the just\n",
    " identified linear IV estimator can be feisty.  Let&rsquo;s explore using a\n",
    " little Monte Carlo experiment.  Let&rsquo;s begin by constructing a\n",
    " slightly more transparent data-generating process, in which $Z$ and\n",
    " $X$ have a linear relationship:\n",
    "\n"
   ]
  },
  {
   "cell_type": "code",
   "execution_count": 66,
   "metadata": {},
   "outputs": [],
   "source": [
    "# 5.3 ORIGINAL CODE\n",
    "\n",
    "from scipy.stats import distributions as iid\n",
    "\n",
    "def linear_dgp(N,beta,gamma,pi,sigma_u,sigma_v):\n",
    "    u = iid.norm(scale=sigma_u).rvs(N)\n",
    "    v = iid.norm(scale=sigma_v).rvs(N)\n",
    "    Z = iid.norm().rvs(N)\n",
    "\n",
    "    X = Z*pi + v\n",
    "    y = X*beta + u\n",
    "\n",
    "    df = pd.DataFrame({'y':y,'x':X,'z':Z,'Constant':1})\n",
    "\n",
    "    return df[['y']],df[['Constant','x']],df[['Constant','z']]"
   ]
  },
  {
   "cell_type": "markdown",
   "metadata": {},
   "source": [
    "The next bit of code *repeatedly* draws new random samples and\n",
    "  calculates $b$ from them; we then construct a histogram of the\n",
    "  resulting estimates.\n",
    "\n"
   ]
  },
  {
   "cell_type": "code",
   "execution_count": 69,
   "metadata": {},
   "outputs": [
    {
     "data": {
      "text/plain": [
       "array([[<matplotlib.axes._subplots.AxesSubplot object at 0x7f0ec00460f0>]],\n",
       "      dtype=object)"
      ]
     },
     "execution_count": 69,
     "metadata": {},
     "output_type": "execute_result"
    },
    {
     "data": {
      "image/png": "[encoded data removed]",
      "text/plain": [
       "<Figure size 432x288 with 1 Axes>"
      ]
     },
     "metadata": {
      "needs_background": "light"
     },
     "output_type": "display_data"
    }
   ],
   "source": [
    "# 5.4 ORIGINAL CODE \n",
    "\n",
    "from matplotlib import pyplot as plt\n",
    "\n",
    "B = pd.DataFrame([draw_b(100,lambda N: linear_dgp(N,1,0,.01,1,1))[1] for i in range(1000)])\n",
    "B.hist(bins=int(np.ceil(np.sqrt(B.shape[0]))))"
   ]
  },
  {
   "cell_type": "markdown",
   "metadata": {},
   "source": [
    "<font color='red'> *notes*: </font>\n",
    "- `range()`: Return an object that produces a sequence of integers from start (inclusive)\n",
    "to stop (exclusive) by step.  range(i, j) produces i, i+1, i+2, ..., j-1.\n",
    "start defaults to 0, and stop is omitted! range(4) produces 0, 1, 2, 3.\n",
    "- `pd.hist()`: Returns a histogram\n",
    "- `int`: Convert a number or string to an integer, or return 0 if no arguments\n",
    "are given.\n",
    "- `np.ceil`: Return the ceiling of the input, element-wise.  The ceil of the scalar `x` is the smallest integer `i`, such that `i >= x`.  It is often denoted as $\\lceil x \\rceil$.\n",
    "- `np.shape`: length of the corresponding array dimensions.  `R:: length()`\n"
   ]
  },
  {
   "cell_type": "code",
   "execution_count": 84,
   "metadata": {},
   "outputs": [
    {
     "name": "stdout",
     "output_type": "stream",
     "text": [
      "[[-0.10557863]\n",
      " [ 0.14060197]]\n",
      "            0\n",
      "0    2.157655\n",
      "1   -0.104527\n",
      "2    2.534437\n",
      "3   -0.250530\n",
      "4    2.183071\n",
      "5    0.698401\n",
      "6    1.436615\n",
      "7    1.302492\n",
      "8   -0.701173\n",
      "9   -0.742346\n",
      "10  -0.217044\n",
      "11   2.265391\n",
      "12   0.518350\n",
      "13   1.645344\n",
      "14   1.464859\n",
      "15   0.468930\n",
      "16   5.579828\n",
      "17   2.296764\n",
      "18   4.960017\n",
      "19   1.535718\n",
      "20   0.324410\n",
      "21   1.039797\n",
      "22   1.037912\n",
      "23  -0.571672\n",
      "24   3.080482\n",
      "25  -0.928576\n",
      "26  -4.447650\n",
      "27   0.363443\n",
      "28   2.669506\n",
      "29   2.052447\n",
      "..        ...\n",
      "970  1.167228\n",
      "971  3.670309\n",
      "972  2.452843\n",
      "973  0.127050\n",
      "974 -3.645506\n",
      "975  0.658996\n",
      "976  0.760518\n",
      "977  3.194766\n",
      "978  1.025535\n",
      "979  1.190756\n",
      "980  0.672924\n",
      "981  4.397384\n",
      "982  0.972592\n",
      "983  2.246860\n",
      "984 -2.459413\n",
      "985 -7.587911\n",
      "986  5.191141\n",
      "987 -0.573548\n",
      "988  4.094165\n",
      "989 -9.428810\n",
      "990  0.560440\n",
      "991  3.345593\n",
      "992 -4.622303\n",
      "993  5.720079\n",
      "994 -1.504883\n",
      "995  2.812873\n",
      "996  2.413874\n",
      "997  2.528000\n",
      "998  7.017505\n",
      "999 -9.252035\n",
      "\n",
      "[1000 rows x 1 columns]\n"
     ]
    },
    {
     "data": {
      "text/plain": [
       "array([[<matplotlib.axes._subplots.AxesSubplot object at 0x7f0ebfe98358>]],\n",
       "      dtype=object)"
      ]
     },
     "execution_count": 84,
     "metadata": {},
     "output_type": "execute_result"
    },
    {
     "data": {
      "image/png": "[encoded data removed]",
      "text/plain": [
       "<Figure size 432x288 with 1 Axes>"
      ]
     },
     "metadata": {
      "needs_background": "light"
     },
     "output_type": "display_data"
    }
   ],
   "source": [
    "# 5.4 CODE ABOVE WITH COMMENTS AND PRINTING\n",
    "\n",
    "from matplotlib import pyplot as plt\n",
    "\n",
    "### B gets a dataframe we make using our draw_b class with our linear_dgp as the DGP\n",
    "### recall that linear_dgp takes:\n",
    "##### N = N (which we are passing as 100 in the argument immediately before)\n",
    "##### beta = 1\n",
    "##### gamma = 0\n",
    "##### pi = .01\n",
    "##### sigma_u = 1\n",
    "##### sigma_v = 1\n",
    "\n",
    "# We can take a look at the first draw\n",
    "B0 = draw_b(100,lambda N: linear_dgp(N,1,0,.01,1,1))\n",
    "print(B0)\n",
    "\n",
    "# Then do the full set of 1000 draws (only returning the values for b)\n",
    "B = pd.DataFrame([draw_b(100,lambda N: linear_dgp(N,1,0,.01,1,1))[1] for i in range(1000)])\n",
    "print(B)\n",
    "\n",
    "# histogram with bins that are the integer value of the ceiling of the squareroot of the length of the first column of B\n",
    "B.hist(bins=int(np.ceil(np.sqrt(B.shape[0]))))"
   ]
  },
  {
   "cell_type": "markdown",
   "metadata": {},
   "source": [
    "## 6. Student Code Discussions"
   ]
  },
  {
   "cell_type": "markdown",
   "metadata": {},
   "source": [
    "### 6a. Replicating Angrist-Krueger (1991) \n",
    "(submitted to [Bcourses Discussion](https://bcourses.berkeley.edu/courses/1487913/discussion_topics/5738463) by Shreya Dutt)"
   ]
  },
  {
   "cell_type": "code",
   "execution_count": 1,
   "metadata": {},
   "outputs": [],
   "source": [
    "%matplotlib inline\n",
    "\n",
    "# Load libraries\n",
    "import os\n",
    "import numpy as np\n",
    "import numpy.linalg\n",
    "import pandas as pd\n",
    "import matplotlib.pyplot as plt\n",
    "import math\n",
    "from scipy.stats import norm\n",
    "import random\n",
    "import statsmodels.api as sm\n",
    "import statsmodels.formula.api as smf\n",
    "import scipy.linalg as la"
   ]
  },
  {
   "cell_type": "code",
   "execution_count": 2,
   "metadata": {},
   "outputs": [],
   "source": [
    "#Data is stored in the directory below\n",
    "dir = r'C:\\Users\\HP\\Documents\\ShreyaDutt\\Personal\\Berkeley\\Sem2\\ARE212Econometrics\\2nd Half'\n",
    "os.chdir(dir)"
   ]
  },
  {
   "cell_type": "code",
   "execution_count": 3,
   "metadata": {},
   "outputs": [
    {
     "data": {
      "text/html": [
       "<div>\n",
       "<style scoped>\n",
       "    .dataframe tbody tr th:only-of-type {\n",
       "        vertical-align: middle;\n",
       "    }\n",
       "\n",
       "    .dataframe tbody tr th {\n",
       "        vertical-align: top;\n",
       "    }\n",
       "\n",
       "    .dataframe thead th {\n",
       "        text-align: right;\n",
       "    }\n",
       "</style>\n",
       "<table border=\"1\" class=\"dataframe\">\n",
       "  <thead>\n",
       "    <tr style=\"text-align: right;\">\n",
       "      <th></th>\n",
       "      <th>ageq</th>\n",
       "      <th>edu</th>\n",
       "      <th>logwage</th>\n",
       "      <th>married</th>\n",
       "      <th>state</th>\n",
       "      <th>qob</th>\n",
       "      <th>black</th>\n",
       "      <th>smsa</th>\n",
       "      <th>yob</th>\n",
       "      <th>region</th>\n",
       "    </tr>\n",
       "  </thead>\n",
       "  <tbody>\n",
       "    <tr>\n",
       "      <td>count</td>\n",
       "      <td>329509.000000</td>\n",
       "      <td>329509.000000</td>\n",
       "      <td>329509.000000</td>\n",
       "      <td>329509.000000</td>\n",
       "      <td>329509.000000</td>\n",
       "      <td>329509.000000</td>\n",
       "      <td>329509.000000</td>\n",
       "      <td>329509.000000</td>\n",
       "      <td>329509.000000</td>\n",
       "      <td>329509.000000</td>\n",
       "    </tr>\n",
       "    <tr>\n",
       "      <td>mean</td>\n",
       "      <td>45.020336</td>\n",
       "      <td>12.769912</td>\n",
       "      <td>5.899992</td>\n",
       "      <td>0.862559</td>\n",
       "      <td>30.692646</td>\n",
       "      <td>2.506429</td>\n",
       "      <td>0.081676</td>\n",
       "      <td>0.813668</td>\n",
       "      <td>1934.602773</td>\n",
       "      <td>3.625865</td>\n",
       "    </tr>\n",
       "    <tr>\n",
       "      <td>std</td>\n",
       "      <td>2.920789</td>\n",
       "      <td>3.281244</td>\n",
       "      <td>0.678769</td>\n",
       "      <td>0.344313</td>\n",
       "      <td>14.218379</td>\n",
       "      <td>1.111922</td>\n",
       "      <td>0.273871</td>\n",
       "      <td>0.389375</td>\n",
       "      <td>2.904956</td>\n",
       "      <td>2.654053</td>\n",
       "    </tr>\n",
       "    <tr>\n",
       "      <td>min</td>\n",
       "      <td>40.250000</td>\n",
       "      <td>0.000000</td>\n",
       "      <td>-2.341806</td>\n",
       "      <td>0.000000</td>\n",
       "      <td>1.000000</td>\n",
       "      <td>1.000000</td>\n",
       "      <td>0.000000</td>\n",
       "      <td>0.000000</td>\n",
       "      <td>1930.000000</td>\n",
       "      <td>0.000000</td>\n",
       "    </tr>\n",
       "    <tr>\n",
       "      <td>25%</td>\n",
       "      <td>42.500000</td>\n",
       "      <td>12.000000</td>\n",
       "      <td>5.636505</td>\n",
       "      <td>1.000000</td>\n",
       "      <td>19.000000</td>\n",
       "      <td>2.000000</td>\n",
       "      <td>0.000000</td>\n",
       "      <td>1.000000</td>\n",
       "      <td>1932.000000</td>\n",
       "      <td>1.000000</td>\n",
       "    </tr>\n",
       "    <tr>\n",
       "      <td>50%</td>\n",
       "      <td>45.000000</td>\n",
       "      <td>12.000000</td>\n",
       "      <td>5.952494</td>\n",
       "      <td>1.000000</td>\n",
       "      <td>34.000000</td>\n",
       "      <td>3.000000</td>\n",
       "      <td>0.000000</td>\n",
       "      <td>1.000000</td>\n",
       "      <td>1935.000000</td>\n",
       "      <td>3.000000</td>\n",
       "    </tr>\n",
       "    <tr>\n",
       "      <td>75%</td>\n",
       "      <td>47.500000</td>\n",
       "      <td>15.000000</td>\n",
       "      <td>6.257376</td>\n",
       "      <td>1.000000</td>\n",
       "      <td>42.000000</td>\n",
       "      <td>3.000000</td>\n",
       "      <td>0.000000</td>\n",
       "      <td>1.000000</td>\n",
       "      <td>1937.000000</td>\n",
       "      <td>6.000000</td>\n",
       "    </tr>\n",
       "    <tr>\n",
       "      <td>max</td>\n",
       "      <td>50.000000</td>\n",
       "      <td>20.000000</td>\n",
       "      <td>10.532096</td>\n",
       "      <td>1.000000</td>\n",
       "      <td>56.000000</td>\n",
       "      <td>4.000000</td>\n",
       "      <td>1.000000</td>\n",
       "      <td>1.000000</td>\n",
       "      <td>1939.000000</td>\n",
       "      <td>8.000000</td>\n",
       "    </tr>\n",
       "  </tbody>\n",
       "</table>\n",
       "</div>"
      ],
      "text/plain": [
       "                ageq            edu        logwage        married  \\\n",
       "count  329509.000000  329509.000000  329509.000000  329509.000000   \n",
       "mean       45.020336      12.769912       5.899992       0.862559   \n",
       "std         2.920789       3.281244       0.678769       0.344313   \n",
       "min        40.250000       0.000000      -2.341806       0.000000   \n",
       "25%        42.500000      12.000000       5.636505       1.000000   \n",
       "50%        45.000000      12.000000       5.952494       1.000000   \n",
       "75%        47.500000      15.000000       6.257376       1.000000   \n",
       "max        50.000000      20.000000      10.532096       1.000000   \n",
       "\n",
       "               state            qob          black           smsa  \\\n",
       "count  329509.000000  329509.000000  329509.000000  329509.000000   \n",
       "mean       30.692646       2.506429       0.081676       0.813668   \n",
       "std        14.218379       1.111922       0.273871       0.389375   \n",
       "min         1.000000       1.000000       0.000000       0.000000   \n",
       "25%        19.000000       2.000000       0.000000       1.000000   \n",
       "50%        34.000000       3.000000       0.000000       1.000000   \n",
       "75%        42.000000       3.000000       0.000000       1.000000   \n",
       "max        56.000000       4.000000       1.000000       1.000000   \n",
       "\n",
       "                 yob         region  \n",
       "count  329509.000000  329509.000000  \n",
       "mean     1934.602773       3.625865  \n",
       "std         2.904956       2.654053  \n",
       "min      1930.000000       0.000000  \n",
       "25%      1932.000000       1.000000  \n",
       "50%      1935.000000       3.000000  \n",
       "75%      1937.000000       6.000000  \n",
       "max      1939.000000       8.000000  "
      ]
     },
     "execution_count": 3,
     "metadata": {},
     "output_type": "execute_result"
    }
   ],
   "source": [
    "#Read the dataset\n",
    "data = pd.read_stata('angrist-krueger91.dta')\n",
    "data.describe()"
   ]
  },
  {
   "cell_type": "code",
   "execution_count": 4,
   "metadata": {},
   "outputs": [
    {
     "data": {
      "text/html": [
       "<div>\n",
       "<style scoped>\n",
       "    .dataframe tbody tr th:only-of-type {\n",
       "        vertical-align: middle;\n",
       "    }\n",
       "\n",
       "    .dataframe tbody tr th {\n",
       "        vertical-align: top;\n",
       "    }\n",
       "\n",
       "    .dataframe thead th {\n",
       "        text-align: right;\n",
       "    }\n",
       "</style>\n",
       "<table border=\"1\" class=\"dataframe\">\n",
       "  <thead>\n",
       "    <tr style=\"text-align: right;\">\n",
       "      <th></th>\n",
       "      <th>ageq</th>\n",
       "      <th>edu</th>\n",
       "      <th>logwage</th>\n",
       "      <th>married</th>\n",
       "      <th>state</th>\n",
       "      <th>black</th>\n",
       "      <th>smsa</th>\n",
       "      <th>yob_1931</th>\n",
       "      <th>yob_1932</th>\n",
       "      <th>yob_1933</th>\n",
       "      <th>...</th>\n",
       "      <th>yob_1936_qob_4</th>\n",
       "      <th>yob_1937_qob_2</th>\n",
       "      <th>yob_1937_qob_3</th>\n",
       "      <th>yob_1937_qob_4</th>\n",
       "      <th>yob_1938_qob_2</th>\n",
       "      <th>yob_1938_qob_3</th>\n",
       "      <th>yob_1938_qob_4</th>\n",
       "      <th>yob_1939_qob_2</th>\n",
       "      <th>yob_1939_qob_3</th>\n",
       "      <th>yob_1939_qob_4</th>\n",
       "    </tr>\n",
       "  </thead>\n",
       "  <tbody>\n",
       "    <tr>\n",
       "      <td>count</td>\n",
       "      <td>329509.000000</td>\n",
       "      <td>329509.000000</td>\n",
       "      <td>329509.000000</td>\n",
       "      <td>329509.000000</td>\n",
       "      <td>329509.000000</td>\n",
       "      <td>329509.000000</td>\n",
       "      <td>329509.000000</td>\n",
       "      <td>329509.000000</td>\n",
       "      <td>329509.000000</td>\n",
       "      <td>329509.000000</td>\n",
       "      <td>...</td>\n",
       "      <td>329509.000000</td>\n",
       "      <td>329509.000000</td>\n",
       "      <td>329509.000000</td>\n",
       "      <td>329509.000000</td>\n",
       "      <td>329509.000000</td>\n",
       "      <td>329509.000000</td>\n",
       "      <td>329509.000000</td>\n",
       "      <td>329509.000000</td>\n",
       "      <td>329509.000000</td>\n",
       "      <td>329509.000000</td>\n",
       "    </tr>\n",
       "    <tr>\n",
       "      <td>mean</td>\n",
       "      <td>45.020336</td>\n",
       "      <td>12.769912</td>\n",
       "      <td>5.899992</td>\n",
       "      <td>0.862559</td>\n",
       "      <td>30.692646</td>\n",
       "      <td>0.081676</td>\n",
       "      <td>0.813668</td>\n",
       "      <td>0.092814</td>\n",
       "      <td>0.097755</td>\n",
       "      <td>0.093324</td>\n",
       "      <td>...</td>\n",
       "      <td>0.024157</td>\n",
       "      <td>0.024831</td>\n",
       "      <td>0.027999</td>\n",
       "      <td>0.025414</td>\n",
       "      <td>0.025741</td>\n",
       "      <td>0.028439</td>\n",
       "      <td>0.026288</td>\n",
       "      <td>0.026048</td>\n",
       "      <td>0.029386</td>\n",
       "      <td>0.026825</td>\n",
       "    </tr>\n",
       "    <tr>\n",
       "      <td>std</td>\n",
       "      <td>2.920789</td>\n",
       "      <td>3.281244</td>\n",
       "      <td>0.678769</td>\n",
       "      <td>0.344313</td>\n",
       "      <td>14.218379</td>\n",
       "      <td>0.273871</td>\n",
       "      <td>0.389375</td>\n",
       "      <td>0.290172</td>\n",
       "      <td>0.296983</td>\n",
       "      <td>0.290886</td>\n",
       "      <td>...</td>\n",
       "      <td>0.153537</td>\n",
       "      <td>0.155610</td>\n",
       "      <td>0.164971</td>\n",
       "      <td>0.157378</td>\n",
       "      <td>0.158363</td>\n",
       "      <td>0.166224</td>\n",
       "      <td>0.159989</td>\n",
       "      <td>0.159278</td>\n",
       "      <td>0.168887</td>\n",
       "      <td>0.161571</td>\n",
       "    </tr>\n",
       "    <tr>\n",
       "      <td>min</td>\n",
       "      <td>40.250000</td>\n",
       "      <td>0.000000</td>\n",
       "      <td>-2.341806</td>\n",
       "      <td>0.000000</td>\n",
       "      <td>1.000000</td>\n",
       "      <td>0.000000</td>\n",
       "      <td>0.000000</td>\n",
       "      <td>0.000000</td>\n",
       "      <td>0.000000</td>\n",
       "      <td>0.000000</td>\n",
       "      <td>...</td>\n",
       "      <td>0.000000</td>\n",
       "      <td>0.000000</td>\n",
       "      <td>0.000000</td>\n",
       "      <td>0.000000</td>\n",
       "      <td>0.000000</td>\n",
       "      <td>0.000000</td>\n",
       "      <td>0.000000</td>\n",
       "      <td>0.000000</td>\n",
       "      <td>0.000000</td>\n",
       "      <td>0.000000</td>\n",
       "    </tr>\n",
       "    <tr>\n",
       "      <td>25%</td>\n",
       "      <td>42.500000</td>\n",
       "      <td>12.000000</td>\n",
       "      <td>5.636505</td>\n",
       "      <td>1.000000</td>\n",
       "      <td>19.000000</td>\n",
       "      <td>0.000000</td>\n",
       "      <td>1.000000</td>\n",
       "      <td>0.000000</td>\n",
       "      <td>0.000000</td>\n",
       "      <td>0.000000</td>\n",
       "      <td>...</td>\n",
       "      <td>0.000000</td>\n",
       "      <td>0.000000</td>\n",
       "      <td>0.000000</td>\n",
       "      <td>0.000000</td>\n",
       "      <td>0.000000</td>\n",
       "      <td>0.000000</td>\n",
       "      <td>0.000000</td>\n",
       "      <td>0.000000</td>\n",
       "      <td>0.000000</td>\n",
       "      <td>0.000000</td>\n",
       "    </tr>\n",
       "    <tr>\n",
       "      <td>50%</td>\n",
       "      <td>45.000000</td>\n",
       "      <td>12.000000</td>\n",
       "      <td>5.952494</td>\n",
       "      <td>1.000000</td>\n",
       "      <td>34.000000</td>\n",
       "      <td>0.000000</td>\n",
       "      <td>1.000000</td>\n",
       "      <td>0.000000</td>\n",
       "      <td>0.000000</td>\n",
       "      <td>0.000000</td>\n",
       "      <td>...</td>\n",
       "      <td>0.000000</td>\n",
       "      <td>0.000000</td>\n",
       "      <td>0.000000</td>\n",
       "      <td>0.000000</td>\n",
       "      <td>0.000000</td>\n",
       "      <td>0.000000</td>\n",
       "      <td>0.000000</td>\n",
       "      <td>0.000000</td>\n",
       "      <td>0.000000</td>\n",
       "      <td>0.000000</td>\n",
       "    </tr>\n",
       "    <tr>\n",
       "      <td>75%</td>\n",
       "      <td>47.500000</td>\n",
       "      <td>15.000000</td>\n",
       "      <td>6.257376</td>\n",
       "      <td>1.000000</td>\n",
       "      <td>42.000000</td>\n",
       "      <td>0.000000</td>\n",
       "      <td>1.000000</td>\n",
       "      <td>0.000000</td>\n",
       "      <td>0.000000</td>\n",
       "      <td>0.000000</td>\n",
       "      <td>...</td>\n",
       "      <td>0.000000</td>\n",
       "      <td>0.000000</td>\n",
       "      <td>0.000000</td>\n",
       "      <td>0.000000</td>\n",
       "      <td>0.000000</td>\n",
       "      <td>0.000000</td>\n",
       "      <td>0.000000</td>\n",
       "      <td>0.000000</td>\n",
       "      <td>0.000000</td>\n",
       "      <td>0.000000</td>\n",
       "    </tr>\n",
       "    <tr>\n",
       "      <td>max</td>\n",
       "      <td>50.000000</td>\n",
       "      <td>20.000000</td>\n",
       "      <td>10.532096</td>\n",
       "      <td>1.000000</td>\n",
       "      <td>56.000000</td>\n",
       "      <td>1.000000</td>\n",
       "      <td>1.000000</td>\n",
       "      <td>1.000000</td>\n",
       "      <td>1.000000</td>\n",
       "      <td>1.000000</td>\n",
       "      <td>...</td>\n",
       "      <td>1.000000</td>\n",
       "      <td>1.000000</td>\n",
       "      <td>1.000000</td>\n",
       "      <td>1.000000</td>\n",
       "      <td>1.000000</td>\n",
       "      <td>1.000000</td>\n",
       "      <td>1.000000</td>\n",
       "      <td>1.000000</td>\n",
       "      <td>1.000000</td>\n",
       "      <td>1.000000</td>\n",
       "    </tr>\n",
       "  </tbody>\n",
       "</table>\n",
       "<p>8 rows × 55 columns</p>\n",
       "</div>"
      ],
      "text/plain": [
       "                ageq            edu        logwage        married  \\\n",
       "count  329509.000000  329509.000000  329509.000000  329509.000000   \n",
       "mean       45.020336      12.769912       5.899992       0.862559   \n",
       "std         2.920789       3.281244       0.678769       0.344313   \n",
       "min        40.250000       0.000000      -2.341806       0.000000   \n",
       "25%        42.500000      12.000000       5.636505       1.000000   \n",
       "50%        45.000000      12.000000       5.952494       1.000000   \n",
       "75%        47.500000      15.000000       6.257376       1.000000   \n",
       "max        50.000000      20.000000      10.532096       1.000000   \n",
       "\n",
       "               state          black           smsa       yob_1931  \\\n",
       "count  329509.000000  329509.000000  329509.000000  329509.000000   \n",
       "mean       30.692646       0.081676       0.813668       0.092814   \n",
       "std        14.218379       0.273871       0.389375       0.290172   \n",
       "min         1.000000       0.000000       0.000000       0.000000   \n",
       "25%        19.000000       0.000000       1.000000       0.000000   \n",
       "50%        34.000000       0.000000       1.000000       0.000000   \n",
       "75%        42.000000       0.000000       1.000000       0.000000   \n",
       "max        56.000000       1.000000       1.000000       1.000000   \n",
       "\n",
       "            yob_1932       yob_1933  ...  yob_1936_qob_4  yob_1937_qob_2  \\\n",
       "count  329509.000000  329509.000000  ...   329509.000000   329509.000000   \n",
       "mean        0.097755       0.093324  ...        0.024157        0.024831   \n",
       "std         0.296983       0.290886  ...        0.153537        0.155610   \n",
       "min         0.000000       0.000000  ...        0.000000        0.000000   \n",
       "25%         0.000000       0.000000  ...        0.000000        0.000000   \n",
       "50%         0.000000       0.000000  ...        0.000000        0.000000   \n",
       "75%         0.000000       0.000000  ...        0.000000        0.000000   \n",
       "max         1.000000       1.000000  ...        1.000000        1.000000   \n",
       "\n",
       "       yob_1937_qob_3  yob_1937_qob_4  yob_1938_qob_2  yob_1938_qob_3  \\\n",
       "count   329509.000000   329509.000000   329509.000000   329509.000000   \n",
       "mean         0.027999        0.025414        0.025741        0.028439   \n",
       "std          0.164971        0.157378        0.158363        0.166224   \n",
       "min          0.000000        0.000000        0.000000        0.000000   \n",
       "25%          0.000000        0.000000        0.000000        0.000000   \n",
       "50%          0.000000        0.000000        0.000000        0.000000   \n",
       "75%          0.000000        0.000000        0.000000        0.000000   \n",
       "max          1.000000        1.000000        1.000000        1.000000   \n",
       "\n",
       "       yob_1938_qob_4  yob_1939_qob_2  yob_1939_qob_3  yob_1939_qob_4  \n",
       "count   329509.000000   329509.000000   329509.000000   329509.000000  \n",
       "mean         0.026288        0.026048        0.029386        0.026825  \n",
       "std          0.159989        0.159278        0.168887        0.161571  \n",
       "min          0.000000        0.000000        0.000000        0.000000  \n",
       "25%          0.000000        0.000000        0.000000        0.000000  \n",
       "50%          0.000000        0.000000        0.000000        0.000000  \n",
       "75%          0.000000        0.000000        0.000000        0.000000  \n",
       "max          1.000000        1.000000        1.000000        1.000000  \n",
       "\n",
       "[8 rows x 55 columns]"
      ]
     },
     "execution_count": 4,
     "metadata": {},
     "output_type": "execute_result"
    }
   ],
   "source": [
    "#Create yob, qob, region dummies\n",
    "s = pd.get_dummies(data,prefix = ['yob', 'qob', 'region'],columns = ['yob', 'qob', 'region'], drop_first = True)\n",
    "s['ageq_sq'] = s['ageq']**2\n",
    "s = s.rename(columns={\"region_1.0\": \"region_1\", \"region_2.0\": \"region_2\", \"region_3.0\": \"region_3\", \"region_4.0\": \"region_4\", \"region_5.0\": \"region_5\", \"region_6.0\": \"region_6\", \"region_7.0\": \"region_7\", \"region_8.0\": \"region_8\"})\n",
    "#Create yob*qob interaction terms\n",
    "for i in range(9):\n",
    "    for j in range(3):\n",
    "        s['yob_193'+str(i+1)+'_qob_'+str(j+2)] = s['yob_193'+str(i+1)]*s['qob_'+str(j+2)]     \n",
    "s.describe()"
   ]
  },
  {
   "cell_type": "code",
   "execution_count": 5,
   "metadata": {},
   "outputs": [],
   "source": [
    "#OLS function\n",
    "def OLS(Y,X):\n",
    "    X = np.array(X)\n",
    "    Y = np.array(Y)\n",
    "    XX = np.transpose(X)@X\n",
    "    XX_inv = np.linalg.pinv(XX)#Using pseduo inverse\n",
    "    XY = np.transpose(X)@Y\n",
    "    Beta_OLS = XX_inv@XY\n",
    "    #Get estimated variance-covariance matrix for Beta_Hat\n",
    "    #We are working with the assumption of homoscedasticity\n",
    "    N = Y.shape[0]\n",
    "    resid = Y - X@Beta_OLS \n",
    "    resid_var = (np.sum(np.square(resid)))/(N-1)\n",
    "    var_covar = resid_var*XX_inv \n",
    "    K = XX.shape[0]\n",
    "    SE = np.zeros(K)\n",
    "    for i in range(K):\n",
    "          SE[i] = np.sqrt(var_covar[i,i])\n",
    "    t = (1/SE)*Beta_OLS\n",
    "    return Beta_OLS, SE, var_covar,t"
   ]
  },
  {
   "cell_type": "code",
   "execution_count": 6,
   "metadata": {},
   "outputs": [],
   "source": [
    "#IV (2SLS) estimator function:\n",
    "def IV2SLS(Y,X,Z):\n",
    "    X = np.array(X)\n",
    "    Y = np.array(Y)\n",
    "    Z = np.array(Z)\n",
    "    ZX = np.transpose(Z)@X\n",
    "    ZX_inv = np.linalg.pinv(ZX)#using pseuodo-inverse\n",
    "    ZY = np.transpose(Z)@Y\n",
    "    ZZ = np.transpose(Z)@Z\n",
    "    ZZ_inv = np.linalg.pinv(ZZ)\n",
    "    #Beta_IV2SLS = ZX_inv@ZY\n",
    "    Beta_IV2SLS = np.linalg.pinv(np.transpose(ZX)@ZZ_inv@ZX)@(np.transpose(ZX)@ZZ_inv@ZY)\n",
    "    #Get estimated variance-covariance matrix for Beta_Hat\n",
    "    #We are working with the assumption of homoscedasticity\n",
    "    e = Y - X@Beta_IV2SLS\n",
    "    SSR = np.transpose(e)@e\n",
    "    N = X.shape[0]\n",
    "    vcv_IV2SLS = (SSR/N)*np.linalg.pinv(np.transpose(ZX)@ZZ_inv@ZX)\n",
    "    K = X.shape[1]\n",
    "    SE_IV2SLS = np.zeros(K)\n",
    "    for i in range(K):\n",
    "          SE_IV2SLS[i] = np.sqrt(vcv_IV2SLS[i,i])\n",
    "    t_IV2SLS = (1/SE_IV2SLS)*Beta_IV2SLS\n",
    "    #rank = np.linalg.matrix_rank(ZX)\n",
    "    return Beta_IV2SLS, SE_IV2SLS, vcv_IV2SLS,t_IV2SLS"
   ]
  },
  {
   "cell_type": "code",
   "execution_count": 7,
   "metadata": {},
   "outputs": [],
   "source": [
    "#HFUL estimator function (older version):\n",
    "def HFUL(Y,X,Z):\n",
    "    X = np.array(X)\n",
    "    Y = np.array(Y)\n",
    "    Z = np.array(Z)\n",
    "    ZZ = np.transpose(Z)@Z\n",
    "    ZZ_inv = np.linalg.pinv(ZZ)\n",
    "    P = Z@ZZ_inv@np.transpose(Z)\n",
    "    X_bar = np.concatenate((Y,X),axis=1)\n",
    "    X_barX_bar = np.transpose(X_bar)@X_bar\n",
    "    X_barX_bar_inv = np.linalg.pinv(X_barX_bar)\n",
    "    XPX = np.transpose(X_bar)@P@X_bar\n",
    "    N = X.shape[0]\n",
    "    G = X.shape[1]\n",
    "    B = np.zeros((G+1,G+1))\n",
    "    C = np.zeros((G,G))\n",
    "    D = np.zeros((G,1))\n",
    "    for i in range(N):\n",
    "        X_bar_i = X_bar[i,:]\n",
    "        X_bar_i_transpose = np.transpose(X_bar_i)\n",
    "        B += P[i,i]*(X_bar_i@X_bar_i_transpose)\n",
    "    w, v = np.linalg.eig(X_barX_bar_inv@(XPX - B))\n",
    "    alpha = min(w)\n",
    "    alpha_hat = (alpha - (1-alpha)/N)/(1 -(1-alpha)/N)\n",
    "    XPX_1 = np.transpose(X)@P@X\n",
    "    XPY = np.transpose(X)@P@Y\n",
    "    XY = np.transpose(X)@Y\n",
    "    XX = np.transpose(X)@X\n",
    "    for i in range(N):\n",
    "        X_i = X[i,:]\n",
    "        X_i_transpose = np.transpose(X_i)\n",
    "        C += P[i,i]*(X_i@X_i_transpose)\n",
    "    for i in range(N):\n",
    "        X_i = X[i,:]\n",
    "        Y_i = Y[i]\n",
    "        D += (P[i,i]*X_i*Y_i[0]).reshape(-1,1)\n",
    "    Beta_HFUL = np.linalg.pinv(XPX_1 - C - alpha_hat*XX)@(XPY - D - alpha_hat*XY)\n",
    "    return Beta_HFUL"
   ]
  },
  {
   "cell_type": "code",
   "execution_count": 40,
   "metadata": {},
   "outputs": [
    {
     "name": "stdout",
     "output_type": "stream",
     "text": [
      "Education OLS estimate:  0.0711\n",
      "Education OLS SE: 0.0003\n"
     ]
    }
   ],
   "source": [
    "#OLS (Table V Col 1)\n",
    "y = s[['logwage']]\n",
    "x1 = s[['edu','yob_1931', 'yob_1932', 'yob_1933','yob_1934', 'yob_1935', 'yob_1936', 'yob_1937', 'yob_1938', 'yob_1939']]\n",
    "x1 = sm.add_constant(x1.to_numpy())\n",
    "OLS1 = OLS(y,x1)\n",
    "Coeff1 = OLS1[0]\n",
    "SE1 = OLS1[1]\n",
    "print(\"Education OLS estimate: \", np.round(Coeff1[1][0],4))\n",
    "print(\"Education OLS SE:\", np.round(SE1[1],4))"
   ]
  },
  {
   "cell_type": "code",
   "execution_count": 47,
   "metadata": {
    "scrolled": false
   },
   "outputs": [
    {
     "name": "stdout",
     "output_type": "stream",
     "text": [
      "Education TSLS estimate:  0.0891\n",
      "Education TSLS SE: 0.0161\n"
     ]
    }
   ],
   "source": [
    "#2SLS (Table V Col 2)\n",
    "z1 = s[['yob_1931', 'yob_1932', 'yob_1933','yob_1934', 'yob_1935', 'yob_1936', 'yob_1937', 'yob_1938', 'yob_1939','yob_1931_qob_2','yob_1931_qob_3','yob_1931_qob_4','yob_1932_qob_2','yob_1932_qob_3','yob_1932_qob_4','yob_1933_qob_2','yob_1933_qob_3','yob_1933_qob_4','yob_1934_qob_2','yob_1934_qob_3','yob_1934_qob_4','yob_1935_qob_2','yob_1935_qob_3','yob_1935_qob_4','yob_1936_qob_2','yob_1936_qob_3','yob_1936_qob_4','yob_1937_qob_2','yob_1937_qob_3','yob_1937_qob_4','yob_1938_qob_2','yob_1938_qob_3','yob_1938_qob_4','yob_1939_qob_2','yob_1939_qob_3','yob_1939_qob_4', 'qob_2', 'qob_3', 'qob_4' ]]\n",
    "z1 = sm.add_constant(z1.to_numpy())\n",
    "TSLS1 = IV2SLS(y,x1,z1)\n",
    "Coeff_TSLS1 = TSLS1[0]\n",
    "SE_TSLS1 = TSLS1[1]\n",
    "print(\"Education TSLS estimate: \", np.round(Coeff_TSLS1[1][0],4))\n",
    "print(\"Education TSLS SE:\", np.round(SE_TSLS1[1],4))"
   ]
  },
  {
   "cell_type": "code",
   "execution_count": 30,
   "metadata": {},
   "outputs": [
    {
     "name": "stdout",
     "output_type": "stream",
     "text": [
      "Education OLS estimate:  0.0711\n",
      "Education OLS SE: 0.0003\n",
      "Age OLS estimate:  -0.0772\n",
      "Age OLS SE: 0.0621\n",
      "Age Squared OLS estimate:  0.0008\n",
      "Age Squared OLS SE: 0.0007\n"
     ]
    }
   ],
   "source": [
    "#OLS [Table V Col 3]\n",
    "x2 = s[['edu','yob_1931', 'yob_1932', 'yob_1933','yob_1934', 'yob_1935', 'yob_1936', 'yob_1937', 'yob_1938', 'yob_1939', 'ageq', 'ageq_sq']]\n",
    "x2 = sm.add_constant(x2)\n",
    "OLS2 = OLS(y,x2)\n",
    "Coeff2 = OLS2[0]\n",
    "SE2 = OLS2[1]\n",
    "print(\"Education OLS estimate: \", np.round(Coeff2[1][0],4))\n",
    "print(\"Education OLS SE:\", np.round(SE2[1],4))\n",
    "print(\"Age OLS estimate: \", np.round(Coeff2[11][0],4))\n",
    "print(\"Age OLS SE:\", np.round(SE2[11],4))\n",
    "print(\"Age Squared OLS estimate: \", np.round(Coeff2[12][0],4))\n",
    "print(\"Age Squared OLS SE:\", np.round(SE2[12],4))"
   ]
  },
  {
   "cell_type": "code",
   "execution_count": 31,
   "metadata": {},
   "outputs": [
    {
     "name": "stdout",
     "output_type": "stream",
     "text": [
      "Education TSLS estimate:  0.076\n",
      "Education TSLS SE: 0.029\n",
      "Age TSLS estimate:  -0.0801\n",
      "Age TSLS SE: 0.0645\n",
      "Age Squared TSLS estimate:  0.0008\n",
      "Age Squared TSLS SE: 0.0007\n"
     ]
    }
   ],
   "source": [
    "#2SLS (Table V Col 4)\n",
    "z2 = s[['yob_1931', 'yob_1932', 'yob_1933','yob_1934', 'yob_1935', 'yob_1936', 'yob_1937', 'yob_1938', 'yob_1939','yob_1931_qob_2','yob_1931_qob_3','yob_1931_qob_4','yob_1932_qob_2','yob_1932_qob_3','yob_1932_qob_4','yob_1933_qob_2','yob_1933_qob_3','yob_1933_qob_4','yob_1934_qob_2','yob_1934_qob_3','yob_1934_qob_4','yob_1935_qob_2','yob_1935_qob_3','yob_1935_qob_4','yob_1936_qob_2','yob_1936_qob_3','yob_1936_qob_4','yob_1937_qob_2','yob_1937_qob_3','yob_1937_qob_4','yob_1938_qob_2','yob_1938_qob_3','yob_1938_qob_4','yob_1939_qob_2','yob_1939_qob_3','yob_1939_qob_4', 'qob_2', 'qob_3', 'qob_4', 'ageq', 'ageq_sq' ]]\n",
    "z2 = sm.add_constant(z2)\n",
    "TSLS2 = IV2SLS(y,x2,z2)\n",
    "Coeff_TSLS2 = TSLS2[0]\n",
    "SE_TSLS2 = TSLS2[1]\n",
    "print(\"Education TSLS estimate: \", np.round(Coeff_TSLS2[1][0],4))\n",
    "print(\"Education TSLS SE:\", np.round(SE_TSLS2[1],4))\n",
    "print(\"Age TSLS estimate: \", np.round(Coeff_TSLS2[11][0],4))\n",
    "print(\"Age TSLS SE:\", np.round(SE_TSLS2[11],4))\n",
    "print(\"Age Squared TSLS estimate: \", np.round(Coeff_TSLS2[12][0],4))\n",
    "print(\"Age Squared TSLS SE:\", np.round(SE_TSLS2[12],4))"
   ]
  },
  {
   "cell_type": "code",
   "execution_count": 32,
   "metadata": {},
   "outputs": [
    {
     "name": "stdout",
     "output_type": "stream",
     "text": [
      "Education OLS estimate:  0.0632\n",
      "Education OLS SE: 0.0003\n",
      "Race OLS estimate:  -0.2575\n",
      "Race OLS SE: 0.004\n",
      "SMSA OLS estimate:  0.1763\n",
      "SMSA OLS SE: 0.0029\n",
      "Married OLS estimate:  0.2479\n",
      "Married OLS SE: 0.0032\n"
     ]
    }
   ],
   "source": [
    "#OLS [Table V Col 5]\n",
    "x3 = s[['edu','yob_1931', 'yob_1932', 'yob_1933','yob_1934', 'yob_1935', 'yob_1936', 'yob_1937', 'yob_1938', 'yob_1939', 'black', 'smsa', 'married', 'region_1', 'region_2', 'region_3', 'region_4', 'region_5', 'region_6', 'region_7', 'region_8']]\n",
    "x3 = sm.add_constant(x3.to_numpy())\n",
    "OLS3 = OLS(y,x3)\n",
    "Coeff3 = OLS3[0]\n",
    "SE3 = OLS3[1]\n",
    "print(\"Education OLS estimate: \", np.round(Coeff3[1][0],4))\n",
    "print(\"Education OLS SE:\", np.round(SE3[1],4))\n",
    "print(\"Race OLS estimate: \", np.round(Coeff3[11][0],4))\n",
    "print(\"Race OLS SE:\", np.round(SE3[11],4))\n",
    "print(\"SMSA OLS estimate: \", np.round(Coeff3[12][0],4))\n",
    "print(\"SMSA OLS SE:\", np.round(SE3[12],4))\n",
    "print(\"Married OLS estimate: \", np.round(Coeff3[13][0],4))\n",
    "print(\"Married OLS SE:\", np.round(SE3[13],4))"
   ]
  },
  {
   "cell_type": "code",
   "execution_count": 33,
   "metadata": {},
   "outputs": [
    {
     "name": "stdout",
     "output_type": "stream",
     "text": [
      "Education TSLS estimate:  0.0806\n",
      "Education TSLS SE: 0.0164\n",
      "Race TSLS estimate:  -0.2302\n",
      "Race TSLS SE: 0.0261\n",
      "SMSA TSLS estimate:  0.1581\n",
      "SMSA TSLS SE: 0.0174\n",
      "Married TSLS estimate:  0.244\n",
      "Married TSLS SE: 0.0049\n"
     ]
    }
   ],
   "source": [
    "#2SLS (Table V Col 6)\n",
    "z3 = s[['yob_1931', 'yob_1932', 'yob_1933','yob_1934', 'yob_1935', 'yob_1936', 'yob_1937', 'yob_1938', 'yob_1939','black', 'smsa', 'married', 'region_1', 'region_2', 'region_3', 'region_4', 'region_5', 'region_6', 'region_7', 'region_8', 'yob_1931_qob_2','yob_1931_qob_3','yob_1931_qob_4','yob_1932_qob_2','yob_1932_qob_3','yob_1932_qob_4','yob_1933_qob_2','yob_1933_qob_3','yob_1933_qob_4','yob_1934_qob_2','yob_1934_qob_3','yob_1934_qob_4','yob_1935_qob_2','yob_1935_qob_3','yob_1935_qob_4','yob_1936_qob_2','yob_1936_qob_3','yob_1936_qob_4','yob_1937_qob_2','yob_1937_qob_3','yob_1937_qob_4','yob_1938_qob_2','yob_1938_qob_3','yob_1938_qob_4','yob_1939_qob_2','yob_1939_qob_3','yob_1939_qob_4', 'qob_2', 'qob_3', 'qob_4' ]]\n",
    "z3 = sm.add_constant(z3.to_numpy())\n",
    "TSLS3 = IV2SLS(y,x3,z3)\n",
    "Coeff_TSLS3 = TSLS3[0]\n",
    "SE_TSLS3 = TSLS3[1]\n",
    "print(\"Education TSLS estimate: \", np.round(Coeff_TSLS3[1][0],4))\n",
    "print(\"Education TSLS SE:\", np.round(SE_TSLS3[1],4))\n",
    "print(\"Race TSLS estimate: \", np.round(Coeff_TSLS3[11][0],4))\n",
    "print(\"Race TSLS SE:\", np.round(SE_TSLS3[11],4))\n",
    "print(\"SMSA TSLS estimate: \", np.round(Coeff_TSLS3[12][0],4))\n",
    "print(\"SMSA TSLS SE:\", np.round(SE_TSLS3[12],4))\n",
    "print(\"Married TSLS estimate: \", np.round(Coeff_TSLS3[13][0],4))\n",
    "print(\"Married TSLS SE:\", np.round(SE_TSLS3[13],4))"
   ]
  },
  {
   "cell_type": "code",
   "execution_count": 42,
   "metadata": {
    "scrolled": true
   },
   "outputs": [
    {
     "name": "stdout",
     "output_type": "stream",
     "text": [
      "Education OLS estimate:  0.0632\n",
      "Education OLS SE: 0.0003\n",
      "Race OLS estimate:  -0.2575\n",
      "Race OLS SE: 0.004\n",
      "SMSA OLS estimate:  0.1763\n",
      "SMSA OLS SE: 0.0029\n",
      "Married OLS estimate:  0.2479\n",
      "Married OLS SE: 0.0032\n",
      "Age OLS estimate:  -0.076\n",
      "Age OLS SE: 0.0604\n",
      "Age Squared OLS estimate:  0.0008\n",
      "Age Squared OLS SE: 0.0007\n"
     ]
    }
   ],
   "source": [
    "#OLS [Table V Col 7]\n",
    "x4 = s[['edu','yob_1931', 'yob_1932', 'yob_1933','yob_1934', 'yob_1935', 'yob_1936', 'yob_1937', 'yob_1938', 'yob_1939', 'black', 'smsa', 'married', 'region_1', 'region_2', 'region_3', 'region_4', 'region_5', 'region_6', 'region_7', 'region_8', 'ageq', 'ageq_sq']]\n",
    "x4 = sm.add_constant(x4.to_numpy())\n",
    "OLS4 = OLS(y,x4)\n",
    "Coeff4 = OLS4[0]\n",
    "SE4 = OLS4[1]\n",
    "print(\"Education OLS estimate: \", np.round(Coeff4[1][0],4))\n",
    "print(\"Education OLS SE:\", np.round(SE4[1],4))\n",
    "print(\"Race OLS estimate: \", np.round(Coeff4[11][0],4))\n",
    "print(\"Race OLS SE:\", np.round(SE4[11],4))\n",
    "print(\"SMSA OLS estimate: \", np.round(Coeff4[12][0],4))\n",
    "print(\"SMSA OLS SE:\", np.round(SE4[12],4))\n",
    "print(\"Married OLS estimate: \", np.round(Coeff4[13][0],4))\n",
    "print(\"Married OLS SE:\", np.round(SE4[13],4))\n",
    "print(\"Age OLS estimate: \", np.round(Coeff4[22][0],4))\n",
    "print(\"Age OLS SE:\", np.round(SE4[22],4))\n",
    "print(\"Age Squared OLS estimate: \", np.round(Coeff4[23][0],4))\n",
    "print(\"Age Squared OLS SE:\", np.round(SE4[23],4))"
   ]
  },
  {
   "cell_type": "code",
   "execution_count": 43,
   "metadata": {},
   "outputs": [
    {
     "name": "stdout",
     "output_type": "stream",
     "text": [
      "Education TSLS estimate:  0.05995\n",
      "Education TSLS SE: 0.029\n",
      "Race TSLS estimate:  -0.2626\n",
      "Race TSLS SE: 0.0458\n",
      "SMSA TSLS estimate:  0.1797\n",
      "SMSA TSLS SE: 0.0305\n",
      "Married TSLS estimate:  0.2486\n",
      "Married TSLS SE: 0.0073\n",
      "Age TSLS estimate:  -0.0741\n",
      "Age TSLS SE: 0.0626\n",
      "Age Squared TSLS estimate:  0.0007\n",
      "Age Squared TSLS SE: 0.0007\n"
     ]
    }
   ],
   "source": [
    "#2SLS (Table V Col 8)\n",
    "z4 = s[['yob_1931', 'yob_1932', 'yob_1933','yob_1934', 'yob_1935', 'yob_1936', 'yob_1937', 'yob_1938', 'yob_1939','black', 'smsa', 'married', 'region_1', 'region_2', 'region_3', 'region_4', 'region_5', 'region_6', 'region_7', 'region_8', 'ageq', 'ageq_sq', 'yob_1931_qob_2','yob_1931_qob_3','yob_1931_qob_4','yob_1932_qob_2','yob_1932_qob_3','yob_1932_qob_4','yob_1933_qob_2','yob_1933_qob_3','yob_1933_qob_4','yob_1934_qob_2','yob_1934_qob_3','yob_1934_qob_4','yob_1935_qob_2','yob_1935_qob_3','yob_1935_qob_4','yob_1936_qob_2','yob_1936_qob_3','yob_1936_qob_4','yob_1937_qob_2','yob_1937_qob_3','yob_1937_qob_4','yob_1938_qob_2','yob_1938_qob_3','yob_1938_qob_4','yob_1939_qob_2','yob_1939_qob_3','yob_1939_qob_4', 'qob_2', 'qob_3', 'qob_4' ]]\n",
    "z4 = sm.add_constant(z4)\n",
    "TSLS4 = IV2SLS(y,x4,z4)\n",
    "Coeff_TSLS4 = TSLS4[0]\n",
    "SE_TSLS4 = TSLS4[1]\n",
    "print(\"Education TSLS estimate: \", np.round(Coeff_TSLS4[1][0],5))\n",
    "print(\"Education TSLS SE:\", np.round(SE_TSLS4[1],4))\n",
    "print(\"Race TSLS estimate: \", np.round(Coeff_TSLS4[11][0],4))\n",
    "print(\"Race TSLS SE:\", np.round(SE_TSLS4[11],4))\n",
    "print(\"SMSA TSLS estimate: \", np.round(Coeff_TSLS4[12][0],4))\n",
    "print(\"SMSA TSLS SE:\", np.round(SE_TSLS4[12],4))\n",
    "print(\"Married TSLS estimate: \", np.round(Coeff_TSLS4[13][0],4))\n",
    "print(\"Married TSLS SE:\", np.round(SE_TSLS4[13],4))\n",
    "print(\"Age TSLS estimate: \", np.round(Coeff_TSLS4[22][0],4))\n",
    "print(\"Age TSLS SE:\", np.round(SE_TSLS4[22],4))\n",
    "print(\"Age Squared TSLS estimate: \", np.round(Coeff_TSLS4[23][0],4))\n",
    "print(\"Age Squared TSLS SE:\", np.round(SE_TSLS4[23],4))"
   ]
  },
  {
   "cell_type": "code",
   "execution_count": 35,
   "metadata": {
    "scrolled": false
   },
   "outputs": [
    {
     "data": {
      "text/html": [
       "<div>\n",
       "<style scoped>\n",
       "    .dataframe tbody tr th:only-of-type {\n",
       "        vertical-align: middle;\n",
       "    }\n",
       "\n",
       "    .dataframe tbody tr th {\n",
       "        vertical-align: top;\n",
       "    }\n",
       "\n",
       "    .dataframe thead th {\n",
       "        text-align: right;\n",
       "    }\n",
       "</style>\n",
       "<table border=\"1\" class=\"dataframe\">\n",
       "  <thead>\n",
       "    <tr style=\"text-align: right;\">\n",
       "      <th></th>\n",
       "      <th>ageq</th>\n",
       "      <th>edu</th>\n",
       "      <th>logwage</th>\n",
       "      <th>married</th>\n",
       "      <th>state</th>\n",
       "      <th>black</th>\n",
       "      <th>smsa</th>\n",
       "      <th>yob_1931</th>\n",
       "      <th>yob_1932</th>\n",
       "      <th>yob_1933</th>\n",
       "      <th>...</th>\n",
       "      <th>yob_1936_qob_4</th>\n",
       "      <th>yob_1937_qob_2</th>\n",
       "      <th>yob_1937_qob_3</th>\n",
       "      <th>yob_1937_qob_4</th>\n",
       "      <th>yob_1938_qob_2</th>\n",
       "      <th>yob_1938_qob_3</th>\n",
       "      <th>yob_1938_qob_4</th>\n",
       "      <th>yob_1939_qob_2</th>\n",
       "      <th>yob_1939_qob_3</th>\n",
       "      <th>yob_1939_qob_4</th>\n",
       "    </tr>\n",
       "  </thead>\n",
       "  <tbody>\n",
       "    <tr>\n",
       "      <td>count</td>\n",
       "      <td>1000.000000</td>\n",
       "      <td>1000.000000</td>\n",
       "      <td>1000.000000</td>\n",
       "      <td>1000.000000</td>\n",
       "      <td>1000.000000</td>\n",
       "      <td>1000.0</td>\n",
       "      <td>1000.000000</td>\n",
       "      <td>1000.000000</td>\n",
       "      <td>1000.000000</td>\n",
       "      <td>1000.00000</td>\n",
       "      <td>...</td>\n",
       "      <td>1000.000000</td>\n",
       "      <td>1000.000000</td>\n",
       "      <td>1000.000000</td>\n",
       "      <td>1000.000000</td>\n",
       "      <td>1000.000000</td>\n",
       "      <td>1000.00000</td>\n",
       "      <td>1000.000000</td>\n",
       "      <td>1000.000000</td>\n",
       "      <td>1000.00000</td>\n",
       "      <td>1000.000000</td>\n",
       "    </tr>\n",
       "    <tr>\n",
       "      <td>mean</td>\n",
       "      <td>44.969002</td>\n",
       "      <td>10.257000</td>\n",
       "      <td>5.250718</td>\n",
       "      <td>0.786000</td>\n",
       "      <td>4.129000</td>\n",
       "      <td>1.0</td>\n",
       "      <td>0.656000</td>\n",
       "      <td>0.092000</td>\n",
       "      <td>0.096000</td>\n",
       "      <td>0.10000</td>\n",
       "      <td>...</td>\n",
       "      <td>0.023000</td>\n",
       "      <td>0.031000</td>\n",
       "      <td>0.026000</td>\n",
       "      <td>0.027000</td>\n",
       "      <td>0.023000</td>\n",
       "      <td>0.02000</td>\n",
       "      <td>0.017000</td>\n",
       "      <td>0.032000</td>\n",
       "      <td>0.02900</td>\n",
       "      <td>0.023000</td>\n",
       "    </tr>\n",
       "    <tr>\n",
       "      <td>std</td>\n",
       "      <td>2.880836</td>\n",
       "      <td>3.780905</td>\n",
       "      <td>0.825600</td>\n",
       "      <td>0.410332</td>\n",
       "      <td>9.135306</td>\n",
       "      <td>0.0</td>\n",
       "      <td>0.475279</td>\n",
       "      <td>0.289171</td>\n",
       "      <td>0.294739</td>\n",
       "      <td>0.30015</td>\n",
       "      <td>...</td>\n",
       "      <td>0.149978</td>\n",
       "      <td>0.173404</td>\n",
       "      <td>0.159215</td>\n",
       "      <td>0.162164</td>\n",
       "      <td>0.149978</td>\n",
       "      <td>0.14007</td>\n",
       "      <td>0.129336</td>\n",
       "      <td>0.176088</td>\n",
       "      <td>0.16789</td>\n",
       "      <td>0.149978</td>\n",
       "    </tr>\n",
       "    <tr>\n",
       "      <td>min</td>\n",
       "      <td>40.250000</td>\n",
       "      <td>0.000000</td>\n",
       "      <td>-2.341806</td>\n",
       "      <td>0.000000</td>\n",
       "      <td>1.000000</td>\n",
       "      <td>1.0</td>\n",
       "      <td>0.000000</td>\n",
       "      <td>0.000000</td>\n",
       "      <td>0.000000</td>\n",
       "      <td>0.00000</td>\n",
       "      <td>...</td>\n",
       "      <td>0.000000</td>\n",
       "      <td>0.000000</td>\n",
       "      <td>0.000000</td>\n",
       "      <td>0.000000</td>\n",
       "      <td>0.000000</td>\n",
       "      <td>0.00000</td>\n",
       "      <td>0.000000</td>\n",
       "      <td>0.000000</td>\n",
       "      <td>0.00000</td>\n",
       "      <td>0.000000</td>\n",
       "    </tr>\n",
       "    <tr>\n",
       "      <td>25%</td>\n",
       "      <td>42.500000</td>\n",
       "      <td>8.000000</td>\n",
       "      <td>4.903136</td>\n",
       "      <td>1.000000</td>\n",
       "      <td>1.000000</td>\n",
       "      <td>1.0</td>\n",
       "      <td>0.000000</td>\n",
       "      <td>0.000000</td>\n",
       "      <td>0.000000</td>\n",
       "      <td>0.00000</td>\n",
       "      <td>...</td>\n",
       "      <td>0.000000</td>\n",
       "      <td>0.000000</td>\n",
       "      <td>0.000000</td>\n",
       "      <td>0.000000</td>\n",
       "      <td>0.000000</td>\n",
       "      <td>0.00000</td>\n",
       "      <td>0.000000</td>\n",
       "      <td>0.000000</td>\n",
       "      <td>0.00000</td>\n",
       "      <td>0.000000</td>\n",
       "    </tr>\n",
       "    <tr>\n",
       "      <td>50%</td>\n",
       "      <td>44.750000</td>\n",
       "      <td>11.000000</td>\n",
       "      <td>5.313838</td>\n",
       "      <td>1.000000</td>\n",
       "      <td>1.000000</td>\n",
       "      <td>1.0</td>\n",
       "      <td>1.000000</td>\n",
       "      <td>0.000000</td>\n",
       "      <td>0.000000</td>\n",
       "      <td>0.00000</td>\n",
       "      <td>...</td>\n",
       "      <td>0.000000</td>\n",
       "      <td>0.000000</td>\n",
       "      <td>0.000000</td>\n",
       "      <td>0.000000</td>\n",
       "      <td>0.000000</td>\n",
       "      <td>0.00000</td>\n",
       "      <td>0.000000</td>\n",
       "      <td>0.000000</td>\n",
       "      <td>0.00000</td>\n",
       "      <td>0.000000</td>\n",
       "    </tr>\n",
       "    <tr>\n",
       "      <td>75%</td>\n",
       "      <td>47.500000</td>\n",
       "      <td>12.000000</td>\n",
       "      <td>5.731125</td>\n",
       "      <td>1.000000</td>\n",
       "      <td>1.000000</td>\n",
       "      <td>1.0</td>\n",
       "      <td>1.000000</td>\n",
       "      <td>0.000000</td>\n",
       "      <td>0.000000</td>\n",
       "      <td>0.00000</td>\n",
       "      <td>...</td>\n",
       "      <td>0.000000</td>\n",
       "      <td>0.000000</td>\n",
       "      <td>0.000000</td>\n",
       "      <td>0.000000</td>\n",
       "      <td>0.000000</td>\n",
       "      <td>0.00000</td>\n",
       "      <td>0.000000</td>\n",
       "      <td>0.000000</td>\n",
       "      <td>0.00000</td>\n",
       "      <td>0.000000</td>\n",
       "    </tr>\n",
       "    <tr>\n",
       "      <td>max</td>\n",
       "      <td>50.000000</td>\n",
       "      <td>20.000000</td>\n",
       "      <td>8.086795</td>\n",
       "      <td>1.000000</td>\n",
       "      <td>54.000000</td>\n",
       "      <td>1.0</td>\n",
       "      <td>1.000000</td>\n",
       "      <td>1.000000</td>\n",
       "      <td>1.000000</td>\n",
       "      <td>1.00000</td>\n",
       "      <td>...</td>\n",
       "      <td>1.000000</td>\n",
       "      <td>1.000000</td>\n",
       "      <td>1.000000</td>\n",
       "      <td>1.000000</td>\n",
       "      <td>1.000000</td>\n",
       "      <td>1.00000</td>\n",
       "      <td>1.000000</td>\n",
       "      <td>1.000000</td>\n",
       "      <td>1.00000</td>\n",
       "      <td>1.000000</td>\n",
       "    </tr>\n",
       "  </tbody>\n",
       "</table>\n",
       "<p>8 rows × 55 columns</p>\n",
       "</div>"
      ],
      "text/plain": [
       "              ageq          edu      logwage      married        state  \\\n",
       "count  1000.000000  1000.000000  1000.000000  1000.000000  1000.000000   \n",
       "mean     44.969002    10.257000     5.250718     0.786000     4.129000   \n",
       "std       2.880836     3.780905     0.825600     0.410332     9.135306   \n",
       "min      40.250000     0.000000    -2.341806     0.000000     1.000000   \n",
       "25%      42.500000     8.000000     4.903136     1.000000     1.000000   \n",
       "50%      44.750000    11.000000     5.313838     1.000000     1.000000   \n",
       "75%      47.500000    12.000000     5.731125     1.000000     1.000000   \n",
       "max      50.000000    20.000000     8.086795     1.000000    54.000000   \n",
       "\n",
       "        black         smsa     yob_1931     yob_1932    yob_1933  ...  \\\n",
       "count  1000.0  1000.000000  1000.000000  1000.000000  1000.00000  ...   \n",
       "mean      1.0     0.656000     0.092000     0.096000     0.10000  ...   \n",
       "std       0.0     0.475279     0.289171     0.294739     0.30015  ...   \n",
       "min       1.0     0.000000     0.000000     0.000000     0.00000  ...   \n",
       "25%       1.0     0.000000     0.000000     0.000000     0.00000  ...   \n",
       "50%       1.0     1.000000     0.000000     0.000000     0.00000  ...   \n",
       "75%       1.0     1.000000     0.000000     0.000000     0.00000  ...   \n",
       "max       1.0     1.000000     1.000000     1.000000     1.00000  ...   \n",
       "\n",
       "       yob_1936_qob_4  yob_1937_qob_2  yob_1937_qob_3  yob_1937_qob_4  \\\n",
       "count     1000.000000     1000.000000     1000.000000     1000.000000   \n",
       "mean         0.023000        0.031000        0.026000        0.027000   \n",
       "std          0.149978        0.173404        0.159215        0.162164   \n",
       "min          0.000000        0.000000        0.000000        0.000000   \n",
       "25%          0.000000        0.000000        0.000000        0.000000   \n",
       "50%          0.000000        0.000000        0.000000        0.000000   \n",
       "75%          0.000000        0.000000        0.000000        0.000000   \n",
       "max          1.000000        1.000000        1.000000        1.000000   \n",
       "\n",
       "       yob_1938_qob_2  yob_1938_qob_3  yob_1938_qob_4  yob_1939_qob_2  \\\n",
       "count     1000.000000      1000.00000     1000.000000     1000.000000   \n",
       "mean         0.023000         0.02000        0.017000        0.032000   \n",
       "std          0.149978         0.14007        0.129336        0.176088   \n",
       "min          0.000000         0.00000        0.000000        0.000000   \n",
       "25%          0.000000         0.00000        0.000000        0.000000   \n",
       "50%          0.000000         0.00000        0.000000        0.000000   \n",
       "75%          0.000000         0.00000        0.000000        0.000000   \n",
       "max          1.000000         1.00000        1.000000        1.000000   \n",
       "\n",
       "       yob_1939_qob_3  yob_1939_qob_4  \n",
       "count      1000.00000     1000.000000  \n",
       "mean          0.02900        0.023000  \n",
       "std           0.16789        0.149978  \n",
       "min           0.00000        0.000000  \n",
       "25%           0.00000        0.000000  \n",
       "50%           0.00000        0.000000  \n",
       "75%           0.00000        0.000000  \n",
       "max           1.00000        1.000000  \n",
       "\n",
       "[8 rows x 55 columns]"
      ]
     },
     "execution_count": 35,
     "metadata": {},
     "output_type": "execute_result"
    }
   ],
   "source": [
    "#HFUL estimator for the first model ie Col 1\n",
    "#HFUL function is not running for the full dataset due to memory issues so I am selecting a subset of obs. \n",
    "s1 = s.head(1000)\n",
    "s1.describe()\n",
    "y_new = y = s1[['logwage']]\n",
    "x1_new = s1[['edu','yob_1931', 'yob_1932', 'yob_1933','yob_1934', 'yob_1935', 'yob_1936', 'yob_1937', 'yob_1938', 'yob_1939']]\n",
    "x1_new = sm.add_constant(x1_new.to_numpy())\n",
    "z1_new = s1[['yob_1931', 'yob_1932', 'yob_1933','yob_1934', 'yob_1935', 'yob_1936', 'yob_1937', 'yob_1938', 'yob_1939','yob_1931_qob_2','yob_1931_qob_3','yob_1931_qob_4','yob_1932_qob_2','yob_1932_qob_3','yob_1932_qob_4','yob_1933_qob_2','yob_1933_qob_3','yob_1933_qob_4','yob_1934_qob_2','yob_1934_qob_3','yob_1934_qob_4','yob_1935_qob_2','yob_1935_qob_3','yob_1935_qob_4','yob_1936_qob_2','yob_1936_qob_3','yob_1936_qob_4','yob_1937_qob_2','yob_1937_qob_3','yob_1937_qob_4','yob_1938_qob_2','yob_1938_qob_3','yob_1938_qob_4','yob_1939_qob_2','yob_1939_qob_3','yob_1939_qob_4', 'qob_2', 'qob_3', 'qob_4' ]]\n",
    "z1_new = sm.add_constant(z1_new.to_numpy())\n",
    "s1.describe()"
   ]
  },
  {
   "cell_type": "code",
   "execution_count": 17,
   "metadata": {},
   "outputs": [],
   "source": [
    "#HFUL estimator for the first specification ie Col 1,2 using the subset of data s1\n",
    "HFUL1 = HFUL(y_new,x1_new,z1_new)"
   ]
  },
  {
   "cell_type": "code",
   "execution_count": 36,
   "metadata": {},
   "outputs": [
    {
     "name": "stdout",
     "output_type": "stream",
     "text": [
      "HFUL estimate for Education:  0.0749\n"
     ]
    },
    {
     "name": "stderr",
     "output_type": "stream",
     "text": [
      "C:\\Users\\HP\\Anaconda3\\lib\\site-packages\\ipykernel_launcher.py:1: ComplexWarning: Casting complex values to real discards the imaginary part\n",
      "  \"\"\"Entry point for launching an IPython kernel.\n"
     ]
    }
   ],
   "source": [
    "print(\"HFUL estimate for Education: \", np.round(HFUL1[1][0].astype(float),4))"
   ]
  },
  {
   "cell_type": "code",
   "execution_count": 19,
   "metadata": {},
   "outputs": [
    {
     "name": "stdout",
     "output_type": "stream",
     "text": [
      "Education TSLS estimate for subset:  0.1197\n",
      "Education TSLS SE for subset: 0.0419\n"
     ]
    }
   ],
   "source": [
    "#Compute TSLS for subset of data s1 to compare\n",
    "TSLS1_new = IV2SLS(y,x1_new,z1_new)\n",
    "Coeff_TSLS1_new = TSLS1_new[0]\n",
    "SE_TSLS1_new = TSLS1_new[1]\n",
    "print(\"Education TSLS estimate for subset: \", np.round(Coeff_TSLS1_new[1][0],4))\n",
    "print(\"Education TSLS SE for subset:\", np.round(SE_TSLS1_new[1],4))"
   ]
  },
  {
   "cell_type": "code",
   "execution_count": 20,
   "metadata": {},
   "outputs": [],
   "source": [
    "#Taking my code from matrix economy discussion to make HFUL run on the full dataset\n",
    "#Define Factory function for Projection Matrix\n",
    "def P2(X):\n",
    "    X = np.array(X)\n",
    "    N = X.shape[0]\n",
    "    A = np.linalg.pinv(X.T@X) #stores a kxk matrix\n",
    "    def Px(Y):\n",
    "        Y = np.array(Y)\n",
    "        if(Y.shape[1] == 1):\n",
    "            Y = Y.reshape((-1,))\n",
    "        B = X.T@Y #stores an Nx1 matrix \n",
    "        C = X@A@B #stores an Nx1 matrix \n",
    "        return C\n",
    "    return Px\n",
    "\n",
    "#Define Leverage Function \n",
    "def leverage(X):\n",
    "    X = np.array(X)\n",
    "    A = np.linalg.pinv(X.T@X) #stores a kxk matrix\n",
    "    B = X@A #stores Nxk matrix\n",
    "    N = X.shape[0]\n",
    "    L = np.zeros((N))\n",
    "    for i in range(N):\n",
    "        L[i] = B[i,:]@(X.T)[:,i]\n",
    "    return L #Nx1 matrix"
   ]
  },
  {
   "cell_type": "code",
   "execution_count": 38,
   "metadata": {},
   "outputs": [],
   "source": [
    "#HFUL estimator function:\n",
    "def HFUL1(Y,X,Z,P,L):\n",
    "    X = np.array(X)\n",
    "    Y = np.array(Y)\n",
    "    Z = np.array(Z)\n",
    "    X_bar = np.concatenate((Y,X),axis=1)\n",
    "    X_barX_bar = (X_bar.T)@X_bar\n",
    "    X_barX_bar_inv = np.linalg.pinv(X_barX_bar)\n",
    "    X_barPX_bar = (X_bar.T)@(P2(Z)(X_bar))\n",
    "    Lev = leverage(Z)\n",
    "    N = X.shape[0]\n",
    "    G = X.shape[1]\n",
    "    B = np.zeros((G+1,G+1))\n",
    "    C = np.zeros((G,G))\n",
    "    D = np.zeros((G,1))\n",
    "    for i in range(N):\n",
    "        X_bar_i = X_bar[i,:]\n",
    "        B += Lev[i]*(X_bar_i@(X_bar_i.T))\n",
    "    w, v = np.linalg.eig(X_barX_bar_inv@(X_barPX_bar - B))\n",
    "    alpha = min(w)\n",
    "    alpha_hat = (alpha - (1-alpha)/N)/(1 -(1-alpha)/N)\n",
    "    XPX = (X.T)@P2(Z)(X)\n",
    "    XPY = ((X.T)@P2(Z)(Y)).reshape((-1,1))\n",
    "    XY =  (X.T)@Y\n",
    "    XX =  (X.T)@X\n",
    "    for i in range(N):\n",
    "        X_i = X[i,:]\n",
    "        C += Lev[i]*(X_i@X_i.T)\n",
    "    for i in range(N):\n",
    "        X_i = X[i,:]\n",
    "        Y_i = Y[i]\n",
    "        D += (Lev[i]*X_i*Y_i[0]).reshape((-1,1))\n",
    "    Beta_HFUL = np.linalg.pinv(XPX - C - alpha_hat*XX)@(XPY - D - alpha_hat*XY)\n",
    "    return Beta_HFUL"
   ]
  },
  {
   "cell_type": "code",
   "execution_count": 44,
   "metadata": {},
   "outputs": [],
   "source": [
    "#Trying HFUL on A-K data using the specification with all exogenous variables ie Col 8 in Table V of the paper\n",
    "Res_HFUL = HFUL1(y,x4,z4,P2,leverage)"
   ]
  },
  {
   "cell_type": "code",
   "execution_count": 45,
   "metadata": {},
   "outputs": [
    {
     "name": "stdout",
     "output_type": "stream",
     "text": [
      "HFUL estimate for Education:  0.06323458660028436\n"
     ]
    },
    {
     "name": "stderr",
     "output_type": "stream",
     "text": [
      "C:\\Users\\HP\\Anaconda3\\lib\\site-packages\\ipykernel_launcher.py:1: ComplexWarning: Casting complex values to real discards the imaginary part\n",
      "  \"\"\"Entry point for launching an IPython kernel.\n"
     ]
    }
   ],
   "source": [
    "print(\"HFUL estimate for Education: \", Res_HFUL[1][0].astype(float))"
   ]
  },
  {
   "cell_type": "markdown",
   "metadata": {},
   "source": [
    "### 6b. Tests of Normality\n",
    "(a response to [Bcourses Discussion](https://bcourses.berkeley.edu/courses/1487913/discussion_topics/5746331) by Shuo Yu)"
   ]
  },
  {
   "cell_type": "code",
   "execution_count": 30,
   "metadata": {},
   "outputs": [],
   "source": [
    "import numpy as np\n",
    "import pandas as pd\n",
    "from scipy.optimize import minimize\n",
    "from scipy.stats import chi2\n",
    "from scipy.special import factorial2 as f2\n",
    "from random import random\n",
    "import IPython"
   ]
  },
  {
   "cell_type": "markdown",
   "metadata": {},
   "source": [
    "### Estimation\n",
    "First calculate $g_N(\\mu,\\sigma)$. Begin by defining a function to construct the sample moments given\n",
    "    the data, a parameter estimate, and number of moments:"
   ]
  },
  {
   "cell_type": "code",
   "execution_count": 18,
   "metadata": {},
   "outputs": [],
   "source": [
    "def gj(X, mu_hat, sigma_hat, k):\n",
    "    \"\"\"\n",
    "    Observations of g_j.\n",
    "    \"\"\"\n",
    "    m = np.power((X-mu_hat).reshape((len(X),1)), range(1, k+1))\n",
    "    a = np.zeros(k)\n",
    "    for i in range(k):\n",
    "        if i%2 == 1:\n",
    "            a[i] = f2(i) * (sigma_hat ** (i+1))\n",
    "    return  m - a"
   ]
  },
  {
   "cell_type": "code",
   "execution_count": 3,
   "metadata": {},
   "outputs": [],
   "source": [
    "def gN(data, mu_hat, sigma_hat, k):\n",
    "    \"\"\"Averages of g_j(b).\n",
    "\n",
    "    This is generic for data, to be passed to gj.\n",
    "    \"\"\"\n",
    "    e = gj(data, mu_hat, sigma_hat, k)\n",
    "\n",
    "    # Check to see more obs. than moments.\n",
    "    assert e.shape[0] > e.shape[1]\n",
    "    \n",
    "    return e.mean(axis=0)"
   ]
  },
  {
   "cell_type": "markdown",
   "metadata": {},
   "source": [
    "#### Define estimator of Egg'\n",
    "Next we define a function to compute covariance matrix of moments.\n",
    "Re-centering can be important in finite samples, even if irrelevant in\n",
    "the limit.  Since we have $\\mbox{E}g_j(\\mu,\\sigma)=0$ under the null we may\n",
    "as well use this information when constructing our weighting matrix."
   ]
  },
  {
   "cell_type": "code",
   "execution_count": 52,
   "metadata": {},
   "outputs": [],
   "source": [
    "def Omegahat(data, mu_hat, sigma_hat, k):\n",
    "    e = gj(data, mu_hat, sigma_hat, k)\n",
    "\n",
    "    # Recenter! We have Eu=0 under null.\n",
    "    # Important to use this information.\n",
    "    e = e - e.mean(axis=0) \n",
    "    \n",
    "    return e.T@e/e.shape[0]"
   ]
  },
  {
   "cell_type": "code",
   "execution_count": 10,
   "metadata": {},
   "outputs": [],
   "source": [
    "def Weight(data, mu_hat, sigma_hat, k):\n",
    "    O = Omegahat(data, mu_hat, sigma_hat, k)\n",
    "    return np.linalg.inv(O)"
   ]
  },
  {
   "cell_type": "markdown",
   "metadata": {},
   "source": [
    "#### Define the criterion function"
   ]
  },
  {
   "cell_type": "code",
   "execution_count": 11,
   "metadata": {},
   "outputs": [],
   "source": [
    "def J(param, data, k):\n",
    "\n",
    "    mu_hat = param[0] \n",
    "    sigma_hat = param[1]\n",
    "    W = Weight(data, mu_hat, sigma_hat, k)\n",
    "    m = gN(data, mu_hat, sigma_hat, k) # Sample moments @ param\n",
    "    N = data.shape[0]\n",
    "\n",
    "    return N*m.T@W@m # Scale by sample size Q: Why m.T?"
   ]
  },
  {
   "cell_type": "code",
   "execution_count": 12,
   "metadata": {},
   "outputs": [],
   "source": [
    "def gmm(data, k):\n",
    "    \n",
    "    param_init = (random()+1, random()) # initial guess\n",
    "    param_hat = minimize(fun=J, x0=param_init, args=(data,k)).x\n",
    "    \n",
    "    return param_hat"
   ]
  },
  {
   "cell_type": "markdown",
   "metadata": {},
   "source": [
    "#### Define the overidentification test"
   ]
  },
  {
   "cell_type": "code",
   "execution_count": 27,
   "metadata": {},
   "outputs": [],
   "source": [
    "def test_normality(data, k):\n",
    "    \n",
    "    param_hat = gmm(data, k)\n",
    "    test_stats = J(param_hat, data, k)\n",
    "    \n",
    "    return chi2.sf(test_stats, df=k-2)"
   ]
  },
  {
   "cell_type": "markdown",
   "metadata": {},
   "source": [
    "#### Carry out the test"
   ]
  },
  {
   "cell_type": "code",
   "execution_count": 53,
   "metadata": {},
   "outputs": [],
   "source": [
    "from scipy.stats import distributions as iid\n",
    "\n",
    "# X is normally distributed with mean=1,sd=10.\n",
    "X = iid.norm.rvs(loc=1, scale=10, size=1000)"
   ]
  },
  {
   "cell_type": "code",
   "execution_count": 54,
   "metadata": {},
   "outputs": [],
   "source": [
    "tb = []\n",
    "for k in range(3,16):\n",
    "    d={}\n",
    "    d['K'] = k\n",
    "    d['mu_hat'] = gmm(X, k)[0]\n",
    "    d['sigma_hat'] = gmm(X, k)[1]\n",
    "    d['p value'] = test_normality(X, k)\n",
    "    tb.append(d)\n",
    "summary_tb = pd.DataFrame(tb)"
   ]
  },
  {
   "cell_type": "code",
   "execution_count": 55,
   "metadata": {},
   "outputs": [
    {
     "data": {
      "text/html": [
       "<div>\n",
       "<style scoped>\n",
       "    .dataframe tbody tr th:only-of-type {\n",
       "        vertical-align: middle;\n",
       "    }\n",
       "\n",
       "    .dataframe tbody tr th {\n",
       "        vertical-align: top;\n",
       "    }\n",
       "\n",
       "    .dataframe thead th {\n",
       "        text-align: right;\n",
       "    }\n",
       "</style>\n",
       "<table border=\"1\" class=\"dataframe\">\n",
       "  <thead>\n",
       "    <tr style=\"text-align: right;\">\n",
       "      <th></th>\n",
       "      <th>K</th>\n",
       "      <th>mu_hat</th>\n",
       "      <th>sigma_hat</th>\n",
       "      <th>p value</th>\n",
       "    </tr>\n",
       "  </thead>\n",
       "  <tbody>\n",
       "    <tr>\n",
       "      <td>0</td>\n",
       "      <td>3</td>\n",
       "      <td>0.839971</td>\n",
       "      <td>9.898442</td>\n",
       "      <td>1.136083e-01</td>\n",
       "    </tr>\n",
       "    <tr>\n",
       "      <td>1</td>\n",
       "      <td>4</td>\n",
       "      <td>0.869480</td>\n",
       "      <td>9.876412</td>\n",
       "      <td>2.136320e-01</td>\n",
       "    </tr>\n",
       "    <tr>\n",
       "      <td>2</td>\n",
       "      <td>5</td>\n",
       "      <td>0.892949</td>\n",
       "      <td>9.863133</td>\n",
       "      <td>2.739712e-01</td>\n",
       "    </tr>\n",
       "    <tr>\n",
       "      <td>3</td>\n",
       "      <td>6</td>\n",
       "      <td>0.862674</td>\n",
       "      <td>9.821645</td>\n",
       "      <td>3.184555e-01</td>\n",
       "    </tr>\n",
       "    <tr>\n",
       "      <td>4</td>\n",
       "      <td>7</td>\n",
       "      <td>0.796460</td>\n",
       "      <td>9.759342</td>\n",
       "      <td>1.087515e-01</td>\n",
       "    </tr>\n",
       "    <tr>\n",
       "      <td>5</td>\n",
       "      <td>8</td>\n",
       "      <td>0.781505</td>\n",
       "      <td>9.722258</td>\n",
       "      <td>1.666875e-01</td>\n",
       "    </tr>\n",
       "    <tr>\n",
       "      <td>6</td>\n",
       "      <td>9</td>\n",
       "      <td>0.749567</td>\n",
       "      <td>9.733197</td>\n",
       "      <td>2.404743e-01</td>\n",
       "    </tr>\n",
       "    <tr>\n",
       "      <td>7</td>\n",
       "      <td>10</td>\n",
       "      <td>-1.604854</td>\n",
       "      <td>9.097160</td>\n",
       "      <td>2.510398e-03</td>\n",
       "    </tr>\n",
       "    <tr>\n",
       "      <td>8</td>\n",
       "      <td>11</td>\n",
       "      <td>1.143201</td>\n",
       "      <td>9.041648</td>\n",
       "      <td>1.740654e-03</td>\n",
       "    </tr>\n",
       "    <tr>\n",
       "      <td>9</td>\n",
       "      <td>12</td>\n",
       "      <td>0.989817</td>\n",
       "      <td>7.709633</td>\n",
       "      <td>2.979841e-08</td>\n",
       "    </tr>\n",
       "    <tr>\n",
       "      <td>10</td>\n",
       "      <td>13</td>\n",
       "      <td>1.497122</td>\n",
       "      <td>0.669042</td>\n",
       "      <td>1.867722e-09</td>\n",
       "    </tr>\n",
       "    <tr>\n",
       "      <td>11</td>\n",
       "      <td>14</td>\n",
       "      <td>1.541969</td>\n",
       "      <td>1.546756</td>\n",
       "      <td>6.816563e-157</td>\n",
       "    </tr>\n",
       "    <tr>\n",
       "      <td>12</td>\n",
       "      <td>15</td>\n",
       "      <td>2.605741</td>\n",
       "      <td>0.899541</td>\n",
       "      <td>7.420877e-155</td>\n",
       "    </tr>\n",
       "  </tbody>\n",
       "</table>\n",
       "</div>"
      ],
      "text/plain": [
       "     K    mu_hat  sigma_hat        p value\n",
       "0    3  0.839971   9.898442   1.136083e-01\n",
       "1    4  0.869480   9.876412   2.136320e-01\n",
       "2    5  0.892949   9.863133   2.739712e-01\n",
       "3    6  0.862674   9.821645   3.184555e-01\n",
       "4    7  0.796460   9.759342   1.087515e-01\n",
       "5    8  0.781505   9.722258   1.666875e-01\n",
       "6    9  0.749567   9.733197   2.404743e-01\n",
       "7   10 -1.604854   9.097160   2.510398e-03\n",
       "8   11  1.143201   9.041648   1.740654e-03\n",
       "9   12  0.989817   7.709633   2.979841e-08\n",
       "10  13  1.497122   0.669042   1.867722e-09\n",
       "11  14  1.541969   1.546756  6.816563e-157\n",
       "12  15  2.605741   0.899541  7.420877e-155"
      ]
     },
     "execution_count": 55,
     "metadata": {},
     "output_type": "execute_result"
    }
   ],
   "source": [
    "summary_tb"
   ]
  },
  {
   "cell_type": "markdown",
   "metadata": {},
   "source": [
    "### 6c. Tests of Normality \n",
    "(submitted to [Bcourses Discussion](https://bcourses.berkeley.edu/courses/1487913/discussion_topics/5746331) by Jacob Lefler)"
   ]
  },
  {
   "cell_type": "markdown",
   "metadata": {
    "colab_type": "text",
    "id": "Qbc_zP98F_ac"
   },
   "source": [
    "We want to test whether the data we get are from a normal distribution.\n",
    "Basic outline:\n",
    "1. Get data (scalars).\n",
    "2. Estimate $\\mu$ and $\\sigma$ using moment conditions under the null. Use $\\Omega$ that we can find from assuming normality.\n",
    "3. Calculate $J_N$.\n",
    "4. Test whether $J_N$ is really distributed as chi sq with $k-2$ degrees of freedom.\n",
    "\n",
    "From Ethan:\n",
    "Implement the test you've devised using =python=. You may want\n",
    "to use =scipy.stats.distributions.chi2.cdf= and =scipy.optimize.minimize=."
   ]
  },
  {
   "cell_type": "markdown",
   "metadata": {
    "colab_type": "text",
    "id": "1cJlvsVAF_ad"
   },
   "source": [
    "# Step One: Write Code to Estimate Parameters"
   ]
  },
  {
   "cell_type": "code",
   "execution_count": 0,
   "metadata": {
    "colab": {},
    "colab_type": "code",
    "id": "0Q9NHveUF_ae"
   },
   "outputs": [],
   "source": [
    "import numpy as np\n",
    "from scipy.stats import distributions as iid\n",
    "from scipy.stats import logistic as logist\n",
    "from scipy.optimize import minimize\n",
    "from matplotlib import pyplot as plt"
   ]
  },
  {
   "cell_type": "markdown",
   "metadata": {
    "colab_type": "text",
    "id": "XADCWL91F_ah"
   },
   "source": [
    "First we define a function \"doublefact\" that returns the double factorial of a natural number."
   ]
  },
  {
   "cell_type": "code",
   "execution_count": 0,
   "metadata": {
    "colab": {},
    "colab_type": "code",
    "id": "0CMTeeDJF_ai"
   },
   "outputs": [],
   "source": [
    "# Returns the doublefactorial (!!) of the input. Found on stack exchange\n",
    "def doublefact(n):\n",
    "     if n <= 0:\n",
    "         return 1\n",
    "     else:\n",
    "         return n * doublefact(n-2)"
   ]
  },
  {
   "cell_type": "markdown",
   "metadata": {
    "colab_type": "text",
    "id": "BVh02fzrF_ak"
   },
   "source": [
    "\"weight_mat\" takes a proposed value for $\\sigma$ and returns a weighting matrix $\\Omega^{-1}$ to be used in the objective function. Note that this means that $\\Omega^{-1}$ is a function of one of the parameters that we are trying to estimate. Also, the size of $\\Omega^{-1}$ is $k{\\times}k$ where $k$ is the number of moment restrictions that we impose from the outset."
   ]
  },
  {
   "cell_type": "code",
   "execution_count": 0,
   "metadata": {
    "colab": {},
    "colab_type": "code",
    "id": "Rtc3V-hQF_al"
   },
   "outputs": [],
   "source": [
    "\"\"\"mu, sigma are proposed pop mean and std dev. k is number of moments\"\"\"\n",
    "def weight_mat(sigma, k):\n",
    "    Omega = np.zeros((k,k))\n",
    "    for i in range(k):\n",
    "        for j in range(k):\n",
    "            # redefine i,j to start at 1\n",
    "            i1 = i + 1\n",
    "            j1 = j + 1\n",
    "            # define constant for when both are even\n",
    "            constant = doublefact(i1+j1-1)-doublefact(i1-1)*doublefact(j1-1)\n",
    "            if i1 % 2 == 0: # i is even\n",
    "                if j1 % 2 == 0: # j is also even\n",
    "                    Omega[i,j] = (sigma**(i1+j1))*constant\n",
    "            if i1 % 2 == 1: # i is odd\n",
    "                if j1 % 2 == 1: # j is also odd\n",
    "                    Omega[i,j] = (sigma**(i1+j1))*doublefact(i1+j1-1)\n",
    "    return np.linalg.inv(Omega)"
   ]
  },
  {
   "cell_type": "markdown",
   "metadata": {
    "colab_type": "text",
    "id": "_UN_R6LUF_an"
   },
   "source": [
    "\"g_vec\" below takes a one observation (small $x$, or $x_j$) from our data (big $X$) and returns the value of $g_j(\\sigma, \\mu)$."
   ]
  },
  {
   "cell_type": "code",
   "execution_count": 0,
   "metadata": {
    "colab": {},
    "colab_type": "code",
    "id": "l2oPc_HnF_an"
   },
   "outputs": [],
   "source": [
    "def g_vec(sigma, mu, x, k):\n",
    "    gvect = np.zeros(k)\n",
    "    for i in range(k):\n",
    "        if i % 2 == 0: # if i is even\n",
    "            gvect[i] = (x-mu)**(i+1)\n",
    "        if i % 2 == 1: # if i is odd\n",
    "            gvect[i] = (x-mu)**(i+1) - doublefact(i)*sigma**(i+1)\n",
    "    return gvect"
   ]
  },
  {
   "cell_type": "markdown",
   "metadata": {
    "colab_type": "text",
    "id": "r3_IaL7UF_ap"
   },
   "source": [
    "\"g_N\" calculates $g_N(\\sigma, \\mu)$, the sample mean of $g_j(\\sigma, \\mu)$. To do this, it calls the function for $g_j(\\sigma, \\mu)$."
   ]
  },
  {
   "cell_type": "code",
   "execution_count": 0,
   "metadata": {
    "colab": {},
    "colab_type": "code",
    "id": "-4pJ5dLIF_aq"
   },
   "outputs": [],
   "source": [
    "def g_N(sigma, mu, X, k):\n",
    "    N = X.shape[0]\n",
    "    g_N = np.zeros(k)\n",
    "    for x in X:\n",
    "        g_N = g_N + g_vec(sigma, mu, x, k)*(1/N)\n",
    "    return g_N"
   ]
  },
  {
   "cell_type": "markdown",
   "metadata": {
    "colab_type": "text",
    "id": "qxvXCiixF_as"
   },
   "source": [
    "\"objective_funct\" receives data and parameter \"guesses\" and returns the value of the objective function. To do this, it calls the functions for $g_N(\\sigma, \\mu)$ and $\\Omega^{-1}$ and then calculates $N*g_N(\\sigma, \\mu)^T\\Omega^{-1}g_N(\\sigma, \\mu)$.\n",
    "\n",
    "Because of the nature of scipy.optimize.minimize, \"objective_funct\" must only contain two arguments. The first argument (param) is a tuple that contains the parameters that the minimize function is minimizing over (in our case, $(\\sigma, \\mu)$). The second argument (*args) contains the other arguments that \"objective_funct\" needs (in our case, the data $X$ and the number of moment restrictions, $k$)."
   ]
  },
  {
   "cell_type": "code",
   "execution_count": 0,
   "metadata": {
    "colab": {},
    "colab_type": "code",
    "id": "cYdxvHbkF_as"
   },
   "outputs": [],
   "source": [
    "def objective_funct(param, *args):\n",
    "    sigma = param[0]\n",
    "    mu = param[1]\n",
    "    X = args[0]\n",
    "    k = args[1]\n",
    "    N = X.shape[0]\n",
    "    gN = g_N(sigma, mu, X, k)\n",
    "    A = weight_mat(sigma, k)\n",
    "    return N*(gN.T @ A @ gN)"
   ]
  },
  {
   "cell_type": "markdown",
   "metadata": {
    "colab_type": "text",
    "id": "7vYyhUA0F_av"
   },
   "source": [
    "\"normaldist_gmm\" finds the values of $(\\sigma, \\mu)$ that minimize our objective function. That is, it returns the GMM estimates of $\\sigma$ and $\\mu$."
   ]
  },
  {
   "cell_type": "code",
   "execution_count": 0,
   "metadata": {
    "colab": {},
    "colab_type": "code",
    "id": "zyQlGMw8F_av"
   },
   "outputs": [],
   "source": [
    "def normaldist_gmm(X,k):\n",
    "    \"\"\"X is data. k is number of moment restrictions.\n",
    "        Returns array where first value is estimated sigma, second is estimated mu.\"\"\"\n",
    "    x_init = np.asarray([1,0]) # start with guess sigma=1, mu=0\n",
    "    bN = minimize(fun=objective_funct, x0=x_init, args=(X,k)).x\n",
    "    return bN"
   ]
  },
  {
   "cell_type": "markdown",
   "metadata": {
    "colab_type": "text",
    "id": "RQCbkj_yF_ax"
   },
   "source": [
    "\"pvalue\" returns the probability that our dataset was generated by a normal distribution. To do this, it calculates the GMM estimates for $(\\sigma, \\mu)$ and then calculates the value of the objective function at those estimates, $J_N(\\sigma, \\mu)$. Asymptotically, $J_N$ is distributed as $\\chi^2_{k-2}$. We use this to calculate the probability of observing a $J_N$ greater than or equal to our sample's $J_N$."
   ]
  },
  {
   "cell_type": "code",
   "execution_count": 0,
   "metadata": {
    "colab": {},
    "colab_type": "code",
    "id": "4kXTACsdF_ay"
   },
   "outputs": [],
   "source": [
    "def pvalue(X, k):\n",
    "    bN = normaldist_gmm(X,k)\n",
    "    JN = objective_funct(bN, X,k)\n",
    "    return (1 - iid.chi2.cdf(x=JN, df=(k-2)))"
   ]
  },
  {
   "cell_type": "markdown",
   "metadata": {
    "colab_type": "text",
    "id": "VpfLr2XgF_az"
   },
   "source": [
    "# Step Two: Generate Data, Run our Tests\n",
    "Now generate some data to run our test on. Hopefully it will not reject the data from the normal distribution, but it will reject the data from the logistic distribution."
   ]
  },
  {
   "cell_type": "code",
   "execution_count": 0,
   "metadata": {
    "colab": {},
    "colab_type": "code",
    "id": "yCOYHGisF_a0"
   },
   "outputs": [],
   "source": [
    "# X is normally distributed with mean=1,sd=2.\n",
    "X = iid.norm.rvs(loc=1, scale=2, size=1000)\n",
    "# Y has a logistic distribution\n",
    "Y = logist.rvs(size=1000)"
   ]
  },
  {
   "cell_type": "code",
   "execution_count": 0,
   "metadata": {
    "colab": {},
    "colab_type": "code",
    "id": "bquI2MVlF_a2",
    "outputId": "d570e33d-6f40-4a8d-cab9-d68893ad7785"
   },
   "outputs": [
    {
     "data": {
      "image/png": "[encoded data removed]",
      "text/plain": [
       "<Figure size 432x288 with 1 Axes>"
      ]
     },
     "metadata": {
      "needs_background": "light",
      "tags": []
     },
     "output_type": "display_data"
    }
   ],
   "source": [
    "_ = plt.hist(X, bins='auto')  # arguments are passed to np.histogram\n",
    "plt.title(\"Histogram of X: Normally Distributed\")\n",
    "plt.show()"
   ]
  },
  {
   "cell_type": "code",
   "execution_count": 0,
   "metadata": {
    "colab": {},
    "colab_type": "code",
    "id": "hqfVuBT-F_a6",
    "outputId": "b74af0df-d6ee-496e-c18a-456dff2f8c90",
    "scrolled": false
   },
   "outputs": [
    {
     "data": {
      "image/png": "[encoded data removed]",
      "text/plain": [
       "<Figure size 432x288 with 1 Axes>"
      ]
     },
     "metadata": {
      "needs_background": "light",
      "tags": []
     },
     "output_type": "display_data"
    }
   ],
   "source": [
    "_ = plt.hist(Y, bins='auto')  # arguments are passed to np.histogram\n",
    "plt.title(\"Histogram of Y: Logistic Distribution\")\n",
    "plt.show()"
   ]
  },
  {
   "cell_type": "markdown",
   "metadata": {
    "colab_type": "text",
    "id": "cXnNoar6F_a8"
   },
   "source": [
    "Now we're ready to use this on our data that we generated."
   ]
  },
  {
   "cell_type": "code",
   "execution_count": 0,
   "metadata": {
    "colab": {},
    "colab_type": "code",
    "id": "3uX8KRQaF_a9",
    "outputId": "7fac2182-b2d4-4585-a9e4-317d48f11feb"
   },
   "outputs": [
    {
     "name": "stdout",
     "output_type": "stream",
     "text": [
      "0.7361482909828037\n",
      "0.28574106010518174\n",
      "0.4693167424239404\n",
      "0.6386762799268081\n",
      "0.7661839417619782\n",
      "0.8081284521455068\n"
     ]
    }
   ],
   "source": [
    "print(pvalue(X, 3))\n",
    "print(pvalue(X, 4))\n",
    "print(pvalue(X, 5))\n",
    "print(pvalue(X, 6))\n",
    "print(pvalue(X, 7))\n",
    "print(pvalue(X, 8))"
   ]
  },
  {
   "cell_type": "markdown",
   "metadata": {
    "colab_type": "text",
    "id": "MdaosrAaF_a-"
   },
   "source": [
    "Good. We never reject."
   ]
  },
  {
   "cell_type": "code",
   "execution_count": 0,
   "metadata": {
    "colab": {},
    "colab_type": "code",
    "id": "b18_Q_jpF_a_",
    "outputId": "8077ef24-ec29-4f58-a414-91b6be5da1e9"
   },
   "outputs": [
    {
     "name": "stdout",
     "output_type": "stream",
     "text": [
      "0.9168723808006406\n",
      "0.0\n",
      "1.1102230246251565e-16\n",
      "2.220446049250313e-16\n",
      "1.1102230246251565e-16\n",
      "4.440892098500626e-16\n"
     ]
    }
   ],
   "source": [
    "print(pvalue(Y, 3))\n",
    "print(pvalue(Y, 4))\n",
    "print(pvalue(Y, 5))\n",
    "print(pvalue(Y, 6))\n",
    "print(pvalue(Y, 7))\n",
    "print(pvalue(Y, 8))"
   ]
  },
  {
   "cell_type": "markdown",
   "metadata": {
    "colab_type": "text",
    "id": "PH0KC6LvF_bB"
   },
   "source": [
    "Once we get to k=4, our test is never fooled by the data from the logistic distribution."
   ]
  },
  {
   "cell_type": "markdown",
   "metadata": {
    "colab_type": "text",
    "id": "s2PqaTv0F_bB"
   },
   "source": [
    "Optimal k? I have no idea. How about 1000? I see no reason why more is not more in this case. I'm almost certainly missing something."
   ]
  },
  {
   "cell_type": "markdown",
   "metadata": {
    "colab_type": "text",
    "id": "KjOQ47ybF_bB"
   },
   "source": [
    "# END"
   ]
  },
  {
   "cell_type": "markdown",
   "metadata": {
    "colab_type": "text",
    "id": "wPHiPlJjF_bC"
   },
   "source": [
    "."
   ]
  },
  {
   "cell_type": "markdown",
   "metadata": {
    "colab_type": "text",
    "id": "Crnvq4BhF_bD"
   },
   "source": [
    "."
   ]
  },
  {
   "cell_type": "markdown",
   "metadata": {
    "colab_type": "text",
    "id": "t269BLI0F_bD"
   },
   "source": [
    "."
   ]
  },
  {
   "cell_type": "markdown",
   "metadata": {
    "colab_type": "text",
    "id": "OwPrZIaiF_bD"
   },
   "source": [
    "."
   ]
  },
  {
   "cell_type": "code",
   "execution_count": 0,
   "metadata": {
    "colab": {},
    "colab_type": "code",
    "id": "A9dGDGAUF_bE"
   },
   "outputs": [],
   "source": [
    "\"\"\"OLD\"\"\"\n",
    "def omega_est(X,k):\n",
    "    N = X.shape[0] # sample size\n",
    "    xbar = np.mean(X) # sample mean\n",
    "    ssr = 0\n",
    "    for x in X:\n",
    "        ssr = ssr + (x - xbar)**2\n",
    "    s2 = (1/(N-1))*ssr # sample variance\n",
    "    # by setting Omega to zero, we only need to change for ->\n",
    "    # i,j are both even or both odd\n",
    "    Omega = np.zeros((k,k))\n",
    "    for i in range(k):\n",
    "        for j in range(k):\n",
    "            # define constant for when both are even\n",
    "            constant = doublefact(i+j-1)-doublefact(i-1)*doublefact(j-1)\n",
    "            if i % 2 == 0: # i is even\n",
    "                if j % 2 == 0: # j is also even\n",
    "                    Omega[i,j] = s2**((i+j)/2)*constant\n",
    "            if i % 2 == 1: # i is odd\n",
    "                if j % 2 == 1: # j is also odd\n",
    "                    Omega[i,j] = s2**((i+j)/2)*doublefact(i+j-1)\n",
    "    return Omega"
   ]
  },
  {
   "cell_type": "markdown",
   "metadata": {},
   "source": [
    "### 6d. Matrix Economy \n",
    "(submitted to [Bcourses Discussion](https://bcourses.berkeley.edu/courses/1487913/discussion_topics/5748989) by Conner Jackson)"
   ]
  },
  {
   "cell_type": "markdown",
   "metadata": {
    "colab_type": "text",
    "id": "r-RusMzfFWGD"
   },
   "source": [
    "# Matrix Economy Discussion\n",
    "\n",
    "## Projection Function\n",
    "\n",
    "We define a function that, given matrices X and Y, returns the projection of Y on X without creating an $n \\times n$ matrix that might consume all available memory."
   ]
  },
  {
   "cell_type": "code",
   "execution_count": 0,
   "metadata": {
    "colab": {},
    "colab_type": "code",
    "id": "jQ5o7lTFFWGE"
   },
   "outputs": [],
   "source": [
    "import numpy as np\n",
    "import scipy.linalg as la\n",
    "\n",
    "def project_economically(X, Y):\n",
    "    '''Return the projection of Y on X without using up all the RAM\n",
    "    \n",
    "    For an (n x k) X matrix, and (n x m) Y matrix (k and m small)\n",
    "    '''\n",
    "    XY = X.T @ Y  # a (k x m) matrix\n",
    "    XXinv = la.inv(X.T @ X)  # a (k x k) matrix\n",
    "    return X @ XXinv @ XY  # the final (n x m) projection matrix"
   ]
  },
  {
   "cell_type": "markdown",
   "metadata": {
    "colab_type": "text",
    "id": "B9_UAIVzFWGH"
   },
   "source": [
    "## Projection Objects\n",
    "\n",
    "We can also define a class that, for each X, holds the pieces necessary to project any given Y onto that X without creating an $n \\times n$ matrix that might consume all available memory. "
   ]
  },
  {
   "cell_type": "code",
   "execution_count": 0,
   "metadata": {
    "colab": {},
    "colab_type": "code",
    "id": "NxwJOkmVFWGI"
   },
   "outputs": [],
   "source": [
    "class Projection:\n",
    "    \"\"\"Projection matrix objects\"\"\"\n",
    "    \n",
    "    def __init__(self, X):\n",
    "        \"\"\"Initialize the memory-saving components\"\"\"\n",
    "        self.X = X\n",
    "        self.XXinv = la.inv(X.T @ X)  # a (k x k) matrix\n",
    "        \n",
    "    def P(self, Y):\n",
    "        \"\"\"project Y onto the object's X\"\"\"\n",
    "        XY = self.X.T @ Y  # a (k x m) matrix\n",
    "        # return the final (n x m) projection matrix\n",
    "        return self.X @ self.XXinv @ XY\n",
    "    "
   ]
  },
  {
   "cell_type": "markdown",
   "metadata": {
    "colab_type": "text",
    "id": "5dAlyBYZFWGK"
   },
   "source": [
    "Initializing the object with the desired X matrix creates the required object attributes. (Note the following code will not run unless an example X and Y are defined)."
   ]
  },
  {
   "cell_type": "code",
   "execution_count": 0,
   "metadata": {
    "colab": {},
    "colab_type": "code",
    "id": "oqmSZt1jFWGL"
   },
   "outputs": [],
   "source": [
    "project_X = Projection(X)"
   ]
  },
  {
   "cell_type": "markdown",
   "metadata": {
    "colab_type": "text",
    "id": "vptrs5X0FWGN"
   },
   "source": [
    "Then calling the object method `P` will project the passed Y matrix onto X."
   ]
  },
  {
   "cell_type": "code",
   "execution_count": 0,
   "metadata": {
    "colab": {},
    "colab_type": "code",
    "id": "-e6k_qUnFWGN"
   },
   "outputs": [],
   "source": [
    "Y_proj = project_X.P(Y)"
   ]
  },
  {
   "cell_type": "markdown",
   "metadata": {
    "colab_type": "text",
    "id": "VXJ6K-w3FWGP"
   },
   "source": [
    "## Projection Diagonal\n",
    "\n",
    "We define a function to calculate the diagonal of a projection matrix without building the full matrix."
   ]
  },
  {
   "cell_type": "code",
   "execution_count": 0,
   "metadata": {
    "colab": {},
    "colab_type": "code",
    "id": "ncoRpE10FWGQ"
   },
   "outputs": [],
   "source": [
    "def projection_diagonal(X):\n",
    "    \"\"\"Calculate the diagonal elements of a projection matrix\"\"\"\n",
    "    XXXinv = X @ la.inv(X.T @ X)  # an (n x k) matrix, safe to construct\n",
    "    proj_diag = []\n",
    "    for XXXinv_row, X_col in zip(XXXinv, X.T):\n",
    "        # numpy iterates over rows. So to iterate over the columns\n",
    "        # of X, we transpose it. For every element of the diagonal, \n",
    "        # dot that row of the left matrix with that column of the \n",
    "        # right matrix.\n",
    "        proj_diag.append(np.dot(XXXinv_row, X_col))\n",
    "    return np.array(proj_diag)"
   ]
  },
  {
   "cell_type": "markdown",
   "metadata": {},
   "source": [
    "## Final Word"
   ]
  },
  {
   "cell_type": "markdown",
   "metadata": {},
   "source": [
    "TBD"
   ]
  }
 ],
 "metadata": {
  "kernelspec": {
   "display_name": "Python 3",
   "language": "python",
   "name": "python3"
  },
  "language_info": {
   "codemirror_mode": {
    "name": "ipython",
    "version": 3
   },
   "file_extension": ".py",
   "mimetype": "text/x-python",
   "name": "python",
   "nbconvert_exporter": "python",
   "pygments_lexer": "ipython3",
   "version": "3.6.9"
  },
  "org": null
 },
 "nbformat": 4,
 "nbformat_minor": 4
}
