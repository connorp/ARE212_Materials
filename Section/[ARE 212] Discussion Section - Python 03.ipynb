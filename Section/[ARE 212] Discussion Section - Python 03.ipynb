{
 "cells": [
  {
   "cell_type": "markdown",
   "metadata": {},
   "source": [
    "# [ARE 212] Discussion Section - Python 03"
   ]
  },
  {
   "cell_type": "markdown",
   "metadata": {},
   "source": [
    "- [Ethan's materials](https://github.com/ligonteaching/ARE212_Materials)"
   ]
  },
  {
   "cell_type": "markdown",
   "metadata": {},
   "source": [
    "### Source Material"
   ]
  },
  {
   "cell_type": "markdown",
   "metadata": {},
   "source": [
    "These notes are the fruits of arduous labor of others.  My contributions are minimual, but please expect to find some code (and even explanation) errors (and assume them all to be mine). If you find any mistakes or have questions, please [let me know](mailto:benjaminkrause@berkeley.edu).\n",
    "    \n",
    "The primary sources of these notes are:\n",
    "- Ethan and in particular his EEP 153 Notes\n",
    "- [Computational and Inferential Thinking: The Foundations of Data Science](https://www.inferentialthinking.com/chapters/intro.html) which is the textbook for UC Berkeley's [Data 8: The Foundations of Data Science](http://data8.org/) course.  All of the notes, readings, labs, and assignments are fully available online as well.  For instance, here is [Spring 2020](http://data8.org/sp20/).\n",
    "- [Python Data Science Handbook](https://jakevdp.github.io/PythonDataScienceHandbook/)"
   ]
  },
  {
   "cell_type": "markdown",
   "metadata": {},
   "source": [
    "### ARE 212 Student Survey Reminder\n",
    "- If you haven't already done so, please take 2min and complete the survey we posted earlier this week: https://docs.google.com/forms/d/e/1FAIpQLSfsHw01F-T0a9mzggUXEy2eh36RhUvJ0tHjYepS1hfLf6oXDw/viewform"
   ]
  },
  {
   "cell_type": "markdown",
   "metadata": {},
   "source": [
    "### Follow-up from questions posed last week"
   ]
  },
  {
   "cell_type": "markdown",
   "metadata": {},
   "source": [
    "- *Can you consolidate the course information and policies?*\n",
    "    - We have brought all the materials for Ethan's portion of this course together on [Ethan's Github](https://github.com/ligonteaching/ARE212_Materials)\n",
    "        - Scroll down past the repository to the [README](https://github.com/ligonteaching/ARE212_Materials#materials-for-are212) for a summary and structure of this portion of the semester linked to the various documents, notes, readings, and notebooks\n",
    "        - Toward the bottom of the [README](https://github.com/ligonteaching/ARE212_Materials#materials-for-are212), I've linked to all of the [Discussion Section Materials](https://github.com/ligonteaching/ARE212_Materials#discussion-section) including youtube links for all of the Zoom Sections (Thank you Sofia!!!) for Ethan's portion of the semester\n",
    "        - I've also moved all of the Discussion Section Materials for this portion of the class to the [Section](https://github.com/ligonteaching/ARE212_Materials/tree/master/Section) folder on [Ethan's Github](https://github.com/ligonteaching/ARE212_Materials)\n",
    "        - Finally, I have also included some [Reminders of Additional Services and Support](https://github.com/ligonteaching/ARE212_Materials#reminder-of-additional-services-and-support) at the very bottom of the [README](https://github.com/ligonteaching/ARE212_Materials#materials-for-are212).  This is a difficult time for all of us for so many different reasons.  Know that there are a lot of resources available to help if you're struggling.\n",
    "\n",
    "\n",
    "- *Can we post the Zoom recordings ASAP?*\n",
    "    - How is this going?\n",
    "  \n",
    "  \n",
    "- *How do we set the seed in `Python` for replicability?*\n",
    "    - The key element to keep in mind when setting the seed in `Python` is to make sure you are doing so in a way that the modules you are depending upon will notice\n",
    "    - Becauuse most of our work in this class will depend upon `NumPy` and `SciPy` (which actually just calls to `NumPy` in this instance, see ), that is the module we will be sure to reference.\n",
    "    - Use `np.random.seed( <integer> )` to set the seed so that both modules take note"
   ]
  },
  {
   "cell_type": "code",
   "execution_count": 1,
   "metadata": {},
   "outputs": [],
   "source": [
    "# From the documentation we can see that scipy will defer to numpy\n",
    "import scipy\n",
    "scipy.random?\n",
    "# Note: \"String form: <module 'numpy.random' from '/srv/app/venv/lib/python3.6/site-packages/numpy/random/__init__.py'>\""
   ]
  },
  {
   "cell_type": "code",
   "execution_count": 2,
   "metadata": {},
   "outputs": [],
   "source": [
    "# From the documenation we see `numpy` has a subpackage `random`\n",
    "import numpy as np\n",
    "np?"
   ]
  },
  {
   "cell_type": "code",
   "execution_count": 3,
   "metadata": {},
   "outputs": [],
   "source": [
    "# From the documentation we find `seed1\n",
    "np.random?\n",
    "# Note: seed       Seed the random number generator."
   ]
  },
  {
   "cell_type": "markdown",
   "metadata": {},
   "source": [
    "-  \n",
    "    - Slightly modifying the code in [weighted_regression](https://github.com/ligonteaching/ARE212_Materials/blob/master/weighted_regression.ipynb), we can see this in action (modified lines of code are marked with comments)"
   ]
  },
  {
   "cell_type": "code",
   "execution_count": 4,
   "metadata": {},
   "outputs": [
    {
     "name": "stdout",
     "output_type": "stream",
     "text": [
      "first number  -  [ 0.0700866   2.42789915 -2.18940344]\n",
      "Second number -  [ 0.0700866   2.42789915 -2.18940344]\n"
     ]
    }
   ],
   "source": [
    "# Code from Weighted Regressions\n",
    "\n",
    "# 2.1. (MODIFIED) ORIGINAL CODE\n",
    "\n",
    "%matplotlib inline\n",
    "import numpy as np\n",
    "from scipy.stats import multivariate_normal\n",
    "\n",
    "k = 3 # Number of observables in T\n",
    "\n",
    "mu = [0]*k\n",
    "Sigma=[[1,0.5,0],\n",
    "       [0.5,2,0],\n",
    "       [0,0,3]]\n",
    "\n",
    "T = multivariate_normal(mu,Sigma) \n",
    "\n",
    "u = multivariate_normal(cov=0.2)\n",
    "\n",
    "\n",
    "\n",
    "# 2.2. (MODIFIED) ORIGINAL CODE\n",
    "\n",
    "beta = [1/2,1]\n",
    "\n",
    "D = np.random.random(size=(3,2)) # Generate random 3x2 matrix\n",
    "\n",
    "N=1 # Sample size (MODIFIED) from 1000 to 1 to make the code clear\n",
    "\n",
    "# Now: Transform rvs into a sample\n",
    "np.random.seed( 30 )\n",
    "print (\"first number  - \", T.rvs(N))\n",
    "\n",
    "np.random.seed( 30 )\n",
    "print (\"Second number - \", T.rvs(N))"
   ]
  },
  {
   "cell_type": "markdown",
   "metadata": {},
   "source": [
    "## Review Lecture Jupyter Notebooks 2"
   ]
  },
  {
   "cell_type": "markdown",
   "metadata": {},
   "source": [
    "### Learning Goals Today"
   ]
  },
  {
   "cell_type": "markdown",
   "metadata": {},
   "source": [
    "3.  Review [random_variables0](https://github.com/ligonteaching/ARE212_Materials/blob/master/random_variables0.ipynb)\n",
    "    - a. Convolution of Discrete Random Variables (submitted to class discussion by Arthur Wardle)\n",
    "    - b. Convolving Two Discrete Random Variables (submitted to class discussion by Connor Jackson)\n",
    "4.  Review [wright34](https://github.com/ligonteaching/ARE212_Materials/blob/master/wright34.ipynb)\n",
    "\n",
    "NB: If needed, review:\n",
    "- Introduction from the first week at `[ARE 212] Discussion Section - Python 01` on [datahub](https://datahub.berkeley.edu/user/benjaminkrause/notebooks/ARE212_Discussion_Section/%5BARE%20212%5D%20Discussion%20Section%20-%20Python%2001.ipynb) and [github](https://github.com/ligonteaching/ARE212_Materials/blob/master/Section/%5BARE%20212%5D%20Discussion%20Section%20-%20Python%2001.ipynb)\n",
    "- Review of Lecture Jupyter Notebooks 1 at `[ARE 212] Discussion Section - Python 02` on [datahub](https://datahub.berkeley.edu/user/benjaminkrause/notebooks/ARE212_Discussion_Section/%5BARE%20212%5D%20Discussion%20Section%20-%20Python%2002.ipynb#) and [github](https://github.com/ligonteaching/ARE212_Materials/blob/master/Section/%5BARE%20212%5D%20Discussion%20Section%20-%20Python%2002.ipynb)\n",
    "- Or all of my Juptyer Notebooks to date in the [Section](https://github.com/ligonteaching/ARE212_Materials/tree/master/Section) folder on [Ethan's Github](https://github.com/ligonteaching/ARE212_Materials)"
   ]
  },
  {
   "cell_type": "markdown",
   "metadata": {},
   "source": [
    "##### Open a `jupyter` notebook on [Google Colab](https://colab.research.google.com/notebooks/intro.ipynb#recent=true)"
   ]
  },
  {
   "cell_type": "markdown",
   "metadata": {},
   "source": [
    "1. Add the [Google Chrome Extension for Colab](https://chrome.google.com/webstore/detail/open-in-colab/iogfkhleblhcpcekbiedikdehleodpjo?hl=en) to your browser\n",
    "2. Navigate to a `Jupyter Notebook` file in `Github`, for instance, the [Section Notes for April 17, 2020](https://github.com/ligonteaching/ARE212_Materials/blob/master/Section/%5BARE%20212%5D%20Discussion%20Section%20-%20Python%2003.ipynb) (today!) \n",
    "3. Click on the `Colab` icon at the top of your browser.\n",
    "\n",
    "A new functional instance of the `Jupyter Notebook` should open in a new tab your browser."
   ]
  },
  {
   "cell_type": "markdown",
   "metadata": {},
   "source": [
    "##### Open a `jupyter` notebook on [datahub.berkeley.edu](https://datahub.berkeley.edu/)"
   ]
  },
  {
   "cell_type": "markdown",
   "metadata": {},
   "source": [
    "1. Open the website [URL to Interact](https://url-to-interact.herokuapp.com/)\n",
    "2. For `1. Choose your desired hub:` select `datahub.berkeley.edu`\n",
    "3. Either navigate to [my github](https://github.com/bk-econ/share) page and select the `URL` of the correct section or simply copy it from right here: https://github.com/bk-econ/share/blob/master/%5BARE%20212%5D%20Discussion%20Section%20-%20Python%2001.ipynb\n",
    "4. Paste the `URL` you copied in the previous step into `2. Paste the GitHub URL for your file or folder in the box below.`\n",
    "5. Click `Convert to interact link!`\n",
    "6. Copy the new `URL` generated in field `4. Your interact link URL will appear in the box below.`\n",
    "7. Paste the new `URL` in any web browser and get to it!"
   ]
  },
  {
   "cell_type": "markdown",
   "metadata": {},
   "source": [
    "### 3. [random_variables0](https://datahub.berkeley.edu/user/benjaminkrause/notebooks/ARE212_Materials/random_variables0.ipynb)\n"
   ]
  },
  {
   "cell_type": "markdown",
   "metadata": {},
   "source": [
    "see [random_variables0 on github](https://github.com/ligonteaching/ARE212_Materials/blob/master/random_variables0.ipynb)"
   ]
  },
  {
   "cell_type": "markdown",
   "metadata": {},
   "source": [
    "#### a. Convolution of Discrete Random Variables \n",
    "(submitted to [Bcourses Discussion](https://bcourses.berkeley.edu/courses/1487913/discussion_topics/5733934) by Arthur R. Wardle)"
   ]
  },
  {
   "cell_type": "code",
   "execution_count": 18,
   "metadata": {},
   "outputs": [],
   "source": [
    "from scipy.stats import distributions as iid\n",
    "\n",
    "Omega1 = (-1, 0, 1)\n",
    "Pr1 = (1/3, 1/2, 1/6)\n",
    "\n",
    "Omega2 = (2, 3, 4)\n",
    "Pr2 = (1/3, 2/9, 4/9)\n",
    "\n",
    "x = iid.rv_discrete(values=(Omega1, Pr1))\n",
    "s = iid.rv_discrete(values=(Omega2, Pr2))"
   ]
  },
  {
   "cell_type": "markdown",
   "metadata": {},
   "source": [
    "First, I create two distinct discrete random variables. The Omega objects define the possible values each distribution takes (i.e. its discrete support), the Pr objects define the probability assigned to each of those values, and finally, the x and s objects use the SciPy library to convert this information into a distribution. These objects now have methods available to them related to being distributions such as x.pmf() or s.median()."
   ]
  },
  {
   "cell_type": "code",
   "execution_count": 35,
   "metadata": {},
   "outputs": [
    {
     "name": "stdout",
     "output_type": "stream",
     "text": [
      "[ 0  0 -1  0  0  0  1  0 -1  0]\n",
      "[4 2 3 4 2 2 4 4 4 4]\n"
     ]
    }
   ],
   "source": [
    "N = 10\n",
    "print(x.rvs(size=N))\n",
    "print(s.rvs(size=N))"
   ]
  },
  {
   "cell_type": "markdown",
   "metadata": {},
   "source": [
    "This cell prints a random draw from each distribution of size $N$."
   ]
  },
  {
   "cell_type": "code",
   "execution_count": 25,
   "metadata": {},
   "outputs": [
    {
     "name": "stdout",
     "output_type": "stream",
     "text": [
      "[-1  0  1]\n",
      "[0.33333333 0.5        0.16666667]\n"
     ]
    }
   ],
   "source": [
    "print(x.xk)\n",
    "print(x.pk)"
   ]
  },
  {
   "cell_type": "markdown",
   "metadata": {},
   "source": [
    "The remaining code is going to make use of the fact that you can retrieve the support and the probabilities assigned to each element of the support using .xk and .pk. This is demonstrated in the cell above."
   ]
  },
  {
   "cell_type": "code",
   "execution_count": 20,
   "metadata": {},
   "outputs": [],
   "source": [
    "class ConvolvedDiscrete:\n",
    "    \n",
    "    def __init__(self, x, s):\n",
    "        self.discrete_rv1 = x\n",
    "        self.discrete_rv2 = s\n",
    "        \n",
    "    def pmf(self, z):\n",
    "        \n",
    "        f = 0\n",
    "        x = self.discrete_rv1\n",
    "        s = self.discrete_rv2\n",
    "        \n",
    "        for k in range(len(s.xk)):\n",
    "            f = f + x.pmf(z - s.xk[k])*s.pk[k]\n",
    "        return f\n",
    "        \n",
    "    def cdf(self, z):\n",
    "        F = 0\n",
    "        x = self.discrete_rv1\n",
    "        s = self.discrete_rv2\n",
    "        \n",
    "        for k in range(len(s.xk)):\n",
    "            F = F + x.cdf(z - s.xk[k])*s.pk[k]\n",
    "        return F\n",
    "    "
   ]
  },
  {
   "cell_type": "markdown",
   "metadata": {},
   "source": [
    "This is a class that takes two discrete distributions and convolves them. Here is a more line-by-line description of the pmf and cdf functions in words:\n",
    "\n",
    "PMF:\n",
    "1. Start with a function that is zero everywhere, $f=0$.\n",
    "2. The PMF of the convolution will only be above zero over the support of s, as can be seen by looking at the definition of a discrete convolution: $x*s(a)=\\sum_{b\\in s.xk} s[b]x[a-b]$. Therefore, for each element $b$ in the support of $s$, multiply the probability of that element by the probability $P(x=z-b)$. \n",
    "3. Finally, sum these products of probabilities to get $P(x*s = z)$.\n",
    "\n",
    "The CDF follows the exact same procedure, subbing $P(x\\le z-b)$ for $P(x=z-b$ in order to get a cumulative density.\n",
    "\n",
    "Below, I plot the pmf of the convolution of the original two distributions."
   ]
  },
  {
   "cell_type": "code",
   "execution_count": 34,
   "metadata": {},
   "outputs": [
    {
     "data": {
      "application/vnd.plotly.v1+json": {
       "config": {
        "plotlyServerURL": "https://plot.ly"
       },
       "data": [
        {
         "type": "scatter",
         "x": [
          1,
          2,
          3,
          4,
          5
         ],
         "y": [
          0.1111111111111111,
          0.24074074074074073,
          0.31481481481481477,
          0.25925925925925924,
          0.07407407407407407
         ]
        }
       ],
       "layout": {
        "template": {
         "data": {
          "bar": [
           {
            "error_x": {
             "color": "#2a3f5f"
            },
            "error_y": {
             "color": "#2a3f5f"
            },
            "marker": {
             "line": {
              "color": "#E5ECF6",
              "width": 0.5
             }
            },
            "type": "bar"
           }
          ],
          "barpolar": [
           {
            "marker": {
             "line": {
              "color": "#E5ECF6",
              "width": 0.5
             }
            },
            "type": "barpolar"
           }
          ],
          "carpet": [
           {
            "aaxis": {
             "endlinecolor": "#2a3f5f",
             "gridcolor": "white",
             "linecolor": "white",
             "minorgridcolor": "white",
             "startlinecolor": "#2a3f5f"
            },
            "baxis": {
             "endlinecolor": "#2a3f5f",
             "gridcolor": "white",
             "linecolor": "white",
             "minorgridcolor": "white",
             "startlinecolor": "#2a3f5f"
            },
            "type": "carpet"
           }
          ],
          "choropleth": [
           {
            "colorbar": {
             "outlinewidth": 0,
             "ticks": ""
            },
            "type": "choropleth"
           }
          ],
          "contour": [
           {
            "colorbar": {
             "outlinewidth": 0,
             "ticks": ""
            },
            "colorscale": [
             [
              0,
              "#0d0887"
             ],
             [
              0.1111111111111111,
              "#46039f"
             ],
             [
              0.2222222222222222,
              "#7201a8"
             ],
             [
              0.3333333333333333,
              "#9c179e"
             ],
             [
              0.4444444444444444,
              "#bd3786"
             ],
             [
              0.5555555555555556,
              "#d8576b"
             ],
             [
              0.6666666666666666,
              "#ed7953"
             ],
             [
              0.7777777777777778,
              "#fb9f3a"
             ],
             [
              0.8888888888888888,
              "#fdca26"
             ],
             [
              1,
              "#f0f921"
             ]
            ],
            "type": "contour"
           }
          ],
          "contourcarpet": [
           {
            "colorbar": {
             "outlinewidth": 0,
             "ticks": ""
            },
            "type": "contourcarpet"
           }
          ],
          "heatmap": [
           {
            "colorbar": {
             "outlinewidth": 0,
             "ticks": ""
            },
            "colorscale": [
             [
              0,
              "#0d0887"
             ],
             [
              0.1111111111111111,
              "#46039f"
             ],
             [
              0.2222222222222222,
              "#7201a8"
             ],
             [
              0.3333333333333333,
              "#9c179e"
             ],
             [
              0.4444444444444444,
              "#bd3786"
             ],
             [
              0.5555555555555556,
              "#d8576b"
             ],
             [
              0.6666666666666666,
              "#ed7953"
             ],
             [
              0.7777777777777778,
              "#fb9f3a"
             ],
             [
              0.8888888888888888,
              "#fdca26"
             ],
             [
              1,
              "#f0f921"
             ]
            ],
            "type": "heatmap"
           }
          ],
          "heatmapgl": [
           {
            "colorbar": {
             "outlinewidth": 0,
             "ticks": ""
            },
            "colorscale": [
             [
              0,
              "#0d0887"
             ],
             [
              0.1111111111111111,
              "#46039f"
             ],
             [
              0.2222222222222222,
              "#7201a8"
             ],
             [
              0.3333333333333333,
              "#9c179e"
             ],
             [
              0.4444444444444444,
              "#bd3786"
             ],
             [
              0.5555555555555556,
              "#d8576b"
             ],
             [
              0.6666666666666666,
              "#ed7953"
             ],
             [
              0.7777777777777778,
              "#fb9f3a"
             ],
             [
              0.8888888888888888,
              "#fdca26"
             ],
             [
              1,
              "#f0f921"
             ]
            ],
            "type": "heatmapgl"
           }
          ],
          "histogram": [
           {
            "marker": {
             "colorbar": {
              "outlinewidth": 0,
              "ticks": ""
             }
            },
            "type": "histogram"
           }
          ],
          "histogram2d": [
           {
            "colorbar": {
             "outlinewidth": 0,
             "ticks": ""
            },
            "colorscale": [
             [
              0,
              "#0d0887"
             ],
             [
              0.1111111111111111,
              "#46039f"
             ],
             [
              0.2222222222222222,
              "#7201a8"
             ],
             [
              0.3333333333333333,
              "#9c179e"
             ],
             [
              0.4444444444444444,
              "#bd3786"
             ],
             [
              0.5555555555555556,
              "#d8576b"
             ],
             [
              0.6666666666666666,
              "#ed7953"
             ],
             [
              0.7777777777777778,
              "#fb9f3a"
             ],
             [
              0.8888888888888888,
              "#fdca26"
             ],
             [
              1,
              "#f0f921"
             ]
            ],
            "type": "histogram2d"
           }
          ],
          "histogram2dcontour": [
           {
            "colorbar": {
             "outlinewidth": 0,
             "ticks": ""
            },
            "colorscale": [
             [
              0,
              "#0d0887"
             ],
             [
              0.1111111111111111,
              "#46039f"
             ],
             [
              0.2222222222222222,
              "#7201a8"
             ],
             [
              0.3333333333333333,
              "#9c179e"
             ],
             [
              0.4444444444444444,
              "#bd3786"
             ],
             [
              0.5555555555555556,
              "#d8576b"
             ],
             [
              0.6666666666666666,
              "#ed7953"
             ],
             [
              0.7777777777777778,
              "#fb9f3a"
             ],
             [
              0.8888888888888888,
              "#fdca26"
             ],
             [
              1,
              "#f0f921"
             ]
            ],
            "type": "histogram2dcontour"
           }
          ],
          "mesh3d": [
           {
            "colorbar": {
             "outlinewidth": 0,
             "ticks": ""
            },
            "type": "mesh3d"
           }
          ],
          "parcoords": [
           {
            "line": {
             "colorbar": {
              "outlinewidth": 0,
              "ticks": ""
             }
            },
            "type": "parcoords"
           }
          ],
          "scatter": [
           {
            "marker": {
             "colorbar": {
              "outlinewidth": 0,
              "ticks": ""
             }
            },
            "type": "scatter"
           }
          ],
          "scatter3d": [
           {
            "line": {
             "colorbar": {
              "outlinewidth": 0,
              "ticks": ""
             }
            },
            "marker": {
             "colorbar": {
              "outlinewidth": 0,
              "ticks": ""
             }
            },
            "type": "scatter3d"
           }
          ],
          "scattercarpet": [
           {
            "marker": {
             "colorbar": {
              "outlinewidth": 0,
              "ticks": ""
             }
            },
            "type": "scattercarpet"
           }
          ],
          "scattergeo": [
           {
            "marker": {
             "colorbar": {
              "outlinewidth": 0,
              "ticks": ""
             }
            },
            "type": "scattergeo"
           }
          ],
          "scattergl": [
           {
            "marker": {
             "colorbar": {
              "outlinewidth": 0,
              "ticks": ""
             }
            },
            "type": "scattergl"
           }
          ],
          "scattermapbox": [
           {
            "marker": {
             "colorbar": {
              "outlinewidth": 0,
              "ticks": ""
             }
            },
            "type": "scattermapbox"
           }
          ],
          "scatterpolar": [
           {
            "marker": {
             "colorbar": {
              "outlinewidth": 0,
              "ticks": ""
             }
            },
            "type": "scatterpolar"
           }
          ],
          "scatterpolargl": [
           {
            "marker": {
             "colorbar": {
              "outlinewidth": 0,
              "ticks": ""
             }
            },
            "type": "scatterpolargl"
           }
          ],
          "scatterternary": [
           {
            "marker": {
             "colorbar": {
              "outlinewidth": 0,
              "ticks": ""
             }
            },
            "type": "scatterternary"
           }
          ],
          "surface": [
           {
            "colorbar": {
             "outlinewidth": 0,
             "ticks": ""
            },
            "colorscale": [
             [
              0,
              "#0d0887"
             ],
             [
              0.1111111111111111,
              "#46039f"
             ],
             [
              0.2222222222222222,
              "#7201a8"
             ],
             [
              0.3333333333333333,
              "#9c179e"
             ],
             [
              0.4444444444444444,
              "#bd3786"
             ],
             [
              0.5555555555555556,
              "#d8576b"
             ],
             [
              0.6666666666666666,
              "#ed7953"
             ],
             [
              0.7777777777777778,
              "#fb9f3a"
             ],
             [
              0.8888888888888888,
              "#fdca26"
             ],
             [
              1,
              "#f0f921"
             ]
            ],
            "type": "surface"
           }
          ],
          "table": [
           {
            "cells": {
             "fill": {
              "color": "#EBF0F8"
             },
             "line": {
              "color": "white"
             }
            },
            "header": {
             "fill": {
              "color": "#C8D4E3"
             },
             "line": {
              "color": "white"
             }
            },
            "type": "table"
           }
          ]
         },
         "layout": {
          "annotationdefaults": {
           "arrowcolor": "#2a3f5f",
           "arrowhead": 0,
           "arrowwidth": 1
          },
          "colorscale": {
           "diverging": [
            [
             0,
             "#8e0152"
            ],
            [
             0.1,
             "#c51b7d"
            ],
            [
             0.2,
             "#de77ae"
            ],
            [
             0.3,
             "#f1b6da"
            ],
            [
             0.4,
             "#fde0ef"
            ],
            [
             0.5,
             "#f7f7f7"
            ],
            [
             0.6,
             "#e6f5d0"
            ],
            [
             0.7,
             "#b8e186"
            ],
            [
             0.8,
             "#7fbc41"
            ],
            [
             0.9,
             "#4d9221"
            ],
            [
             1,
             "#276419"
            ]
           ],
           "sequential": [
            [
             0,
             "#0d0887"
            ],
            [
             0.1111111111111111,
             "#46039f"
            ],
            [
             0.2222222222222222,
             "#7201a8"
            ],
            [
             0.3333333333333333,
             "#9c179e"
            ],
            [
             0.4444444444444444,
             "#bd3786"
            ],
            [
             0.5555555555555556,
             "#d8576b"
            ],
            [
             0.6666666666666666,
             "#ed7953"
            ],
            [
             0.7777777777777778,
             "#fb9f3a"
            ],
            [
             0.8888888888888888,
             "#fdca26"
            ],
            [
             1,
             "#f0f921"
            ]
           ],
           "sequentialminus": [
            [
             0,
             "#0d0887"
            ],
            [
             0.1111111111111111,
             "#46039f"
            ],
            [
             0.2222222222222222,
             "#7201a8"
            ],
            [
             0.3333333333333333,
             "#9c179e"
            ],
            [
             0.4444444444444444,
             "#bd3786"
            ],
            [
             0.5555555555555556,
             "#d8576b"
            ],
            [
             0.6666666666666666,
             "#ed7953"
            ],
            [
             0.7777777777777778,
             "#fb9f3a"
            ],
            [
             0.8888888888888888,
             "#fdca26"
            ],
            [
             1,
             "#f0f921"
            ]
           ]
          },
          "colorway": [
           "#636efa",
           "#EF553B",
           "#00cc96",
           "#ab63fa",
           "#FFA15A",
           "#19d3f3",
           "#FF6692",
           "#B6E880",
           "#FF97FF",
           "#FECB52"
          ],
          "font": {
           "color": "#2a3f5f"
          },
          "geo": {
           "bgcolor": "white",
           "lakecolor": "white",
           "landcolor": "#E5ECF6",
           "showlakes": true,
           "showland": true,
           "subunitcolor": "white"
          },
          "hoverlabel": {
           "align": "left"
          },
          "hovermode": "closest",
          "mapbox": {
           "style": "light"
          },
          "paper_bgcolor": "white",
          "plot_bgcolor": "#E5ECF6",
          "polar": {
           "angularaxis": {
            "gridcolor": "white",
            "linecolor": "white",
            "ticks": ""
           },
           "bgcolor": "#E5ECF6",
           "radialaxis": {
            "gridcolor": "white",
            "linecolor": "white",
            "ticks": ""
           }
          },
          "scene": {
           "xaxis": {
            "backgroundcolor": "#E5ECF6",
            "gridcolor": "white",
            "gridwidth": 2,
            "linecolor": "white",
            "showbackground": true,
            "ticks": "",
            "zerolinecolor": "white"
           },
           "yaxis": {
            "backgroundcolor": "#E5ECF6",
            "gridcolor": "white",
            "gridwidth": 2,
            "linecolor": "white",
            "showbackground": true,
            "ticks": "",
            "zerolinecolor": "white"
           },
           "zaxis": {
            "backgroundcolor": "#E5ECF6",
            "gridcolor": "white",
            "gridwidth": 2,
            "linecolor": "white",
            "showbackground": true,
            "ticks": "",
            "zerolinecolor": "white"
           }
          },
          "shapedefaults": {
           "line": {
            "color": "#2a3f5f"
           }
          },
          "ternary": {
           "aaxis": {
            "gridcolor": "white",
            "linecolor": "white",
            "ticks": ""
           },
           "baxis": {
            "gridcolor": "white",
            "linecolor": "white",
            "ticks": ""
           },
           "bgcolor": "#E5ECF6",
           "caxis": {
            "gridcolor": "white",
            "linecolor": "white",
            "ticks": ""
           }
          },
          "title": {
           "x": 0.05
          },
          "xaxis": {
           "automargin": true,
           "gridcolor": "white",
           "linecolor": "white",
           "ticks": "",
           "zerolinecolor": "white",
           "zerolinewidth": 2
          },
          "yaxis": {
           "automargin": true,
           "gridcolor": "white",
           "linecolor": "white",
           "ticks": "",
           "zerolinecolor": "white",
           "zerolinewidth": 2
          }
         }
        },
        "title": {
         "text": "PMF of y=x*s",
         "x": 0.5
        },
        "xaxis": {
         "title": {
          "text": "Value"
         }
        },
        "yaxis": {
         "title": {
          "text": "Probability Mass"
         }
        }
       }
      },
      "text/html": [
       "<div>\n",
       "        \n",
       "        \n",
       "            <div id=\"a2370ec5-aee0-4b43-9f41-a9c5a71d75af\" class=\"plotly-graph-div\" style=\"height:525px; width:100%;\"></div>\n",
       "            <script type=\"text/javascript\">\n",
       "                require([\"plotly\"], function(Plotly) {\n",
       "                    window.PLOTLYENV=window.PLOTLYENV || {};\n",
       "                    \n",
       "                if (document.getElementById(\"a2370ec5-aee0-4b43-9f41-a9c5a71d75af\")) {\n",
       "                    Plotly.newPlot(\n",
       "                        'a2370ec5-aee0-4b43-9f41-a9c5a71d75af',\n",
       "                        [{\"type\": \"scatter\", \"x\": [1, 2, 3, 4, 5], \"y\": [0.1111111111111111, 0.24074074074074073, 0.31481481481481477, 0.25925925925925924, 0.07407407407407407]}],\n",
       "                        {\"template\": {\"data\": {\"bar\": [{\"error_x\": {\"color\": \"#2a3f5f\"}, \"error_y\": {\"color\": \"#2a3f5f\"}, \"marker\": {\"line\": {\"color\": \"#E5ECF6\", \"width\": 0.5}}, \"type\": \"bar\"}], \"barpolar\": [{\"marker\": {\"line\": {\"color\": \"#E5ECF6\", \"width\": 0.5}}, \"type\": \"barpolar\"}], \"carpet\": [{\"aaxis\": {\"endlinecolor\": \"#2a3f5f\", \"gridcolor\": \"white\", \"linecolor\": \"white\", \"minorgridcolor\": \"white\", \"startlinecolor\": \"#2a3f5f\"}, \"baxis\": {\"endlinecolor\": \"#2a3f5f\", \"gridcolor\": \"white\", \"linecolor\": \"white\", \"minorgridcolor\": \"white\", \"startlinecolor\": \"#2a3f5f\"}, \"type\": \"carpet\"}], \"choropleth\": [{\"colorbar\": {\"outlinewidth\": 0, \"ticks\": \"\"}, \"type\": \"choropleth\"}], \"contour\": [{\"colorbar\": {\"outlinewidth\": 0, \"ticks\": \"\"}, \"colorscale\": [[0.0, \"#0d0887\"], [0.1111111111111111, \"#46039f\"], [0.2222222222222222, \"#7201a8\"], [0.3333333333333333, \"#9c179e\"], [0.4444444444444444, \"#bd3786\"], [0.5555555555555556, \"#d8576b\"], [0.6666666666666666, \"#ed7953\"], [0.7777777777777778, \"#fb9f3a\"], [0.8888888888888888, \"#fdca26\"], [1.0, \"#f0f921\"]], \"type\": \"contour\"}], \"contourcarpet\": [{\"colorbar\": {\"outlinewidth\": 0, \"ticks\": \"\"}, \"type\": \"contourcarpet\"}], \"heatmap\": [{\"colorbar\": {\"outlinewidth\": 0, \"ticks\": \"\"}, \"colorscale\": [[0.0, \"#0d0887\"], [0.1111111111111111, \"#46039f\"], [0.2222222222222222, \"#7201a8\"], [0.3333333333333333, \"#9c179e\"], [0.4444444444444444, \"#bd3786\"], [0.5555555555555556, \"#d8576b\"], [0.6666666666666666, \"#ed7953\"], [0.7777777777777778, \"#fb9f3a\"], [0.8888888888888888, \"#fdca26\"], [1.0, \"#f0f921\"]], \"type\": \"heatmap\"}], \"heatmapgl\": [{\"colorbar\": {\"outlinewidth\": 0, \"ticks\": \"\"}, \"colorscale\": [[0.0, \"#0d0887\"], [0.1111111111111111, \"#46039f\"], [0.2222222222222222, \"#7201a8\"], [0.3333333333333333, \"#9c179e\"], [0.4444444444444444, \"#bd3786\"], [0.5555555555555556, \"#d8576b\"], [0.6666666666666666, \"#ed7953\"], [0.7777777777777778, \"#fb9f3a\"], [0.8888888888888888, \"#fdca26\"], [1.0, \"#f0f921\"]], \"type\": \"heatmapgl\"}], \"histogram\": [{\"marker\": {\"colorbar\": {\"outlinewidth\": 0, \"ticks\": \"\"}}, \"type\": \"histogram\"}], \"histogram2d\": [{\"colorbar\": {\"outlinewidth\": 0, \"ticks\": \"\"}, \"colorscale\": [[0.0, \"#0d0887\"], [0.1111111111111111, \"#46039f\"], [0.2222222222222222, \"#7201a8\"], [0.3333333333333333, \"#9c179e\"], [0.4444444444444444, \"#bd3786\"], [0.5555555555555556, \"#d8576b\"], [0.6666666666666666, \"#ed7953\"], [0.7777777777777778, \"#fb9f3a\"], [0.8888888888888888, \"#fdca26\"], [1.0, \"#f0f921\"]], \"type\": \"histogram2d\"}], \"histogram2dcontour\": [{\"colorbar\": {\"outlinewidth\": 0, \"ticks\": \"\"}, \"colorscale\": [[0.0, \"#0d0887\"], [0.1111111111111111, \"#46039f\"], [0.2222222222222222, \"#7201a8\"], [0.3333333333333333, \"#9c179e\"], [0.4444444444444444, \"#bd3786\"], [0.5555555555555556, \"#d8576b\"], [0.6666666666666666, \"#ed7953\"], [0.7777777777777778, \"#fb9f3a\"], [0.8888888888888888, \"#fdca26\"], [1.0, \"#f0f921\"]], \"type\": \"histogram2dcontour\"}], \"mesh3d\": [{\"colorbar\": {\"outlinewidth\": 0, \"ticks\": \"\"}, \"type\": \"mesh3d\"}], \"parcoords\": [{\"line\": {\"colorbar\": {\"outlinewidth\": 0, \"ticks\": \"\"}}, \"type\": \"parcoords\"}], \"scatter\": [{\"marker\": {\"colorbar\": {\"outlinewidth\": 0, \"ticks\": \"\"}}, \"type\": \"scatter\"}], \"scatter3d\": [{\"line\": {\"colorbar\": {\"outlinewidth\": 0, \"ticks\": \"\"}}, \"marker\": {\"colorbar\": {\"outlinewidth\": 0, \"ticks\": \"\"}}, \"type\": \"scatter3d\"}], \"scattercarpet\": [{\"marker\": {\"colorbar\": {\"outlinewidth\": 0, \"ticks\": \"\"}}, \"type\": \"scattercarpet\"}], \"scattergeo\": [{\"marker\": {\"colorbar\": {\"outlinewidth\": 0, \"ticks\": \"\"}}, \"type\": \"scattergeo\"}], \"scattergl\": [{\"marker\": {\"colorbar\": {\"outlinewidth\": 0, \"ticks\": \"\"}}, \"type\": \"scattergl\"}], \"scattermapbox\": [{\"marker\": {\"colorbar\": {\"outlinewidth\": 0, \"ticks\": \"\"}}, \"type\": \"scattermapbox\"}], \"scatterpolar\": [{\"marker\": {\"colorbar\": {\"outlinewidth\": 0, \"ticks\": \"\"}}, \"type\": \"scatterpolar\"}], \"scatterpolargl\": [{\"marker\": {\"colorbar\": {\"outlinewidth\": 0, \"ticks\": \"\"}}, \"type\": \"scatterpolargl\"}], \"scatterternary\": [{\"marker\": {\"colorbar\": {\"outlinewidth\": 0, \"ticks\": \"\"}}, \"type\": \"scatterternary\"}], \"surface\": [{\"colorbar\": {\"outlinewidth\": 0, \"ticks\": \"\"}, \"colorscale\": [[0.0, \"#0d0887\"], [0.1111111111111111, \"#46039f\"], [0.2222222222222222, \"#7201a8\"], [0.3333333333333333, \"#9c179e\"], [0.4444444444444444, \"#bd3786\"], [0.5555555555555556, \"#d8576b\"], [0.6666666666666666, \"#ed7953\"], [0.7777777777777778, \"#fb9f3a\"], [0.8888888888888888, \"#fdca26\"], [1.0, \"#f0f921\"]], \"type\": \"surface\"}], \"table\": [{\"cells\": {\"fill\": {\"color\": \"#EBF0F8\"}, \"line\": {\"color\": \"white\"}}, \"header\": {\"fill\": {\"color\": \"#C8D4E3\"}, \"line\": {\"color\": \"white\"}}, \"type\": \"table\"}]}, \"layout\": {\"annotationdefaults\": {\"arrowcolor\": \"#2a3f5f\", \"arrowhead\": 0, \"arrowwidth\": 1}, \"colorscale\": {\"diverging\": [[0, \"#8e0152\"], [0.1, \"#c51b7d\"], [0.2, \"#de77ae\"], [0.3, \"#f1b6da\"], [0.4, \"#fde0ef\"], [0.5, \"#f7f7f7\"], [0.6, \"#e6f5d0\"], [0.7, \"#b8e186\"], [0.8, \"#7fbc41\"], [0.9, \"#4d9221\"], [1, \"#276419\"]], \"sequential\": [[0.0, \"#0d0887\"], [0.1111111111111111, \"#46039f\"], [0.2222222222222222, \"#7201a8\"], [0.3333333333333333, \"#9c179e\"], [0.4444444444444444, \"#bd3786\"], [0.5555555555555556, \"#d8576b\"], [0.6666666666666666, \"#ed7953\"], [0.7777777777777778, \"#fb9f3a\"], [0.8888888888888888, \"#fdca26\"], [1.0, \"#f0f921\"]], \"sequentialminus\": [[0.0, \"#0d0887\"], [0.1111111111111111, \"#46039f\"], [0.2222222222222222, \"#7201a8\"], [0.3333333333333333, \"#9c179e\"], [0.4444444444444444, \"#bd3786\"], [0.5555555555555556, \"#d8576b\"], [0.6666666666666666, \"#ed7953\"], [0.7777777777777778, \"#fb9f3a\"], [0.8888888888888888, \"#fdca26\"], [1.0, \"#f0f921\"]]}, \"colorway\": [\"#636efa\", \"#EF553B\", \"#00cc96\", \"#ab63fa\", \"#FFA15A\", \"#19d3f3\", \"#FF6692\", \"#B6E880\", \"#FF97FF\", \"#FECB52\"], \"font\": {\"color\": \"#2a3f5f\"}, \"geo\": {\"bgcolor\": \"white\", \"lakecolor\": \"white\", \"landcolor\": \"#E5ECF6\", \"showlakes\": true, \"showland\": true, \"subunitcolor\": \"white\"}, \"hoverlabel\": {\"align\": \"left\"}, \"hovermode\": \"closest\", \"mapbox\": {\"style\": \"light\"}, \"paper_bgcolor\": \"white\", \"plot_bgcolor\": \"#E5ECF6\", \"polar\": {\"angularaxis\": {\"gridcolor\": \"white\", \"linecolor\": \"white\", \"ticks\": \"\"}, \"bgcolor\": \"#E5ECF6\", \"radialaxis\": {\"gridcolor\": \"white\", \"linecolor\": \"white\", \"ticks\": \"\"}}, \"scene\": {\"xaxis\": {\"backgroundcolor\": \"#E5ECF6\", \"gridcolor\": \"white\", \"gridwidth\": 2, \"linecolor\": \"white\", \"showbackground\": true, \"ticks\": \"\", \"zerolinecolor\": \"white\"}, \"yaxis\": {\"backgroundcolor\": \"#E5ECF6\", \"gridcolor\": \"white\", \"gridwidth\": 2, \"linecolor\": \"white\", \"showbackground\": true, \"ticks\": \"\", \"zerolinecolor\": \"white\"}, \"zaxis\": {\"backgroundcolor\": \"#E5ECF6\", \"gridcolor\": \"white\", \"gridwidth\": 2, \"linecolor\": \"white\", \"showbackground\": true, \"ticks\": \"\", \"zerolinecolor\": \"white\"}}, \"shapedefaults\": {\"line\": {\"color\": \"#2a3f5f\"}}, \"ternary\": {\"aaxis\": {\"gridcolor\": \"white\", \"linecolor\": \"white\", \"ticks\": \"\"}, \"baxis\": {\"gridcolor\": \"white\", \"linecolor\": \"white\", \"ticks\": \"\"}, \"bgcolor\": \"#E5ECF6\", \"caxis\": {\"gridcolor\": \"white\", \"linecolor\": \"white\", \"ticks\": \"\"}}, \"title\": {\"x\": 0.05}, \"xaxis\": {\"automargin\": true, \"gridcolor\": \"white\", \"linecolor\": \"white\", \"ticks\": \"\", \"zerolinecolor\": \"white\", \"zerolinewidth\": 2}, \"yaxis\": {\"automargin\": true, \"gridcolor\": \"white\", \"linecolor\": \"white\", \"ticks\": \"\", \"zerolinecolor\": \"white\", \"zerolinewidth\": 2}}}, \"title\": {\"text\": \"PMF of y=x*s\", \"x\": 0.5}, \"xaxis\": {\"title\": {\"text\": \"Value\"}}, \"yaxis\": {\"title\": {\"text\": \"Probability Mass\"}}},\n",
       "                        {\"responsive\": true}\n",
       "                    ).then(function(){\n",
       "                            \n",
       "var gd = document.getElementById('a2370ec5-aee0-4b43-9f41-a9c5a71d75af');\n",
       "var x = new MutationObserver(function (mutations, observer) {{\n",
       "        var display = window.getComputedStyle(gd).display;\n",
       "        if (!display || display === 'none') {{\n",
       "            console.log([gd, 'removed!']);\n",
       "            Plotly.purge(gd);\n",
       "            observer.disconnect();\n",
       "        }}\n",
       "}});\n",
       "\n",
       "// Listen for the removal of the full notebook cells\n",
       "var notebookContainer = gd.closest('#notebook-container');\n",
       "if (notebookContainer) {{\n",
       "    x.observe(notebookContainer, {childList: true});\n",
       "}}\n",
       "\n",
       "// Listen for the clearing of the current output cell\n",
       "var outputEl = gd.closest('.output');\n",
       "if (outputEl) {{\n",
       "    x.observe(outputEl, {childList: true});\n",
       "}}\n",
       "\n",
       "                        })\n",
       "                };\n",
       "                });\n",
       "            </script>\n",
       "        </div>"
      ]
     },
     "metadata": {},
     "output_type": "display_data"
    }
   ],
   "source": [
    "import plotly.graph_objects as go\n",
    "\n",
    "y = ConvolvedDiscrete(x, s)\n",
    "\n",
    "support = list(range(min(x.xk) + min(s.xk), max(x.xk) + max(s.xk) + 1)) # Thank you Shuo for making a correction here\n",
    "\n",
    "fig = go.Figure(data=go.Scatter(x=support, y=[y.pmf(z) for z in support]))\n",
    "fig.update_layout(\n",
    "    title = {'text': \"PMF of y=x*s\", 'x': 0.5},\n",
    "    xaxis_title = \"Value\",\n",
    "    yaxis_title = \"Probability Mass\",\n",
    "    )\n",
    "fig.show()"
   ]
  },
  {
   "cell_type": "markdown",
   "metadata": {},
   "source": [
    "Line-by-line: I generate $y$, the convolution of $x$ and $s$, then create an object that includes all the integers in its support. It's necessary to define the maximum of the range function as one more than the maximum of the support because the range function will not include the maximum value by default. "
   ]
  },
  {
   "cell_type": "markdown",
   "metadata": {},
   "source": []
  },
  {
   "cell_type": "markdown",
   "metadata": {},
   "source": [
    "#### b. Convolving Two Discrete Random Variables\n",
    "(submitted to [Bcourses Discussion](https://bcourses.berkeley.edu/courses/1487913/discussion_topics/5733934) by Connor Jackson)"
   ]
  },
  {
   "cell_type": "markdown",
   "metadata": {},
   "source": [
    "The distinguishing feature of variables in a field such as the\n",
    "   reals or the complex plane is their *value*; the distinguishing\n",
    "   feature of random variables is their *distribution*. There are two main classes of random variables to consider: discrete\n",
    "and continuous.  The distinction is worth drawing because different\n",
    "classes are handled differently in many mathematical operations.\n",
    "\n",
    "Here we instantiate two discrete random variables."
   ]
  },
  {
   "cell_type": "code",
   "execution_count": 9,
   "metadata": {},
   "outputs": [],
   "source": [
    "from scipy.stats import distributions as iid\n",
    "\n",
    "Omega1 = (-1, 0, 1)\n",
    "Pr1 = (1/3, 1/2, 1/6)\n",
    "Omega2 = (-10, -1, -.5, 0, .3, 1)\n",
    "Pr2 = (1/10, 2/10, 1/10, 3/10, 2/10, 1/10)\n",
    "\n",
    "R = iid.rv_discrete(values=(Omega1, Pr1))\n",
    "S = iid.rv_discrete(values=(Omega2, Pr2))"
   ]
  },
  {
   "cell_type": "markdown",
   "metadata": {},
   "source": [
    "We now create a subclass of `scipy.stats.distributions.rv_discrete` to convolve two discrete random variables. "
   ]
  },
  {
   "cell_type": "code",
   "execution_count": 10,
   "metadata": {},
   "outputs": [],
   "source": [
    "class ConvolveDiscrete(iid.rv_discrete):\n",
    "\n",
    "    \"\"\"Convolve (add) two discrete rv s,\n",
    "       returning the resulting cdf.\"\"\"\n",
    "\n",
    "    def __init__(self, r, s):\n",
    "        \"\"\"Initialize our convolved RV as a discrete RV\"\"\"\n",
    "        # save our two RVs to convolve. Note these are\n",
    "        # instance attributes, so they persist and can be\n",
    "        # referenced anywhere you can access this object\n",
    "        self.rv1 = r\n",
    "        self.rv2 = s\n",
    "        # proceed as a discrete RV\n",
    "        super(ConvolveDiscrete, self).__init__(name=\"ConvolveDiscrete\")\n",
    "        \n",
    "    def _cdf(self, z):\n",
    "        \"\"\"calculate the convolved CDF at the given point\"\"\"\n",
    "        # The variables below are just regular variables, \n",
    "        # and thus are not accessible outside the function\n",
    "        F = 0\n",
    "        r = self.rv1\n",
    "        s = self.rv2\n",
    "        \n",
    "        # zip() takes iterators (of equal length) and returns\n",
    "        # tuples containing the next value from each iterator\n",
    "        for p, val in zip(s.pk, s.xk):\n",
    "            # += is an increment shortcut\n",
    "            F += p * R.cdf(z - val)\n",
    "            # equivalent: F = F + p * R.cdf(z - val)\n",
    "        return F\n",
    "\n",
    "    def _pdf(self, z):\n",
    "        \"\"\"calculate the convolved PMF at the given point\"\"\"\n",
    "        f = 0\n",
    "        r = self.rv1\n",
    "        s = self.rv2\n",
    "        \n",
    "        for p, val in zip(s.pk, s.xk):\n",
    "            f += p * R.pmf(z - val)\n",
    "        return f"
   ]
  },
  {
   "cell_type": "markdown",
   "metadata": {},
   "source": [
    "We can then use this class to explore the properties of this convolved random variable. "
   ]
  },
  {
   "cell_type": "code",
   "execution_count": 11,
   "metadata": {},
   "outputs": [
    {
     "name": "stdout",
     "output_type": "stream",
     "text": [
      "0.7333333333333333 0.3333333333333333\n"
     ]
    }
   ],
   "source": [
    "# Create new convolved rv:\n",
    "y = ConvolveDiscrete(R, S)\n",
    "\n",
    "print(y.cdf(0), y.pmf(0))"
   ]
  },
  {
   "cell_type": "markdown",
   "metadata": {},
   "source": [
    "### Ethan's Code: see [random_variables0 on github](https://github.com/ligonteaching/ARE212_Materials/blob/master/random_variables0.ipynb)"
   ]
  },
  {
   "cell_type": "markdown",
   "metadata": {},
   "source": [
    "### Defining Random Variables in =python=                       :code_example:\n",
    "\n"
   ]
  },
  {
   "cell_type": "code",
   "execution_count": 12,
   "metadata": {},
   "outputs": [
    {
     "data": {
      "text/html": [
       "<script>\n",
       "                  code_show=true; \n",
       "                  function code_toggle() {\n",
       "                     if (code_show){\n",
       "                        $('div.cell.code_cell.rendered.selected div.input').hide();\n",
       "                     } else {\n",
       "                        $('div.cell.code_cell.rendered.selected div.input').show();\n",
       "                     }\n",
       "                     code_show = !code_show\n",
       "                   } \n",
       "                  $( document ).ready(code_toggle);\n",
       "                 </script>\n",
       "<a href=\"javascript:code_toggle()\"></a>."
      ],
      "text/plain": [
       "<IPython.core.display.HTML object>"
      ]
     },
     "metadata": {},
     "output_type": "display_data"
    }
   ],
   "source": [
    "# 3.1. ORIGINAL CODE\n",
    "\n",
    "# Define \"tag\" the display of which hides the cell\n",
    "from IPython.display import HTML\n",
    "from IPython.display import display\n",
    "\n",
    "# Taken from https://stackoverflow.com/questions/31517194/how-to-hide-one-specific-cell-input-or-output-in-ipython-notebook\n",
    "def tag(marker):\n",
    "    s = HTML('''<script>\n",
    "                  code_show=true; \n",
    "                  function code_toggle() {\n",
    "                     if (code_show){\n",
    "                        $('div.cell.code_cell.rendered.selected div.input').hide();\n",
    "                     } else {\n",
    "                        $('div.cell.code_cell.rendered.selected div.input').show();\n",
    "                     }\n",
    "                     code_show = !code_show\n",
    "                   } \n",
    "                  $( document ).ready(code_toggle);\n",
    "                 </script>\n",
    "<a href=\"javascript:code_toggle()\">%s</a>.''' % marker)\n",
    "    return s\n",
    "display(tag(''))"
   ]
  },
  {
   "cell_type": "markdown",
   "metadata": {},
   "source": [
    "<font color='red'> *notes*: </font>\n",
    "- Ethan confirmed that you do not need to understand this code cell.\n",
    "- Primarily he is writing code that auto-hides and also makes use of `HTML` programming\n",
    "- As commented in the code, if you're interested in learning more about this, see the [discussion on Stack Overflow](https://stackoverflow.com/questions/31517194/how-to-hide-one-specific-cell-input-or-output-in-ipython-notebook)"
   ]
  },
  {
   "cell_type": "markdown",
   "metadata": {},
   "source": [
    "The distinguishing feature of variables in a field such as the\n",
    "   reals or the complex plane is their *value*; the distinguishing\n",
    "   feature of random variables is their *distribution*.  The `python`\n",
    "   package `scipy.stats` is well-engineered and offers many different\n",
    "   distributions, and tools to construct others, while the package\n",
    "   `pacal` is perhaps less well engineered, but defines arithmetic\n",
    "   operations over random variables which allows for more elegant\n",
    "   semantics.\n",
    "\n",
    "There are two main classes of random variables to consider: discrete\n",
    "and continuous.  The distinction is worth drawing because different\n",
    "classes are handled differently in many mathematical operations.  \n",
    "\n",
    "For example, here we instantiate a scalar $\\rvx$:\n",
    "\n"
   ]
  },
  {
   "cell_type": "code",
   "execution_count": 13,
   "metadata": {},
   "outputs": [],
   "source": [
    "# 3.2. ORIGINAL CODE\n",
    "\n",
    "from scipy.stats import distributions as iid\n",
    "\n",
    "x = iid.norm()"
   ]
  },
  {
   "cell_type": "code",
   "execution_count": 14,
   "metadata": {},
   "outputs": [],
   "source": [
    "# iid.norm?\n",
    "# A normal continuous random variable."
   ]
  },
  {
   "cell_type": "code",
   "execution_count": 15,
   "metadata": {},
   "outputs": [],
   "source": [
    "# 3.2. CODE ABOVE WITH COMMENTS AND PRINTING\n",
    "\n",
    "# import just the distributions function (and call it \"iid\") from the \"stats\" functions of the SciPy module\n",
    "from scipy.stats import distributions as iid\n",
    "\n",
    "# x gets a normal continuous random variable.\n",
    "x = iid.norm()"
   ]
  },
  {
   "cell_type": "markdown",
   "metadata": {},
   "source": [
    "And here we instantiate a discrete random variable which is defined\n",
    " over an event space $\\{-1,0,1\\}$ with corresponding probabilities $(1/3,1/2,1/6)$:\n",
    "\n"
   ]
  },
  {
   "cell_type": "code",
   "execution_count": 16,
   "metadata": {},
   "outputs": [],
   "source": [
    "# 3.3. ORIGINAL CODE\n",
    "\n",
    "Omega = (-1,0,1)\n",
    "Pr = (1/3.,1/2.,1/6.)\n",
    "\n",
    "s = iid.rv_discrete(values=(Omega,Pr))"
   ]
  },
  {
   "cell_type": "markdown",
   "metadata": {},
   "source": [
    "<font color='red'> *notes*: </font>\n",
    "- `.` after numbers specifies the type as `float` (as opposed to an `integer`) "
   ]
  },
  {
   "cell_type": "code",
   "execution_count": 17,
   "metadata": {},
   "outputs": [],
   "source": [
    "# iid.rv_discrete?\n",
    "# `rv_discrete` is a base class to construct specific distribution classes\n",
    "## and instances for discrete random variables. It can also be used\n",
    "## to construct an arbitrary distribution defined by a list of support\n",
    "## points and corresponding probabilities."
   ]
  },
  {
   "cell_type": "code",
   "execution_count": 18,
   "metadata": {},
   "outputs": [
    {
     "name": "stdout",
     "output_type": "stream",
     "text": [
      "Omega = (-1, 0, 1)\n",
      "Pr = (0.3333333333333333, 0.5, 0.16666666666666666)\n",
      "s = <scipy.stats._distn_infrastructure.rv_sample object at 0x7fea4c7aceb8>\n"
     ]
    }
   ],
   "source": [
    "# 3.3. CODE ABOVE WITH COMMENTS AND PRINTING\n",
    "\n",
    "# Omega gets R::list(-1, 0, 1)\n",
    "Omega = (-1,0,1)\n",
    "print(\"Omega =\", Omega)\n",
    "\n",
    "# Pr gets R::list(1/3,1/2,1/6)\n",
    "Pr = (1/3.,1/2.,1/6.)\n",
    "print(\"Pr =\", Pr)\n",
    "\n",
    "# generate a discrete random variable defined over event space Omega with corresponding probabilities Pr\n",
    "s = iid.rv_discrete(values=(Omega,Pr))\n",
    "print(\"s =\", s)"
   ]
  },
  {
   "cell_type": "markdown",
   "metadata": {},
   "source": [
    "Now, here are some things we can do with these random variables.\n",
    " First, the continuous  $\\rvx$:\n",
    "\n"
   ]
  },
  {
   "cell_type": "code",
   "execution_count": 19,
   "metadata": {},
   "outputs": [
    {
     "name": "stdout",
     "output_type": "stream",
     "text": [
      "E(x) = 0.0000\n",
      "\n",
      "Some (central) moments of x:\n",
      "[(1, 0.0), (2, 1.0), (3, 0.0), (4, 3.0)]\n",
      "\n",
      "95% confidence interval: (-1.959964,1.959964)\n",
      "\n",
      "0.5 0.3989422804014327\n"
     ]
    }
   ],
   "source": [
    "# 3.4. ORIGINAL CODE\n",
    "\n",
    "print(\"E(x) = %6.4f\" % x.mean())\n",
    "print()\n",
    "print(\"Some (central) moments of x:\")\n",
    "print([(m,x.moment(m)) for m in [1,2,3,4]])\n",
    "print()\n",
    "print(\"95%% confidence interval: (%f,%f)\" % x.interval(0.95))\n",
    "print()\n",
    "print(x.cdf(0),x.pdf(0))"
   ]
  },
  {
   "cell_type": "markdown",
   "metadata": {},
   "source": [
    "<font color='red'> *notes*: </font>\n",
    "- `%` operator used to specify formats in strings, see [A Guide to the Newer Python String Format Techniques](https://realpython.com/python-formatted-output/)\n",
    "- `%6.4f` sets the formatting to round and show float numbers to 4 decimal places\n",
    "- `%f` sets formatting as a float\n",
    "- `x.moment(y)` calls the yth moment of x\n",
    "- `x.interval(y)` calls the y (as a decimal point) interval of x\n",
    "- `x.cdf(y)` Cumulative distribution function of x evaluated at y\n",
    "- `x.pdf(y)` probability density function of x evaluated at y\n",
    "- `print()` just returns blank lines, similar to including the `end` specification `print( , end = '\\n\\n')`"
   ]
  },
  {
   "cell_type": "code",
   "execution_count": 20,
   "metadata": {},
   "outputs": [
    {
     "name": "stdout",
     "output_type": "stream",
     "text": [
      "E(x) = 0.0000\n",
      "\n",
      "E(x) = 0.0000\n",
      "\n",
      "Some (central) moments of x:\n",
      "[(1, 0.0), (2, 1.0), (3, 0.0), (4, 3.0)]\n",
      "\n",
      "Just the first moment =  0.0\n",
      "\n",
      "Just the fourth moment =  3.0\n",
      "\n",
      "Some (central) moments of x called as a range:\n",
      "[(1, 0.0), (2, 1.0), (3, 0.0)]\n",
      "\n",
      "95% confidence interval: (-1.959964,1.959964)\n",
      "\n",
      "0.5 0.3989422804014327\n"
     ]
    }
   ],
   "source": [
    "# 3.4. CODE ABOVE WITH COMMENTS AND PRINTING\n",
    "\n",
    "print(\"E(x) = %6.4f\" % x.mean())\n",
    "print()\n",
    "print(\"E(x) = %6.4f\" % x.mean(), end = '\\n\\n')\n",
    "print(\"Some (central) moments of x:\")\n",
    "print([(m,x.moment(m)) for m in [1,2,3,4]]) # note the equivalent of an for loop passing the range 1-4 through m in x.moment(m)\n",
    "print()\n",
    "print(\"Just the first moment = \", x.moment(1))\n",
    "print()\n",
    "print(\"Just the fourth moment = \", x.moment(4))\n",
    "print()\n",
    "print(\"Some (central) moments of x called as a range:\")\n",
    "print([(m,x.moment(m)) for m in range(1,4)])\n",
    "print()\n",
    "print(\"95%% confidence interval: (%f,%f)\" % x.interval(0.95))\n",
    "print()\n",
    "print(x.cdf(0),x.pdf(0))"
   ]
  },
  {
   "cell_type": "markdown",
   "metadata": {},
   "source": [
    "Next, the discrete r.v., \\rv{s}:\n",
    "\n"
   ]
  },
  {
   "cell_type": "code",
   "execution_count": 21,
   "metadata": {},
   "outputs": [
    {
     "name": "stdout",
     "output_type": "stream",
     "text": [
      "E(s) = -0.1667\n",
      "\n",
      "Some moments of x:\n",
      "[(1, -0.16666666666666666), (2, 0.5), (3, -0.16666666666666666), (4, 0.5)]\n",
      "\n",
      "95% confidence interval: (-1.000000,1.000000)\n",
      "\n",
      "0.8333333333333333 0.5\n"
     ]
    }
   ],
   "source": [
    "# 3.5. ORIGINAL CODE\n",
    "\n",
    "print(\"E(s) = %6.4f\" % s.mean())\n",
    "print()\n",
    "print(\"Some moments of x:\")\n",
    "print([(m,s.moment(m)) for m in [1,2,3,4]])\n",
    "print()\n",
    "print(\"95%% confidence interval: (%f,%f)\" % s.interval(0.95))\n",
    "print()\n",
    "# Note! Not pdf, but pmf for discrete rv.\n",
    "print(s.cdf(0),s.pmf(0))"
   ]
  },
  {
   "cell_type": "markdown",
   "metadata": {},
   "source": [
    "<font color='red'> *notes*: </font>\n",
    "- `s.pmf(y)` probability mass function of s evaluated at y"
   ]
  },
  {
   "cell_type": "markdown",
   "metadata": {},
   "source": [
    "If we want *realizations* of these random variables:\n",
    "\n"
   ]
  },
  {
   "cell_type": "code",
   "execution_count": 22,
   "metadata": {},
   "outputs": [
    {
     "name": "stdout",
     "output_type": "stream",
     "text": [
      "[ 0.47055962 -0.28564551  0.53836748]\n"
     ]
    }
   ],
   "source": [
    "# 3.6. ORIGINAL CODE\n",
    "\n",
    "N=3\n",
    "print(x.rvs(N)) # N realizations; no longer random"
   ]
  },
  {
   "cell_type": "markdown",
   "metadata": {},
   "source": [
    "We&rsquo;d like to be able to combine different random variables, say\n",
    "by addition, yielding a new random variable.  For instance, we&rsquo;d like\n",
    "to be able to construct\n",
    "\n"
   ]
  },
  {
   "cell_type": "code",
   "execution_count": 23,
   "metadata": {},
   "outputs": [
    {
     "ename": "TypeError",
     "evalue": "unsupported operand type(s) for +: 'rv_frozen' and 'rv_sample'",
     "output_type": "error",
     "traceback": [
      "\u001b[0;31m---------------------------------------------------------------------------\u001b[0m",
      "\u001b[0;31mTypeError\u001b[0m                                 Traceback (most recent call last)",
      "\u001b[0;32m<ipython-input-23-c67a17ba623b>\u001b[0m in \u001b[0;36m<module>\u001b[0;34m\u001b[0m\n\u001b[1;32m      1\u001b[0m \u001b[0;31m# 3.7. ORIGINAL CODE\u001b[0m\u001b[0;34m\u001b[0m\u001b[0;34m\u001b[0m\u001b[0;34m\u001b[0m\u001b[0m\n\u001b[1;32m      2\u001b[0m \u001b[0;34m\u001b[0m\u001b[0m\n\u001b[0;32m----> 3\u001b[0;31m \u001b[0my\u001b[0m \u001b[0;34m=\u001b[0m \u001b[0mx\u001b[0m \u001b[0;34m+\u001b[0m \u001b[0ms\u001b[0m\u001b[0;34m\u001b[0m\u001b[0;34m\u001b[0m\u001b[0m\n\u001b[0m",
      "\u001b[0;31mTypeError\u001b[0m: unsupported operand type(s) for +: 'rv_frozen' and 'rv_sample'"
     ]
    }
   ],
   "source": [
    "# 3.7. ORIGINAL CODE\n",
    "\n",
    "y = x + s"
   ]
  },
  {
   "cell_type": "markdown",
   "metadata": {},
   "source": [
    "But this fails.  Can you explain why?  What do you suppose the cdf of\n",
    "$\\rvy$ looks like?  Does it have a density, or does the addition of a\n",
    "random variable that *lacks* a density ($\\rv{s}$) to a random variable\n",
    "that has one ($\\rvx$) mess things up?\n",
    "\n"
   ]
  },
  {
   "cell_type": "code",
   "execution_count": 24,
   "metadata": {},
   "outputs": [
    {
     "data": {
      "text/html": [
       "<script>\n",
       "                  code_show=true; \n",
       "                  function code_toggle() {\n",
       "                     if (code_show){\n",
       "                        $('div.cell.code_cell.rendered.selected div.input').hide();\n",
       "                     } else {\n",
       "                        $('div.cell.code_cell.rendered.selected div.input').show();\n",
       "                     }\n",
       "                     code_show = !code_show\n",
       "                   } \n",
       "                  $( document ).ready(code_toggle);\n",
       "                 </script>\n",
       "<a href=\"javascript:code_toggle()\">+</a>."
      ],
      "text/plain": [
       "<IPython.core.display.HTML object>"
      ]
     },
     "metadata": {},
     "output_type": "display_data"
    }
   ],
   "source": [
    "# 3.8. ORIGINAL CODE\n",
    "\n",
    "display(tag(\"+\")) # NOTE: missing a parentheses in the posted code\n",
    "# Code to convolve a random variable with a pmf and another having a cdf\n",
    "# Exploits =scipy.stats= base rv_continuous class.\n",
    "\n",
    "class ConvolvedContinuousAndDiscrete(iid.rv_continuous):\n",
    "\n",
    "    \"\"\"Convolve (add) a continuous rv x and a discrete rv s,\n",
    "       returning the resulting cdf.\"\"\"\n",
    "\n",
    "    def __init__(self,f,s):\n",
    "        self.continuous_rv = f\n",
    "        self.discrete_rv = s\n",
    "        super(ConvolvedContinuousAndDiscrete, self).__init__(name=\"ConvolvedContinuousAndDiscrete\")\n",
    "        \n",
    "    def _cdf(self,z):\n",
    "        F=0\n",
    "        s = self.discrete_rv\n",
    "        x = self.continuous_rv\n",
    "        \n",
    "        for k in range(len(s.xk)):\n",
    "            F = F + x.cdf(z-s.xk[k])*s.pk[k]\n",
    "        return F\n",
    "\n",
    "    def _pdf(self,z):\n",
    "        f=0\n",
    "        s = self.discrete_rv\n",
    "        x = self.continuous_rv\n",
    "        \n",
    "        for k in range(len(s.xk)):\n",
    "            f = f + x.pdf(z-s.xk[k])*s.pk[k]\n",
    "        return f\n",
    "       \n",
    "\n",
    "\n",
    "# Create new convolved rv:\n",
    "y = ConvolvedContinuousAndDiscrete(x,s)\n"
   ]
  },
  {
   "cell_type": "markdown",
   "metadata": {},
   "source": [
    "<font color='red'> *notes*: </font>\n",
    "- `Python` operates in the paradigm of [Object-Oriented Programming (OPP)](https://en.wikipedia.org/wiki/Object-oriented_programming) . . . or [more my speed](https://www.freecodecamp.org/news/object-oriented-programming-concepts-21bb035f7260/)\n",
    "- Here we are defining a `class` in `Python` which is a combination of both a type of object and its functionality\n",
    "    - You can learn more about [classes in Python](https://docs.python.org/3/tutorial/classes.html)\n",
    "- If the first line simply read, `class ConvolvedContinuousAndDiscrete:`, we would be creating a new class from scratch.  Instead, because the name of our new class, `ConvolvedContinuousAndDiscrete`, is followed immediately by a parenthetical reference to another class, `iid.rv_continuous`, our new class inherits the attributes of `iid.rv_continuous`, which we call its ''base class'', as its starting point (this is accomplished in partnership with the `super()` function below).\n",
    "- The triple quotes `\"\"\"` open and close our 'docstring' for this new class.  This is the set of notes to describe what our class takes and does.\n",
    "- `def __init__` defines our \"instantiation\" operation, in other words, it defines how we call an object of this new class.\n",
    "    - By convention, though not always, the first arguement of a method is called `self`.  \n",
    "    - We also indicate that two \"instance variables\" (`f` and `s`) are necessary to instantiate an object of our new class\n",
    "    - Note that `__init__` takes both leading and trailing underscores because it is a \"magic\" or \"special\" function.  In addition, per Ethan's comment in [Discussions](https://bcourses.berkeley.edu/courses/1487913/discussion_topics/5733934), remember that by convention our \"private\" (i.e. only called within another class) functions are to be labeled with single leading underscores (see `_cdf` a few lines down).  For other underscoring conventions, see [this](https://hackernoon.com/understanding-the-underscore-of-python-309d1a029edc) (thank you Sara Johns!)\n",
    "- `self.continuous_rv = f` makes `f` the object's instance of `continuous_rv` which can then be referenced outside the function\n",
    "- `self.discrete_rv = s` makes `s` the object's instance of `discrete_rv` which can then be referenced outside the function\n",
    "- `super()` is for supporting the inheritance, here written in the [form](https://www.pythonforbeginners.com/super/working-python-super-function): \n",
    "        class SubClass(MyParentClass): \n",
    "        def __init__(self): \n",
    "        super(SubClass, self).__init__()  \n",
    "        \n",
    "    \n",
    "\n",
    "- Finally, we create a new convolved random variable by instantiating `y` using our new class `ConvolvedContinuousAndDiscrete` and our normal continuous random variable `x` (3.2) and our discrete random variables `s` (3.3) defined over an event space $\\Omega = \\{-1,0,1\\}$ with corresponding probabilities $PR = (1/3,1/2,1/6)$\n",
    "    "
   ]
  },
  {
   "cell_type": "code",
   "execution_count": 38,
   "metadata": {},
   "outputs": [
    {
     "name": "stdout",
     "output_type": "stream",
     "text": [
      "<__main__.ConvolvedContinuousAndDiscrete object at 0x7fea88cb2080>\n"
     ]
    }
   ],
   "source": [
    "# 3.8.  CODE ABOVE WITH COMMENTS AND PRINTING\n",
    "\n",
    "#display(tag(\"+\")) # NOTE: missing a parentheses in the posted code\n",
    "# Code to convolve a random variable with a pmf and another having a cdf\n",
    "# Exploits =scipy.stats= base rv_continuous class.\n",
    "\n",
    "# name our new class and indicate that it should inherit from iid.rv_continuous as its base class\n",
    "class ConvolvedContinuousAndDiscrete(iid.rv_continuous):\n",
    "\n",
    "    # Brief explanation of what this class will be doing\n",
    "    \"\"\"Convolve (add) a continuous rv x and a discrete rv s,\n",
    "       returning the resulting cdf.\"\"\"\n",
    "\n",
    "    # Define the instantiation operation (\"self\" here is by convention)\n",
    "    def __init__(self,f,s):\n",
    "        # make f the instance of the .continuous_rv (like filling the slot in R, can be referenced later)\n",
    "        self.continuous_rv = f\n",
    "        # make s the instance of the .discrete_rv (like filling the slot in R, can be referenced later)\n",
    "        self.discrete_rv = s\n",
    "        # complete the inheritance from iid.rv_continuous\n",
    "        super(ConvolvedContinuousAndDiscrete, self).__init__(name=\"ConvolvedContinuousAndDiscrete\")\n",
    "    \n",
    "    # Now change how cdf is defined (deviating from base class)\n",
    "    def _cdf(self,z):\n",
    "        F=0\n",
    "        s = self.discrete_rv\n",
    "        x = self.continuous_rv\n",
    "        \n",
    "        for k in range(len(s.xk)):\n",
    "            F = F + x.cdf(z-s.xk[k])*s.pk[k]\n",
    "        return F\n",
    "\n",
    "    # Now change how pdf is defined (deviating from base class)\n",
    "    def _pdf(self,z):\n",
    "        f=0\n",
    "        s = self.discrete_rv\n",
    "        x = self.continuous_rv\n",
    "        \n",
    "        for k in range(len(s.xk)):\n",
    "            f = f + x.pdf(z-s.xk[k])*s.pk[k]\n",
    "        return f\n",
    "\n",
    "\n",
    "# Create new convolved rv:\n",
    "y = ConvolvedContinuousAndDiscrete(x,s)\n",
    "print(y)"
   ]
  },
  {
   "cell_type": "code",
   "execution_count": 39,
   "metadata": {
    "scrolled": true
   },
   "outputs": [
    {
     "data": {
      "application/vnd.plotly.v1+json": {
       "config": {
        "plotlyServerURL": "https://plot.ly"
       },
       "data": [
        {
         "type": "scatter",
         "x": [
          1,
          2,
          3,
          4
         ],
         "y": [
          0.1111111111111111,
          0.24074074074074073,
          0.31481481481481477,
          0.25925925925925924
         ]
        }
       ],
       "layout": {
        "template": {
         "data": {
          "bar": [
           {
            "error_x": {
             "color": "#2a3f5f"
            },
            "error_y": {
             "color": "#2a3f5f"
            },
            "marker": {
             "line": {
              "color": "#E5ECF6",
              "width": 0.5
             }
            },
            "type": "bar"
           }
          ],
          "barpolar": [
           {
            "marker": {
             "line": {
              "color": "#E5ECF6",
              "width": 0.5
             }
            },
            "type": "barpolar"
           }
          ],
          "carpet": [
           {
            "aaxis": {
             "endlinecolor": "#2a3f5f",
             "gridcolor": "white",
             "linecolor": "white",
             "minorgridcolor": "white",
             "startlinecolor": "#2a3f5f"
            },
            "baxis": {
             "endlinecolor": "#2a3f5f",
             "gridcolor": "white",
             "linecolor": "white",
             "minorgridcolor": "white",
             "startlinecolor": "#2a3f5f"
            },
            "type": "carpet"
           }
          ],
          "choropleth": [
           {
            "colorbar": {
             "outlinewidth": 0,
             "ticks": ""
            },
            "type": "choropleth"
           }
          ],
          "contour": [
           {
            "colorbar": {
             "outlinewidth": 0,
             "ticks": ""
            },
            "colorscale": [
             [
              0,
              "#0d0887"
             ],
             [
              0.1111111111111111,
              "#46039f"
             ],
             [
              0.2222222222222222,
              "#7201a8"
             ],
             [
              0.3333333333333333,
              "#9c179e"
             ],
             [
              0.4444444444444444,
              "#bd3786"
             ],
             [
              0.5555555555555556,
              "#d8576b"
             ],
             [
              0.6666666666666666,
              "#ed7953"
             ],
             [
              0.7777777777777778,
              "#fb9f3a"
             ],
             [
              0.8888888888888888,
              "#fdca26"
             ],
             [
              1,
              "#f0f921"
             ]
            ],
            "type": "contour"
           }
          ],
          "contourcarpet": [
           {
            "colorbar": {
             "outlinewidth": 0,
             "ticks": ""
            },
            "type": "contourcarpet"
           }
          ],
          "heatmap": [
           {
            "colorbar": {
             "outlinewidth": 0,
             "ticks": ""
            },
            "colorscale": [
             [
              0,
              "#0d0887"
             ],
             [
              0.1111111111111111,
              "#46039f"
             ],
             [
              0.2222222222222222,
              "#7201a8"
             ],
             [
              0.3333333333333333,
              "#9c179e"
             ],
             [
              0.4444444444444444,
              "#bd3786"
             ],
             [
              0.5555555555555556,
              "#d8576b"
             ],
             [
              0.6666666666666666,
              "#ed7953"
             ],
             [
              0.7777777777777778,
              "#fb9f3a"
             ],
             [
              0.8888888888888888,
              "#fdca26"
             ],
             [
              1,
              "#f0f921"
             ]
            ],
            "type": "heatmap"
           }
          ],
          "heatmapgl": [
           {
            "colorbar": {
             "outlinewidth": 0,
             "ticks": ""
            },
            "colorscale": [
             [
              0,
              "#0d0887"
             ],
             [
              0.1111111111111111,
              "#46039f"
             ],
             [
              0.2222222222222222,
              "#7201a8"
             ],
             [
              0.3333333333333333,
              "#9c179e"
             ],
             [
              0.4444444444444444,
              "#bd3786"
             ],
             [
              0.5555555555555556,
              "#d8576b"
             ],
             [
              0.6666666666666666,
              "#ed7953"
             ],
             [
              0.7777777777777778,
              "#fb9f3a"
             ],
             [
              0.8888888888888888,
              "#fdca26"
             ],
             [
              1,
              "#f0f921"
             ]
            ],
            "type": "heatmapgl"
           }
          ],
          "histogram": [
           {
            "marker": {
             "colorbar": {
              "outlinewidth": 0,
              "ticks": ""
             }
            },
            "type": "histogram"
           }
          ],
          "histogram2d": [
           {
            "colorbar": {
             "outlinewidth": 0,
             "ticks": ""
            },
            "colorscale": [
             [
              0,
              "#0d0887"
             ],
             [
              0.1111111111111111,
              "#46039f"
             ],
             [
              0.2222222222222222,
              "#7201a8"
             ],
             [
              0.3333333333333333,
              "#9c179e"
             ],
             [
              0.4444444444444444,
              "#bd3786"
             ],
             [
              0.5555555555555556,
              "#d8576b"
             ],
             [
              0.6666666666666666,
              "#ed7953"
             ],
             [
              0.7777777777777778,
              "#fb9f3a"
             ],
             [
              0.8888888888888888,
              "#fdca26"
             ],
             [
              1,
              "#f0f921"
             ]
            ],
            "type": "histogram2d"
           }
          ],
          "histogram2dcontour": [
           {
            "colorbar": {
             "outlinewidth": 0,
             "ticks": ""
            },
            "colorscale": [
             [
              0,
              "#0d0887"
             ],
             [
              0.1111111111111111,
              "#46039f"
             ],
             [
              0.2222222222222222,
              "#7201a8"
             ],
             [
              0.3333333333333333,
              "#9c179e"
             ],
             [
              0.4444444444444444,
              "#bd3786"
             ],
             [
              0.5555555555555556,
              "#d8576b"
             ],
             [
              0.6666666666666666,
              "#ed7953"
             ],
             [
              0.7777777777777778,
              "#fb9f3a"
             ],
             [
              0.8888888888888888,
              "#fdca26"
             ],
             [
              1,
              "#f0f921"
             ]
            ],
            "type": "histogram2dcontour"
           }
          ],
          "mesh3d": [
           {
            "colorbar": {
             "outlinewidth": 0,
             "ticks": ""
            },
            "type": "mesh3d"
           }
          ],
          "parcoords": [
           {
            "line": {
             "colorbar": {
              "outlinewidth": 0,
              "ticks": ""
             }
            },
            "type": "parcoords"
           }
          ],
          "scatter": [
           {
            "marker": {
             "colorbar": {
              "outlinewidth": 0,
              "ticks": ""
             }
            },
            "type": "scatter"
           }
          ],
          "scatter3d": [
           {
            "line": {
             "colorbar": {
              "outlinewidth": 0,
              "ticks": ""
             }
            },
            "marker": {
             "colorbar": {
              "outlinewidth": 0,
              "ticks": ""
             }
            },
            "type": "scatter3d"
           }
          ],
          "scattercarpet": [
           {
            "marker": {
             "colorbar": {
              "outlinewidth": 0,
              "ticks": ""
             }
            },
            "type": "scattercarpet"
           }
          ],
          "scattergeo": [
           {
            "marker": {
             "colorbar": {
              "outlinewidth": 0,
              "ticks": ""
             }
            },
            "type": "scattergeo"
           }
          ],
          "scattergl": [
           {
            "marker": {
             "colorbar": {
              "outlinewidth": 0,
              "ticks": ""
             }
            },
            "type": "scattergl"
           }
          ],
          "scattermapbox": [
           {
            "marker": {
             "colorbar": {
              "outlinewidth": 0,
              "ticks": ""
             }
            },
            "type": "scattermapbox"
           }
          ],
          "scatterpolar": [
           {
            "marker": {
             "colorbar": {
              "outlinewidth": 0,
              "ticks": ""
             }
            },
            "type": "scatterpolar"
           }
          ],
          "scatterpolargl": [
           {
            "marker": {
             "colorbar": {
              "outlinewidth": 0,
              "ticks": ""
             }
            },
            "type": "scatterpolargl"
           }
          ],
          "scatterternary": [
           {
            "marker": {
             "colorbar": {
              "outlinewidth": 0,
              "ticks": ""
             }
            },
            "type": "scatterternary"
           }
          ],
          "surface": [
           {
            "colorbar": {
             "outlinewidth": 0,
             "ticks": ""
            },
            "colorscale": [
             [
              0,
              "#0d0887"
             ],
             [
              0.1111111111111111,
              "#46039f"
             ],
             [
              0.2222222222222222,
              "#7201a8"
             ],
             [
              0.3333333333333333,
              "#9c179e"
             ],
             [
              0.4444444444444444,
              "#bd3786"
             ],
             [
              0.5555555555555556,
              "#d8576b"
             ],
             [
              0.6666666666666666,
              "#ed7953"
             ],
             [
              0.7777777777777778,
              "#fb9f3a"
             ],
             [
              0.8888888888888888,
              "#fdca26"
             ],
             [
              1,
              "#f0f921"
             ]
            ],
            "type": "surface"
           }
          ],
          "table": [
           {
            "cells": {
             "fill": {
              "color": "#EBF0F8"
             },
             "line": {
              "color": "white"
             }
            },
            "header": {
             "fill": {
              "color": "#C8D4E3"
             },
             "line": {
              "color": "white"
             }
            },
            "type": "table"
           }
          ]
         },
         "layout": {
          "annotationdefaults": {
           "arrowcolor": "#2a3f5f",
           "arrowhead": 0,
           "arrowwidth": 1
          },
          "colorscale": {
           "diverging": [
            [
             0,
             "#8e0152"
            ],
            [
             0.1,
             "#c51b7d"
            ],
            [
             0.2,
             "#de77ae"
            ],
            [
             0.3,
             "#f1b6da"
            ],
            [
             0.4,
             "#fde0ef"
            ],
            [
             0.5,
             "#f7f7f7"
            ],
            [
             0.6,
             "#e6f5d0"
            ],
            [
             0.7,
             "#b8e186"
            ],
            [
             0.8,
             "#7fbc41"
            ],
            [
             0.9,
             "#4d9221"
            ],
            [
             1,
             "#276419"
            ]
           ],
           "sequential": [
            [
             0,
             "#0d0887"
            ],
            [
             0.1111111111111111,
             "#46039f"
            ],
            [
             0.2222222222222222,
             "#7201a8"
            ],
            [
             0.3333333333333333,
             "#9c179e"
            ],
            [
             0.4444444444444444,
             "#bd3786"
            ],
            [
             0.5555555555555556,
             "#d8576b"
            ],
            [
             0.6666666666666666,
             "#ed7953"
            ],
            [
             0.7777777777777778,
             "#fb9f3a"
            ],
            [
             0.8888888888888888,
             "#fdca26"
            ],
            [
             1,
             "#f0f921"
            ]
           ],
           "sequentialminus": [
            [
             0,
             "#0d0887"
            ],
            [
             0.1111111111111111,
             "#46039f"
            ],
            [
             0.2222222222222222,
             "#7201a8"
            ],
            [
             0.3333333333333333,
             "#9c179e"
            ],
            [
             0.4444444444444444,
             "#bd3786"
            ],
            [
             0.5555555555555556,
             "#d8576b"
            ],
            [
             0.6666666666666666,
             "#ed7953"
            ],
            [
             0.7777777777777778,
             "#fb9f3a"
            ],
            [
             0.8888888888888888,
             "#fdca26"
            ],
            [
             1,
             "#f0f921"
            ]
           ]
          },
          "colorway": [
           "#636efa",
           "#EF553B",
           "#00cc96",
           "#ab63fa",
           "#FFA15A",
           "#19d3f3",
           "#FF6692",
           "#B6E880",
           "#FF97FF",
           "#FECB52"
          ],
          "font": {
           "color": "#2a3f5f"
          },
          "geo": {
           "bgcolor": "white",
           "lakecolor": "white",
           "landcolor": "#E5ECF6",
           "showlakes": true,
           "showland": true,
           "subunitcolor": "white"
          },
          "hoverlabel": {
           "align": "left"
          },
          "hovermode": "closest",
          "mapbox": {
           "style": "light"
          },
          "paper_bgcolor": "white",
          "plot_bgcolor": "#E5ECF6",
          "polar": {
           "angularaxis": {
            "gridcolor": "white",
            "linecolor": "white",
            "ticks": ""
           },
           "bgcolor": "#E5ECF6",
           "radialaxis": {
            "gridcolor": "white",
            "linecolor": "white",
            "ticks": ""
           }
          },
          "scene": {
           "xaxis": {
            "backgroundcolor": "#E5ECF6",
            "gridcolor": "white",
            "gridwidth": 2,
            "linecolor": "white",
            "showbackground": true,
            "ticks": "",
            "zerolinecolor": "white"
           },
           "yaxis": {
            "backgroundcolor": "#E5ECF6",
            "gridcolor": "white",
            "gridwidth": 2,
            "linecolor": "white",
            "showbackground": true,
            "ticks": "",
            "zerolinecolor": "white"
           },
           "zaxis": {
            "backgroundcolor": "#E5ECF6",
            "gridcolor": "white",
            "gridwidth": 2,
            "linecolor": "white",
            "showbackground": true,
            "ticks": "",
            "zerolinecolor": "white"
           }
          },
          "shapedefaults": {
           "line": {
            "color": "#2a3f5f"
           }
          },
          "ternary": {
           "aaxis": {
            "gridcolor": "white",
            "linecolor": "white",
            "ticks": ""
           },
           "baxis": {
            "gridcolor": "white",
            "linecolor": "white",
            "ticks": ""
           },
           "bgcolor": "#E5ECF6",
           "caxis": {
            "gridcolor": "white",
            "linecolor": "white",
            "ticks": ""
           }
          },
          "title": {
           "x": 0.05
          },
          "xaxis": {
           "automargin": true,
           "gridcolor": "white",
           "linecolor": "white",
           "ticks": "",
           "zerolinecolor": "white",
           "zerolinewidth": 2
          },
          "yaxis": {
           "automargin": true,
           "gridcolor": "white",
           "linecolor": "white",
           "ticks": "",
           "zerolinecolor": "white",
           "zerolinewidth": 2
          }
         }
        }
       }
      },
      "text/html": [
       "<div>\n",
       "        \n",
       "        \n",
       "            <div id=\"f6a46b75-f68a-4fa3-80e8-b4c87b1d24e4\" class=\"plotly-graph-div\" style=\"height:525px; width:100%;\"></div>\n",
       "            <script type=\"text/javascript\">\n",
       "                require([\"plotly\"], function(Plotly) {\n",
       "                    window.PLOTLYENV=window.PLOTLYENV || {};\n",
       "                    \n",
       "                if (document.getElementById(\"f6a46b75-f68a-4fa3-80e8-b4c87b1d24e4\")) {\n",
       "                    Plotly.newPlot(\n",
       "                        'f6a46b75-f68a-4fa3-80e8-b4c87b1d24e4',\n",
       "                        [{\"type\": \"scatter\", \"x\": [1, 2, 3, 4], \"y\": [0.1111111111111111, 0.24074074074074073, 0.31481481481481477, 0.25925925925925924]}],\n",
       "                        {\"template\": {\"data\": {\"bar\": [{\"error_x\": {\"color\": \"#2a3f5f\"}, \"error_y\": {\"color\": \"#2a3f5f\"}, \"marker\": {\"line\": {\"color\": \"#E5ECF6\", \"width\": 0.5}}, \"type\": \"bar\"}], \"barpolar\": [{\"marker\": {\"line\": {\"color\": \"#E5ECF6\", \"width\": 0.5}}, \"type\": \"barpolar\"}], \"carpet\": [{\"aaxis\": {\"endlinecolor\": \"#2a3f5f\", \"gridcolor\": \"white\", \"linecolor\": \"white\", \"minorgridcolor\": \"white\", \"startlinecolor\": \"#2a3f5f\"}, \"baxis\": {\"endlinecolor\": \"#2a3f5f\", \"gridcolor\": \"white\", \"linecolor\": \"white\", \"minorgridcolor\": \"white\", \"startlinecolor\": \"#2a3f5f\"}, \"type\": \"carpet\"}], \"choropleth\": [{\"colorbar\": {\"outlinewidth\": 0, \"ticks\": \"\"}, \"type\": \"choropleth\"}], \"contour\": [{\"colorbar\": {\"outlinewidth\": 0, \"ticks\": \"\"}, \"colorscale\": [[0.0, \"#0d0887\"], [0.1111111111111111, \"#46039f\"], [0.2222222222222222, \"#7201a8\"], [0.3333333333333333, \"#9c179e\"], [0.4444444444444444, \"#bd3786\"], [0.5555555555555556, \"#d8576b\"], [0.6666666666666666, \"#ed7953\"], [0.7777777777777778, \"#fb9f3a\"], [0.8888888888888888, \"#fdca26\"], [1.0, \"#f0f921\"]], \"type\": \"contour\"}], \"contourcarpet\": [{\"colorbar\": {\"outlinewidth\": 0, \"ticks\": \"\"}, \"type\": \"contourcarpet\"}], \"heatmap\": [{\"colorbar\": {\"outlinewidth\": 0, \"ticks\": \"\"}, \"colorscale\": [[0.0, \"#0d0887\"], [0.1111111111111111, \"#46039f\"], [0.2222222222222222, \"#7201a8\"], [0.3333333333333333, \"#9c179e\"], [0.4444444444444444, \"#bd3786\"], [0.5555555555555556, \"#d8576b\"], [0.6666666666666666, \"#ed7953\"], [0.7777777777777778, \"#fb9f3a\"], [0.8888888888888888, \"#fdca26\"], [1.0, \"#f0f921\"]], \"type\": \"heatmap\"}], \"heatmapgl\": [{\"colorbar\": {\"outlinewidth\": 0, \"ticks\": \"\"}, \"colorscale\": [[0.0, \"#0d0887\"], [0.1111111111111111, \"#46039f\"], [0.2222222222222222, \"#7201a8\"], [0.3333333333333333, \"#9c179e\"], [0.4444444444444444, \"#bd3786\"], [0.5555555555555556, \"#d8576b\"], [0.6666666666666666, \"#ed7953\"], [0.7777777777777778, \"#fb9f3a\"], [0.8888888888888888, \"#fdca26\"], [1.0, \"#f0f921\"]], \"type\": \"heatmapgl\"}], \"histogram\": [{\"marker\": {\"colorbar\": {\"outlinewidth\": 0, \"ticks\": \"\"}}, \"type\": \"histogram\"}], \"histogram2d\": [{\"colorbar\": {\"outlinewidth\": 0, \"ticks\": \"\"}, \"colorscale\": [[0.0, \"#0d0887\"], [0.1111111111111111, \"#46039f\"], [0.2222222222222222, \"#7201a8\"], [0.3333333333333333, \"#9c179e\"], [0.4444444444444444, \"#bd3786\"], [0.5555555555555556, \"#d8576b\"], [0.6666666666666666, \"#ed7953\"], [0.7777777777777778, \"#fb9f3a\"], [0.8888888888888888, \"#fdca26\"], [1.0, \"#f0f921\"]], \"type\": \"histogram2d\"}], \"histogram2dcontour\": [{\"colorbar\": {\"outlinewidth\": 0, \"ticks\": \"\"}, \"colorscale\": [[0.0, \"#0d0887\"], [0.1111111111111111, \"#46039f\"], [0.2222222222222222, \"#7201a8\"], [0.3333333333333333, \"#9c179e\"], [0.4444444444444444, \"#bd3786\"], [0.5555555555555556, \"#d8576b\"], [0.6666666666666666, \"#ed7953\"], [0.7777777777777778, \"#fb9f3a\"], [0.8888888888888888, \"#fdca26\"], [1.0, \"#f0f921\"]], \"type\": \"histogram2dcontour\"}], \"mesh3d\": [{\"colorbar\": {\"outlinewidth\": 0, \"ticks\": \"\"}, \"type\": \"mesh3d\"}], \"parcoords\": [{\"line\": {\"colorbar\": {\"outlinewidth\": 0, \"ticks\": \"\"}}, \"type\": \"parcoords\"}], \"scatter\": [{\"marker\": {\"colorbar\": {\"outlinewidth\": 0, \"ticks\": \"\"}}, \"type\": \"scatter\"}], \"scatter3d\": [{\"line\": {\"colorbar\": {\"outlinewidth\": 0, \"ticks\": \"\"}}, \"marker\": {\"colorbar\": {\"outlinewidth\": 0, \"ticks\": \"\"}}, \"type\": \"scatter3d\"}], \"scattercarpet\": [{\"marker\": {\"colorbar\": {\"outlinewidth\": 0, \"ticks\": \"\"}}, \"type\": \"scattercarpet\"}], \"scattergeo\": [{\"marker\": {\"colorbar\": {\"outlinewidth\": 0, \"ticks\": \"\"}}, \"type\": \"scattergeo\"}], \"scattergl\": [{\"marker\": {\"colorbar\": {\"outlinewidth\": 0, \"ticks\": \"\"}}, \"type\": \"scattergl\"}], \"scattermapbox\": [{\"marker\": {\"colorbar\": {\"outlinewidth\": 0, \"ticks\": \"\"}}, \"type\": \"scattermapbox\"}], \"scatterpolar\": [{\"marker\": {\"colorbar\": {\"outlinewidth\": 0, \"ticks\": \"\"}}, \"type\": \"scatterpolar\"}], \"scatterpolargl\": [{\"marker\": {\"colorbar\": {\"outlinewidth\": 0, \"ticks\": \"\"}}, \"type\": \"scatterpolargl\"}], \"scatterternary\": [{\"marker\": {\"colorbar\": {\"outlinewidth\": 0, \"ticks\": \"\"}}, \"type\": \"scatterternary\"}], \"surface\": [{\"colorbar\": {\"outlinewidth\": 0, \"ticks\": \"\"}, \"colorscale\": [[0.0, \"#0d0887\"], [0.1111111111111111, \"#46039f\"], [0.2222222222222222, \"#7201a8\"], [0.3333333333333333, \"#9c179e\"], [0.4444444444444444, \"#bd3786\"], [0.5555555555555556, \"#d8576b\"], [0.6666666666666666, \"#ed7953\"], [0.7777777777777778, \"#fb9f3a\"], [0.8888888888888888, \"#fdca26\"], [1.0, \"#f0f921\"]], \"type\": \"surface\"}], \"table\": [{\"cells\": {\"fill\": {\"color\": \"#EBF0F8\"}, \"line\": {\"color\": \"white\"}}, \"header\": {\"fill\": {\"color\": \"#C8D4E3\"}, \"line\": {\"color\": \"white\"}}, \"type\": \"table\"}]}, \"layout\": {\"annotationdefaults\": {\"arrowcolor\": \"#2a3f5f\", \"arrowhead\": 0, \"arrowwidth\": 1}, \"colorscale\": {\"diverging\": [[0, \"#8e0152\"], [0.1, \"#c51b7d\"], [0.2, \"#de77ae\"], [0.3, \"#f1b6da\"], [0.4, \"#fde0ef\"], [0.5, \"#f7f7f7\"], [0.6, \"#e6f5d0\"], [0.7, \"#b8e186\"], [0.8, \"#7fbc41\"], [0.9, \"#4d9221\"], [1, \"#276419\"]], \"sequential\": [[0.0, \"#0d0887\"], [0.1111111111111111, \"#46039f\"], [0.2222222222222222, \"#7201a8\"], [0.3333333333333333, \"#9c179e\"], [0.4444444444444444, \"#bd3786\"], [0.5555555555555556, \"#d8576b\"], [0.6666666666666666, \"#ed7953\"], [0.7777777777777778, \"#fb9f3a\"], [0.8888888888888888, \"#fdca26\"], [1.0, \"#f0f921\"]], \"sequentialminus\": [[0.0, \"#0d0887\"], [0.1111111111111111, \"#46039f\"], [0.2222222222222222, \"#7201a8\"], [0.3333333333333333, \"#9c179e\"], [0.4444444444444444, \"#bd3786\"], [0.5555555555555556, \"#d8576b\"], [0.6666666666666666, \"#ed7953\"], [0.7777777777777778, \"#fb9f3a\"], [0.8888888888888888, \"#fdca26\"], [1.0, \"#f0f921\"]]}, \"colorway\": [\"#636efa\", \"#EF553B\", \"#00cc96\", \"#ab63fa\", \"#FFA15A\", \"#19d3f3\", \"#FF6692\", \"#B6E880\", \"#FF97FF\", \"#FECB52\"], \"font\": {\"color\": \"#2a3f5f\"}, \"geo\": {\"bgcolor\": \"white\", \"lakecolor\": \"white\", \"landcolor\": \"#E5ECF6\", \"showlakes\": true, \"showland\": true, \"subunitcolor\": \"white\"}, \"hoverlabel\": {\"align\": \"left\"}, \"hovermode\": \"closest\", \"mapbox\": {\"style\": \"light\"}, \"paper_bgcolor\": \"white\", \"plot_bgcolor\": \"#E5ECF6\", \"polar\": {\"angularaxis\": {\"gridcolor\": \"white\", \"linecolor\": \"white\", \"ticks\": \"\"}, \"bgcolor\": \"#E5ECF6\", \"radialaxis\": {\"gridcolor\": \"white\", \"linecolor\": \"white\", \"ticks\": \"\"}}, \"scene\": {\"xaxis\": {\"backgroundcolor\": \"#E5ECF6\", \"gridcolor\": \"white\", \"gridwidth\": 2, \"linecolor\": \"white\", \"showbackground\": true, \"ticks\": \"\", \"zerolinecolor\": \"white\"}, \"yaxis\": {\"backgroundcolor\": \"#E5ECF6\", \"gridcolor\": \"white\", \"gridwidth\": 2, \"linecolor\": \"white\", \"showbackground\": true, \"ticks\": \"\", \"zerolinecolor\": \"white\"}, \"zaxis\": {\"backgroundcolor\": \"#E5ECF6\", \"gridcolor\": \"white\", \"gridwidth\": 2, \"linecolor\": \"white\", \"showbackground\": true, \"ticks\": \"\", \"zerolinecolor\": \"white\"}}, \"shapedefaults\": {\"line\": {\"color\": \"#2a3f5f\"}}, \"ternary\": {\"aaxis\": {\"gridcolor\": \"white\", \"linecolor\": \"white\", \"ticks\": \"\"}, \"baxis\": {\"gridcolor\": \"white\", \"linecolor\": \"white\", \"ticks\": \"\"}, \"bgcolor\": \"#E5ECF6\", \"caxis\": {\"gridcolor\": \"white\", \"linecolor\": \"white\", \"ticks\": \"\"}}, \"title\": {\"x\": 0.05}, \"xaxis\": {\"automargin\": true, \"gridcolor\": \"white\", \"linecolor\": \"white\", \"ticks\": \"\", \"zerolinecolor\": \"white\", \"zerolinewidth\": 2}, \"yaxis\": {\"automargin\": true, \"gridcolor\": \"white\", \"linecolor\": \"white\", \"ticks\": \"\", \"zerolinecolor\": \"white\", \"zerolinewidth\": 2}}}},\n",
       "                        {\"responsive\": true}\n",
       "                    ).then(function(){\n",
       "                            \n",
       "var gd = document.getElementById('f6a46b75-f68a-4fa3-80e8-b4c87b1d24e4');\n",
       "var x = new MutationObserver(function (mutations, observer) {{\n",
       "        var display = window.getComputedStyle(gd).display;\n",
       "        if (!display || display === 'none') {{\n",
       "            console.log([gd, 'removed!']);\n",
       "            Plotly.purge(gd);\n",
       "            observer.disconnect();\n",
       "        }}\n",
       "}});\n",
       "\n",
       "// Listen for the removal of the full notebook cells\n",
       "var notebookContainer = gd.closest('#notebook-container');\n",
       "if (notebookContainer) {{\n",
       "    x.observe(notebookContainer, {childList: true});\n",
       "}}\n",
       "\n",
       "// Listen for the clearing of the current output cell\n",
       "var outputEl = gd.closest('.output');\n",
       "if (outputEl) {{\n",
       "    x.observe(outputEl, {childList: true});\n",
       "}}\n",
       "\n",
       "                        })\n",
       "                };\n",
       "                });\n",
       "            </script>\n",
       "        </div>"
      ]
     },
     "metadata": {},
     "output_type": "display_data"
    }
   ],
   "source": [
    "# 3.9. ORIGINAL CODE\n",
    "\n",
    "import plotly.graph_objects as go\n",
    "import numpy as np\n",
    "\n",
    "X = np.linspace(-4,4,100).tolist()\n",
    "\n",
    "# fig = go.Figure(data=go.Scatter(x=X, y=[y.pdf(z) for z in X]))\n",
    "fig.show()\n"
   ]
  },
  {
   "cell_type": "markdown",
   "metadata": {},
   "source": [
    "#### Exercise\n",
    "\n"
   ]
  },
  {
   "cell_type": "markdown",
   "metadata": {},
   "source": [
    "Prove that $\\rvy$ is continuous (in the sense that it has a density),\n",
    "     as suggested by the figure *or* establish that the figure is\n",
    "     wrong or misleading.\n",
    "\n"
   ]
  },
  {
   "cell_type": "markdown",
   "metadata": {},
   "source": [
    "#### Proof\n",
    "\n"
   ]
  },
  {
   "cell_type": "markdown",
   "metadata": {},
   "source": [
    "Let $F_x$ denote the cdf of \\rvx.  We want to establish that the cdf\n",
    "of $\\rvy$, say $F_y(y)=\\Pr(\\rvy\\leq y)$ is a continuously differentiable\n",
    "function of $y$.  We use the fact that the distribution of $\\rvy$ is a\n",
    "convolution of $\\rvx$ and $\\rvs$, so that\n",
    "\n",
    "\\begin{equation} \n",
    "\\begin{split}\n",
    "    \\Pr(\\rvy\\leq y) &= \\Pr(\\rv{s} + \\rv{x}\\leq y ) \\\\\n",
    "                    &= \\sum_{s\\in\\Omega}\\Pr(\\rvx\\leq y-s|s)\\pi_s\\\\\n",
    "                    &= \\sum_{s\\in\\Omega}F_x(y-s)\\pi_s,\n",
    "\\end{split}\n",
    "\\end{equation}\n",
    "\n",
    "which is continuously differentiable in $y$, as required.\n",
    "\n"
   ]
  },
  {
   "cell_type": "markdown",
   "metadata": {},
   "source": [
    "### 4. [wright34](https://datahub.berkeley.edu/user/benjaminkrause/notebooks/ARE212_Materials/wright34.ipynb)"
   ]
  },
  {
   "cell_type": "markdown",
   "metadata": {},
   "source": [
    "or see [wright34 on github](https://github.com/ligonteaching/ARE212_Materials/blob/master/wright34.ipynb)"
   ]
  },
  {
   "cell_type": "markdown",
   "metadata": {},
   "source": [
    "### Quantities & Prices\n",
    "\n"
   ]
  },
  {
   "cell_type": "markdown",
   "metadata": {},
   "source": [
    "Suppose for some good we observe data on total quantity $q$ exchanged\n",
    "between buyers & sellers, and the prices $p$ at which these exchanges\n",
    "took place.  \n",
    "\n",
    "The following code creates a data generating process for $(q,p)$ based\n",
    "on Goldberger (1972), who in turn is describing the work of Sewall\n",
    "Wright (1934).  The demand-supply system is\n",
    "$$\n",
    "   q_D = \\alpha p + u\\qquad q_S = \\beta p + v\\qquad q_D = q_S,\n",
    "$$\n",
    "where $(u,v)$ are unobserved shocks to demand and supply,\n",
    "respectively. \n",
    "\n"
   ]
  },
  {
   "cell_type": "code",
   "execution_count": 40,
   "metadata": {},
   "outputs": [],
   "source": [
    "# 4.1 ORIGINAL CODE\n",
    "\n",
    "import numpy as np\n",
    "import pandas as pd\n",
    "from scipy.stats import distributions as iid\n",
    "\n",
    "# Structural parameters;\n",
    "(α,β) = (-1,2)     \n",
    "σ = {'u':1/2,'v':1/3}\n",
    "μ = {'u':2,'v':-1}\n",
    "\n",
    "# u,v assumed independent\n",
    "u = iid.norm(loc=μ['u'], scale=σ['u'])  # Demand shocks\n",
    "v = iid.norm(loc=μ['v'], scale=σ['v'])  # Supply shocks\n",
    "\n",
    "# Reduced form coefficients\n",
    "π = [[-β/(α - β), -1/(α - β)],\n",
    "     [ α/(α - β), 1/(α - β)]]\n",
    "\n",
    "# Generate N realizations of system\n",
    "# Outcomes Y have columns (q,p)\n",
    "N = 10\n",
    "\n",
    "# Arrange shocks into an Nx2 matrix\n",
    "U = np.c_[u.rvs(N), v.rvs(N)]\n",
    "\n",
    "# Matrix prboduct gives [q,p]; label by putting into df\n",
    "df = pd.DataFrame(U@π,columns=['q','p'])\n",
    "Udf = pd.DataFrame(U,columns=['u','v']) # For future reference"
   ]
  },
  {
   "cell_type": "code",
   "execution_count": 41,
   "metadata": {},
   "outputs": [
    {
     "name": "stdout",
     "output_type": "stream",
     "text": [
      "α,β) =  -1 2\n",
      "σ:v = 0.3333333333333333\n",
      "μ:u = 2\n",
      "U = [[ 1.36797367 -0.47392482]\n",
      " [ 2.76395268 -0.96416735]\n",
      " [ 1.51464453 -1.25468261]\n",
      " [ 2.23527981 -1.25839617]\n",
      " [ 1.94965164 -0.53871761]\n",
      " [ 2.15189659 -0.74653831]\n",
      " [ 1.13701879 -1.09521517]\n",
      " [ 2.79254768 -0.82054417]\n",
      " [ 2.0671483  -1.69463221]\n",
      " [ 1.44657227 -0.6874061 ]]\n",
      "          u         v\n",
      "0  1.367974 -0.473925\n",
      "1  2.763953 -0.964167\n",
      "2  1.514645 -1.254683\n",
      "3  2.235280 -1.258396\n",
      "4  1.949652 -0.538718\n",
      "5  2.151897 -0.746538\n",
      "6  1.137019 -1.095215\n",
      "7  2.792548 -0.820544\n",
      "8  2.067148 -1.694632\n",
      "9  1.446572 -0.687406\n"
     ]
    }
   ],
   "source": [
    "# 4.1 CODE ABOVE WITH COMMENTS AND PRINTING\n",
    "\n",
    "# Import the necessary modules (R::library())\n",
    "import numpy as np\n",
    "import pandas as pd\n",
    "from scipy.stats import distributions as iid\n",
    "\n",
    "# Structural parameters;\n",
    "(α,β) = (-1,2)     \n",
    "print(\"α,β) = \", α, β)\n",
    "\n",
    "σ = {'u':1/2,'v':1/3}\n",
    "print(\"σ:v =\", σ['v'])\n",
    "\n",
    "μ = {'u':2,'v':-1}\n",
    "print(\"μ:u =\", μ['u'])\n",
    "\n",
    "# Set seed\n",
    "np.random.seed( 30 )\n",
    "\n",
    "# u,v assumed independent\n",
    "u = iid.norm(loc=μ['u'], scale=σ['u'])  # Demand shocks\n",
    "v = iid.norm(loc=μ['v'], scale=σ['v'])  # Supply shocks\n",
    "\n",
    "# Reduced form coefficients\n",
    "π = [[-β/(α - β), -1/(α - β)],\n",
    "     [ α/(α - β), 1/(α - β)]]\n",
    "\n",
    "# Generate N realizations of system\n",
    "# Outcomes Y have columns (q,p)\n",
    "N = 10\n",
    "\n",
    "# Arrange shocks into an Nx2 matrix\n",
    "U = np.c_[u.rvs(N), v.rvs(N)]\n",
    "print(\"U =\", U)\n",
    "\n",
    "# Matrix product gives [q,p]; label by putting into df\n",
    "df = pd.DataFrame(U@π,columns=['q','p'])\n",
    "\n",
    "Udf = pd.DataFrame(U,columns=['u','v']) # For future reference\n",
    "print(Udf)"
   ]
  },
  {
   "cell_type": "markdown",
   "metadata": {},
   "source": [
    "We can interrogate these data:\n",
    "\n"
   ]
  },
  {
   "cell_type": "code",
   "execution_count": 42,
   "metadata": {},
   "outputs": [
    {
     "data": {
      "text/html": [
       "<div>\n",
       "<style scoped>\n",
       "    .dataframe tbody tr th:only-of-type {\n",
       "        vertical-align: middle;\n",
       "    }\n",
       "\n",
       "    .dataframe tbody tr th {\n",
       "        vertical-align: top;\n",
       "    }\n",
       "\n",
       "    .dataframe thead th {\n",
       "        text-align: right;\n",
       "    }\n",
       "</style>\n",
       "<table border=\"1\" class=\"dataframe\">\n",
       "  <thead>\n",
       "    <tr style=\"text-align: right;\">\n",
       "      <th></th>\n",
       "      <th>q</th>\n",
       "      <th>p</th>\n",
       "    </tr>\n",
       "  </thead>\n",
       "  <tbody>\n",
       "    <tr>\n",
       "      <th>0</th>\n",
       "      <td>0.754008</td>\n",
       "      <td>0.613966</td>\n",
       "    </tr>\n",
       "    <tr>\n",
       "      <th>1</th>\n",
       "      <td>1.521246</td>\n",
       "      <td>1.242707</td>\n",
       "    </tr>\n",
       "    <tr>\n",
       "      <th>2</th>\n",
       "      <td>0.591535</td>\n",
       "      <td>0.923109</td>\n",
       "    </tr>\n",
       "    <tr>\n",
       "      <th>3</th>\n",
       "      <td>1.070721</td>\n",
       "      <td>1.164559</td>\n",
       "    </tr>\n",
       "    <tr>\n",
       "      <th>4</th>\n",
       "      <td>1.120195</td>\n",
       "      <td>0.829456</td>\n",
       "    </tr>\n",
       "    <tr>\n",
       "      <th>5</th>\n",
       "      <td>1.185752</td>\n",
       "      <td>0.966145</td>\n",
       "    </tr>\n",
       "    <tr>\n",
       "      <th>6</th>\n",
       "      <td>0.392941</td>\n",
       "      <td>0.744078</td>\n",
       "    </tr>\n",
       "    <tr>\n",
       "      <th>7</th>\n",
       "      <td>1.588184</td>\n",
       "      <td>1.204364</td>\n",
       "    </tr>\n",
       "    <tr>\n",
       "      <th>8</th>\n",
       "      <td>0.813221</td>\n",
       "      <td>1.253927</td>\n",
       "    </tr>\n",
       "    <tr>\n",
       "      <th>9</th>\n",
       "      <td>0.735246</td>\n",
       "      <td>0.711326</td>\n",
       "    </tr>\n",
       "  </tbody>\n",
       "</table>\n",
       "</div>"
      ],
      "text/plain": [
       "          q         p\n",
       "0  0.754008  0.613966\n",
       "1  1.521246  1.242707\n",
       "2  0.591535  0.923109\n",
       "3  1.070721  1.164559\n",
       "4  1.120195  0.829456\n",
       "5  1.185752  0.966145\n",
       "6  0.392941  0.744078\n",
       "7  1.588184  1.204364\n",
       "8  0.813221  1.253927\n",
       "9  0.735246  0.711326"
      ]
     },
     "execution_count": 42,
     "metadata": {},
     "output_type": "execute_result"
    }
   ],
   "source": [
    "# 4.2 ORIGINAL CODE\n",
    "df"
   ]
  },
  {
   "cell_type": "markdown",
   "metadata": {},
   "source": [
    "And compute the linear correlation&#x2026;\n",
    "\n"
   ]
  },
  {
   "cell_type": "code",
   "execution_count": 43,
   "metadata": {},
   "outputs": [
    {
     "data": {
      "text/html": [
       "<div>\n",
       "<style scoped>\n",
       "    .dataframe tbody tr th:only-of-type {\n",
       "        vertical-align: middle;\n",
       "    }\n",
       "\n",
       "    .dataframe tbody tr th {\n",
       "        vertical-align: top;\n",
       "    }\n",
       "\n",
       "    .dataframe thead th {\n",
       "        text-align: right;\n",
       "    }\n",
       "</style>\n",
       "<table border=\"1\" class=\"dataframe\">\n",
       "  <thead>\n",
       "    <tr style=\"text-align: right;\">\n",
       "      <th></th>\n",
       "      <th>q</th>\n",
       "      <th>p</th>\n",
       "    </tr>\n",
       "  </thead>\n",
       "  <tbody>\n",
       "    <tr>\n",
       "      <th>q</th>\n",
       "      <td>1.000000</td>\n",
       "      <td>0.637353</td>\n",
       "    </tr>\n",
       "    <tr>\n",
       "      <th>p</th>\n",
       "      <td>0.637353</td>\n",
       "      <td>1.000000</td>\n",
       "    </tr>\n",
       "  </tbody>\n",
       "</table>\n",
       "</div>"
      ],
      "text/plain": [
       "          q         p\n",
       "q  1.000000  0.637353\n",
       "p  0.637353  1.000000"
      ]
     },
     "execution_count": 43,
     "metadata": {},
     "output_type": "execute_result"
    }
   ],
   "source": [
    "# 4.3 ORIGINAL CODE\n",
    "df.corr()"
   ]
  },
  {
   "cell_type": "markdown",
   "metadata": {},
   "source": [
    "Or more generally the covariance matrix:\n",
    "\n"
   ]
  },
  {
   "cell_type": "code",
   "execution_count": 44,
   "metadata": {},
   "outputs": [
    {
     "data": {
      "text/html": [
       "<div>\n",
       "<style scoped>\n",
       "    .dataframe tbody tr th:only-of-type {\n",
       "        vertical-align: middle;\n",
       "    }\n",
       "\n",
       "    .dataframe tbody tr th {\n",
       "        vertical-align: top;\n",
       "    }\n",
       "\n",
       "    .dataframe thead th {\n",
       "        text-align: right;\n",
       "    }\n",
       "</style>\n",
       "<table border=\"1\" class=\"dataframe\">\n",
       "  <thead>\n",
       "    <tr style=\"text-align: right;\">\n",
       "      <th></th>\n",
       "      <th>q</th>\n",
       "      <th>p</th>\n",
       "    </tr>\n",
       "  </thead>\n",
       "  <tbody>\n",
       "    <tr>\n",
       "      <th>q</th>\n",
       "      <td>0.151924</td>\n",
       "      <td>0.059381</td>\n",
       "    </tr>\n",
       "    <tr>\n",
       "      <th>p</th>\n",
       "      <td>0.059381</td>\n",
       "      <td>0.057136</td>\n",
       "    </tr>\n",
       "  </tbody>\n",
       "</table>\n",
       "</div>"
      ],
      "text/plain": [
       "          q         p\n",
       "q  0.151924  0.059381\n",
       "p  0.059381  0.057136"
      ]
     },
     "execution_count": 44,
     "metadata": {},
     "output_type": "execute_result"
    }
   ],
   "source": [
    "# 4.4 ORIGINAL CODE\n",
    "C=df.cov()\n",
    "C"
   ]
  },
  {
   "cell_type": "markdown",
   "metadata": {},
   "source": [
    "From which we can calculate the linear regression coefficient\n",
    "of $p = a + bq + e$:\n",
    "\n"
   ]
  },
  {
   "cell_type": "code",
   "execution_count": 45,
   "metadata": {},
   "outputs": [
    {
     "data": {
      "text/plain": [
       "0.3908614932109904"
      ]
     },
     "execution_count": 45,
     "metadata": {},
     "output_type": "execute_result"
    }
   ],
   "source": [
    "# 4.5 ORIGINAL CODE\n",
    "C.loc['p','q']/C.loc['q','q']"
   ]
  },
  {
   "cell_type": "code",
   "execution_count": 46,
   "metadata": {},
   "outputs": [
    {
     "name": "stdout",
     "output_type": "stream",
     "text": [
      "0.05938124713329541\n",
      "0.15192401442636075\n"
     ]
    },
    {
     "data": {
      "text/plain": [
       "0.3908614932109904"
      ]
     },
     "execution_count": 46,
     "metadata": {},
     "output_type": "execute_result"
    }
   ],
   "source": [
    "# 4.5 CODE ABOVE WITH COMMENTS AND PRINTING\n",
    "print(C.loc['p','q'])\n",
    "\n",
    "print(C.loc['q','q'])\n",
    "\n",
    "C.loc['p','q']/C.loc['q','q']"
   ]
  },
  {
   "cell_type": "markdown",
   "metadata": {},
   "source": [
    "And learn about the probability density&#x2026;\n",
    "\n"
   ]
  },
  {
   "cell_type": "code",
   "execution_count": 47,
   "metadata": {},
   "outputs": [
    {
     "data": {
      "image/png": "[encoded data removed]",
      "text/plain": [
       "<Figure size 432x288 with 1 Axes>"
      ]
     },
     "metadata": {
      "needs_background": "light"
     },
     "output_type": "display_data"
    }
   ],
   "source": [
    "# 4.6 ORIGINAL CODE\n",
    "from scipy import stats\n",
    "import numpy as np\n",
    "\n",
    "# Estimate joint density of (q,p)\n",
    "pdf = stats.gaussian_kde(df.T).pdf \n",
    "\n",
    "ax = df.plot.scatter(x='q',y='p')\n",
    "\n",
    "v = ax.axis()\n",
    "Q = np.mgrid[v[0]:v[1]:100j].tolist()\n",
    "P = np.mgrid[v[2]:v[3]:100j].tolist()\n",
    "\n",
    "_ = ax.contour(Q,P,np.array([[pdf((q,p))[0] for p in P] for q in Q]))"
   ]
  },
  {
   "cell_type": "markdown",
   "metadata": {},
   "source": [
    "#### Counterfactual Demand & Supply Schedules\n",
    "\n"
   ]
  },
  {
   "cell_type": "markdown",
   "metadata": {},
   "source": [
    "What are the actual *counterfactual* demand and\n",
    "supply schedules?  This is the kind of thing that Frisch described as\n",
    "&ldquo;hypothetical experiments.&rdquo;  The schedules respond to shocks $u$ and $v$, respectively,\n",
    "yielding\n",
    "\n"
   ]
  },
  {
   "cell_type": "code",
   "execution_count": 48,
   "metadata": {},
   "outputs": [
    {
     "data": {
      "image/png": "[encoded data removed]",
      "text/plain": [
       "<Figure size 432x288 with 1 Axes>"
      ]
     },
     "metadata": {
      "needs_background": "light"
     },
     "output_type": "display_data"
    }
   ],
   "source": [
    "# 4.7 ORIGINAL CODE\n",
    "qmax = df['q'].max()\n",
    "qmin = df['q'].min()\n",
    "\n",
    "Q = pd.DataFrame({'min':np.maximum(0,df['q']-0.3*(qmax-qmin)),\n",
    "                  'max':np.minimum(qmax*1.2,df['q']+0.3*(qmax-qmin)),\n",
    "                  'miss':-1})\n",
    "\n",
    "# Inverse counterfactual demand & supply (for plotting)\n",
    "D = Q.add(-Udf['u'],axis=0)/α  \n",
    "S = Q.add(-Udf['v'],axis=0)/β\n",
    "\n",
    "counterfactual=pd.DataFrame({'S':S.stack(),\n",
    "                             'D':D.stack(),\n",
    "                             'Q':Q.stack()})\n",
    "\n",
    "counterfactual=counterfactual.replace(-1,np.nan)\n",
    "\n",
    "_ = counterfactual.plot(x='Q')"
   ]
  },
  {
   "cell_type": "markdown",
   "metadata": {},
   "source": [
    "#### Controlling Price\n",
    "\n"
   ]
  },
  {
   "cell_type": "markdown",
   "metadata": {},
   "source": [
    "Consider the question: what would expected demand be if we *fixed*\n",
    "    the price at $p_0$?  Expected supply?\n",
    "\n"
   ]
  },
  {
   "cell_type": "markdown",
   "metadata": {},
   "source": [
    "#### Average Causal Effect of a Change in Price\n",
    "\n"
   ]
  },
  {
   "cell_type": "markdown",
   "metadata": {},
   "source": [
    "What would expected demand be if we *observed* that the price was $p_0$?\n",
    "\n"
   ]
  },
  {
   "cell_type": "markdown",
   "metadata": {},
   "source": [
    "#### Price Change /Ceteris Paribus/\n",
    "\n"
   ]
  },
  {
   "cell_type": "markdown",
   "metadata": {},
   "source": [
    "Suppose we *observe* prices and quantities $(p_0,q_0)$.  How *would*\n",
    "    we expect the quantity demanded to change if prices were instead\n",
    "    fixed at $p_1$, *ceteris paribus*?\n",
    "\n"
   ]
  },
  {
   "cell_type": "markdown",
   "metadata": {},
   "source": [
    "## Final Word"
   ]
  },
  {
   "cell_type": "markdown",
   "metadata": {},
   "source": [
    "TBD"
   ]
  }
 ],
 "metadata": {
  "kernelspec": {
   "display_name": "Python 3",
   "language": "python",
   "name": "python3"
  },
  "language_info": {
   "codemirror_mode": {
    "name": "ipython",
    "version": 3
   },
   "file_extension": ".py",
   "mimetype": "text/x-python",
   "name": "python",
   "nbconvert_exporter": "python",
   "pygments_lexer": "ipython3",
   "version": "3.6.9"
  },
  "org": null
 },
 "nbformat": 4,
 "nbformat_minor": 4
}
